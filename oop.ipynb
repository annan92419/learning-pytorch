{
 "cells": [
  {
   "cell_type": "markdown",
   "id": "593cb2ff",
   "metadata": {},
   "source": [
    "### Creating a class"
   ]
  },
  {
   "cell_type": "code",
   "execution_count": 1,
   "id": "5dcf54ad",
   "metadata": {},
   "outputs": [],
   "source": [
    "class Mycounter:\n",
    "    def set_count(self, n):\n",
    "        self.count = n"
   ]
  },
  {
   "cell_type": "code",
   "execution_count": 2,
   "id": "13e642b1",
   "metadata": {},
   "outputs": [],
   "source": [
    "mc = Mycounter()"
   ]
  },
  {
   "cell_type": "code",
   "execution_count": 9,
   "id": "72cf4b4f",
   "metadata": {},
   "outputs": [],
   "source": [
    "mc.set_count(5)\n",
    "mc.count += 1"
   ]
  },
  {
   "cell_type": "code",
   "execution_count": 10,
   "id": "fef97b45",
   "metadata": {},
   "outputs": [
    {
     "name": "stdout",
     "output_type": "stream",
     "text": [
      "6\n"
     ]
    }
   ],
   "source": [
    "print(mc.count)"
   ]
  },
  {
   "cell_type": "code",
   "execution_count": null,
   "id": "67e1e2be",
   "metadata": {},
   "outputs": [],
   "source": []
  }
 ],
 "metadata": {
  "kernelspec": {
   "display_name": "Python 3 (ipykernel)",
   "language": "python",
   "name": "python3"
  },
  "language_info": {
   "codemirror_mode": {
    "name": "ipython",
    "version": 3
   },
   "file_extension": ".py",
   "mimetype": "text/x-python",
   "name": "python",
   "nbconvert_exporter": "python",
   "pygments_lexer": "ipython3",
   "version": "3.11.4"
  }
 },
 "nbformat": 4,
 "nbformat_minor": 5
}

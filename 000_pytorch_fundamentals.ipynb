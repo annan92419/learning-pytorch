{
  "nbformat": 4,
  "nbformat_minor": 0,
  "metadata": {
    "colab": {
      "provenance": []
    },
    "kernelspec": {
      "name": "python3",
      "display_name": "Python 3"
    },
    "language_info": {
      "name": "python"
    }
  },
  "cells": [
    {
      "cell_type": "code",
      "execution_count": 1,
      "metadata": {
        "id": "-tmQRGay3Z3D",
        "colab": {
          "base_uri": "https://localhost:8080/"
        },
        "outputId": "a61d81f7-1ec9-4b78-f266-e22bd92110d9"
      },
      "outputs": [
        {
          "output_type": "stream",
          "name": "stdout",
          "text": [
            "Hello I am excited to learn PyTorch\n"
          ]
        }
      ],
      "source": [
        "print('Hello I am excited to learn PyTorch')"
      ]
    },
    {
      "cell_type": "markdown",
      "source": [
        "**Introduction to Tensors** <br>\n",
        "PyTorch tensors are created using torch.Tensor() = https://pytorch.org/docs/stable/tensors.html"
      ],
      "metadata": {
        "id": "PG5VuqSL8-zA"
      }
    },
    {
      "cell_type": "code",
      "source": [
        "import torch\n",
        "torch.__version__"
      ],
      "metadata": {
        "colab": {
          "base_uri": "https://localhost:8080/",
          "height": 36
        },
        "id": "oqMIdTwk8AMx",
        "outputId": "54add4f7-d8af-40c5-cb22-32509efd0ccd"
      },
      "execution_count": 2,
      "outputs": [
        {
          "output_type": "execute_result",
          "data": {
            "text/plain": [
              "'2.0.1+cu118'"
            ],
            "application/vnd.google.colaboratory.intrinsic+json": {
              "type": "string"
            }
          },
          "metadata": {},
          "execution_count": 2
        }
      ]
    },
    {
      "cell_type": "code",
      "source": [
        "# scalar - 0 dim tensors\n",
        "scalar = torch.tensor(7)\n",
        "print(scalar, scalar.ndim) # .ndim outputs the dimension of the tensor\n",
        "print(scalar.item()) # converts tensor to regular python int"
      ],
      "metadata": {
        "id": "e6d4W5V-8Vng",
        "outputId": "a9eee822-ee54-4665-b1aa-6ef30cfef7fc",
        "colab": {
          "base_uri": "https://localhost:8080/"
        }
      },
      "execution_count": 6,
      "outputs": [
        {
          "output_type": "stream",
          "name": "stdout",
          "text": [
            "tensor(7) 0\n",
            "7\n"
          ]
        }
      ]
    },
    {
      "cell_type": "code",
      "source": [
        "# vector - 1 dim tensors\n",
        "vector = torch.tensor([4, 5])\n",
        "print(vector, vector.ndim)\n",
        "print(vector.shape) # 2x1 vector"
      ],
      "metadata": {
        "id": "qbjYm2WF-6OB",
        "outputId": "58cdde16-4e5f-4846-96a9-5bfdddd778c9",
        "colab": {
          "base_uri": "https://localhost:8080/"
        }
      },
      "execution_count": 11,
      "outputs": [
        {
          "output_type": "stream",
          "name": "stdout",
          "text": [
            "tensor([4, 5]) 1\n",
            "torch.Size([2])\n"
          ]
        }
      ]
    },
    {
      "cell_type": "code",
      "source": [
        "# matrix - 2 dim tensors\n",
        "mat = torch.tensor([[4, 5],\n",
        "                    [4, 3]])\n",
        "print(mat, mat.ndim)\n",
        "print(mat.shape) # 2x2 matrix"
      ],
      "metadata": {
        "id": "xy2CqMPhABrb",
        "outputId": "1cf4e64c-c78c-4c98-85c4-b41dfa634b6f",
        "colab": {
          "base_uri": "https://localhost:8080/"
        }
      },
      "execution_count": 14,
      "outputs": [
        {
          "output_type": "stream",
          "name": "stdout",
          "text": [
            "tensor([[4, 5],\n",
            "        [4, 3]]) 2\n",
            "torch.Size([2, 2])\n"
          ]
        }
      ]
    },
    {
      "cell_type": "markdown",
      "source": [
        "![picture](https://raw.githubusercontent.com/mrdbourke/pytorch-deep-learning/main/images/00-pytorch-different-tensor-dimensions.png)"
      ],
      "metadata": {
        "id": "zmslS1A9CUoR"
      }
    },
    {
      "cell_type": "code",
      "source": [
        "# tensor - n dim\n",
        "tens = torch.tensor([[[4, 3, 4],\n",
        "                      [4, 2, 1],\n",
        "                      [9, 0, 7]]])\n",
        "print(tens, tens.ndim)\n",
        "print(tens.shape)"
      ],
      "metadata": {
        "id": "oOGYMAFMAh1Q",
        "outputId": "756bcbe6-33e6-414e-a461-be8e42b8e7d6",
        "colab": {
          "base_uri": "https://localhost:8080/"
        }
      },
      "execution_count": 17,
      "outputs": [
        {
          "output_type": "stream",
          "name": "stdout",
          "text": [
            "tensor([[[4, 3, 4],\n",
            "         [4, 2, 1],\n",
            "         [9, 0, 7]]]) 3\n",
            "torch.Size([1, 3, 3])\n"
          ]
        }
      ]
    },
    {
      "cell_type": "code",
      "source": [],
      "metadata": {
        "id": "US2v_tdiBBsy"
      },
      "execution_count": null,
      "outputs": []
    }
  ]
}
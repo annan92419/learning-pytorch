{
  "nbformat": 4,
  "nbformat_minor": 0,
  "metadata": {
    "colab": {
      "provenance": []
    },
    "kernelspec": {
      "name": "python3",
      "display_name": "Python 3"
    },
    "language_info": {
      "name": "python"
    }
  },
  "cells": [
    {
      "cell_type": "code",
      "execution_count": 1,
      "metadata": {
        "id": "-tmQRGay3Z3D",
        "colab": {
          "base_uri": "https://localhost:8080/"
        },
        "outputId": "11ea9a95-6b7d-4125-9efe-87b58686ed57"
      },
      "outputs": [
        {
          "output_type": "stream",
          "name": "stdout",
          "text": [
            "Hello I am excited to learn PyTorch\n"
          ]
        }
      ],
      "source": [
        "print('Hello I am excited to learn PyTorch')"
      ]
    },
    {
      "cell_type": "markdown",
      "source": [
        "Introduction to Pytorch"
      ],
      "metadata": {
        "id": "PG5VuqSL8-zA"
      }
    },
    {
      "cell_type": "code",
      "source": [
        "import torch\n",
        "torch.__version__"
      ],
      "metadata": {
        "colab": {
          "base_uri": "https://localhost:8080/",
          "height": 35
        },
        "id": "oqMIdTwk8AMx",
        "outputId": "a8b15eef-9aef-4c15-db56-256008fe8a0f"
      },
      "execution_count": 4,
      "outputs": [
        {
          "output_type": "execute_result",
          "data": {
            "text/plain": [
              "'2.0.1+cu118'"
            ],
            "application/vnd.google.colaboratory.intrinsic+json": {
              "type": "string"
            }
          },
          "metadata": {},
          "execution_count": 4
        }
      ]
    },
    {
      "cell_type": "code",
      "source": [],
      "metadata": {
        "id": "e6d4W5V-8Vng"
      },
      "execution_count": null,
      "outputs": []
    }
  ]
}
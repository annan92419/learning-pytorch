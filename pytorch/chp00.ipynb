{
 "cells": [
  {
   "cell_type": "markdown",
   "id": "3b989120-37b1-4ff1-add3-fda7d46b934e",
   "metadata": {},
   "source": [
    "# TORCH BASICS"
   ]
  },
  {
   "cell_type": "markdown",
   "id": "255fba21-929e-437f-9d65-a8c759a5df3c",
   "metadata": {},
   "source": [
    "### reshaping, stacking, squeezing, and unsqueezing tensors\n",
    "\n",
    "- **reshaping:** reshapes an input tensro to a defined shpae\n",
    "- **view:** return a view of an input tensor of certain shape but keep the same memory as the original tensor\n",
    "- **stacking:** combine multiple tensors on top of each other (vstack) or side by side (hstack)\n",
    "- **squeeze:** removes all `1` dimensions from a tensor\n",
    "- **unsqueeze:** add a `1` dimesion to a target tensor\n",
    "- **permute:** return a view of the input with dimensions swapped in a certain way"
   ]
  },
  {
   "cell_type": "code",
   "execution_count": 1,
   "id": "a5a92eda-037a-44e7-a85c-16f43fd5fee8",
   "metadata": {},
   "outputs": [
    {
     "data": {
      "text/plain": [
       "(tensor([1., 2., 3., 4., 5., 6., 7., 8., 9.]), torch.Size([9]))"
      ]
     },
     "execution_count": 1,
     "metadata": {},
     "output_type": "execute_result"
    }
   ],
   "source": [
    "import torch\n",
    "\n",
    "x = torch.arange(1., 10.)\n",
    "x, x.shape"
   ]
  },
  {
   "cell_type": "code",
   "execution_count": 2,
   "id": "b39c548f-b5ec-4d2c-be03-9cb5ee27ee33",
   "metadata": {},
   "outputs": [
    {
     "data": {
      "text/plain": [
       "(tensor([[1., 2., 3.],\n",
       "         [4., 5., 6.],\n",
       "         [7., 8., 9.]]),\n",
       " torch.Size([3, 3]))"
      ]
     },
     "execution_count": 2,
     "metadata": {},
     "output_type": "execute_result"
    }
   ],
   "source": [
    "# add an extra dimension\n",
    "x_reshaped = x.reshape(3,3)\n",
    "x_reshaped, x_reshaped.shape"
   ]
  },
  {
   "cell_type": "code",
   "execution_count": 3,
   "id": "fb3a5c5e-1d29-4b10-b92b-476310168b98",
   "metadata": {},
   "outputs": [
    {
     "name": "stdout",
     "output_type": "stream",
     "text": [
      "tensor([[1., 2., 3., 4., 5., 6., 7., 8., 9.]]) torch.Size([1, 9])\n",
      "z: tensor([[  1.,   2.,   3.,   4., 999.,   6.,   7.,   8.,   9.]]) \n",
      "x: tensor([  1.,   2.,   3.,   4., 999.,   6.,   7.,   8.,   9.])\n"
     ]
    }
   ],
   "source": [
    "# change the view\n",
    "z = x.view(1, 9)\n",
    "print(z, z.shape)\n",
    "\n",
    "# nb: chaing z changes z because a view of tensor shares the same memory\n",
    "z[:,4] = 999\n",
    "print(\n",
    "    f'z: {z} \\nx: {x}'\n",
    ")"
   ]
  },
  {
   "cell_type": "code",
   "execution_count": 4,
   "id": "6461ad9d-c680-4ced-a1f4-31c43c3e6da8",
   "metadata": {},
   "outputs": [
    {
     "data": {
      "text/plain": [
       "tensor([[  1.,   2.,   3.,   4., 999.,   6.,   7.,   8.,   9.],\n",
       "        [  1.,   2.,   3.,   4., 999.,   6.,   7.,   8.,   9.],\n",
       "        [  1.,   2.,   3.,   4., 999.,   6.,   7.,   8.,   9.]])"
      ]
     },
     "execution_count": 4,
     "metadata": {},
     "output_type": "execute_result"
    }
   ],
   "source": [
    "# stack tensors on top of each other (dim=0)\n",
    "x_stacked = torch.stack([x, x, x], dim=0)\n",
    "x_stacked"
   ]
  },
  {
   "cell_type": "code",
   "execution_count": 5,
   "id": "89dd1201-f3a1-4b65-963d-b1792f592f73",
   "metadata": {},
   "outputs": [
    {
     "data": {
      "text/plain": [
       "(torch.Size([9, 1]), torch.Size([9]))"
      ]
     },
     "execution_count": 5,
     "metadata": {},
     "output_type": "execute_result"
    }
   ],
   "source": [
    "# removing single dimension from a tensor\n",
    "y = x.view(9,1) # adding a dimension of 1 to the tensor\n",
    "\n",
    "y_squeezed = y.squeeze()\n",
    "y.shape, y_squeezed.shape"
   ]
  },
  {
   "cell_type": "code",
   "execution_count": 6,
   "id": "78c6690c-4beb-4b1c-827d-b566ea347074",
   "metadata": {},
   "outputs": [
    {
     "name": "stdout",
     "output_type": "stream",
     "text": [
      "z original: tensor([[  1.,   2.,   3.,   4., 999.,   6.,   7.,   8.,   9.]]) \n",
      "z original shape: torch.Size([1, 9])\n",
      "z unsqueezed: tensor([[[  1.],\n",
      "         [  2.],\n",
      "         [  3.],\n",
      "         [  4.],\n",
      "         [999.],\n",
      "         [  6.],\n",
      "         [  7.],\n",
      "         [  8.],\n",
      "         [  9.]]]) \n",
      "z unsqueezed shape: torch.Size([1, 9, 1])\n"
     ]
    }
   ],
   "source": [
    "# adding single dimension to a tensor\n",
    "print(\n",
    "    f'z original: {z} \\nz original shape: {z.shape}'\n",
    ")\n",
    "print(\n",
    "    f'z unsqueezed: {z.unsqueeze(-1)} \\nz unsqueezed shape: {z.unsqueeze(-1).shape}'\n",
    ")"
   ]
  },
  {
   "cell_type": "code",
   "execution_count": 7,
   "id": "3d94cc8e-d832-4d20-a214-a7996d0d8ff2",
   "metadata": {},
   "outputs": [
    {
     "name": "stdout",
     "output_type": "stream",
     "text": [
      "torch.Size([1, 9, 1])\n",
      "torch.Size([1, 1, 9])\n"
     ]
    },
    {
     "data": {
      "text/plain": [
       "(tensor([[[   1.],\n",
       "          [   2.],\n",
       "          [-100.],\n",
       "          [   4.],\n",
       "          [ 999.],\n",
       "          [   6.],\n",
       "          [   7.],\n",
       "          [   8.],\n",
       "          [   9.]]]),\n",
       " tensor([[[   1.,    2., -100.,    4.,  999.,    6.,    7.,    8.,    9.]]]))"
      ]
     },
     "execution_count": 7,
     "metadata": {},
     "output_type": "execute_result"
    }
   ],
   "source": [
    "# rearranging the dimensions of a tensor\n",
    "w = z.unsqueeze(-1)\n",
    "print(w.shape)\n",
    "\n",
    "w_permuted = w.permute(0, 2, 1) # swapped dim=1 with dim=2\n",
    "print(w_permuted.shape)\n",
    "\n",
    "# nb: this function also creates a view of the original tensor (i.e change w, changes w_permuted)\n",
    "w[0, 2, 0] = -100\n",
    "w, w_permuted"
   ]
  },
  {
   "cell_type": "code",
   "execution_count": 8,
   "id": "40c5aa4e-b03a-40ef-b792-d746e57de07d",
   "metadata": {},
   "outputs": [
    {
     "data": {
      "text/plain": [
       "(tensor([[[   1.],\n",
       "          [   2.],\n",
       "          [-100.],\n",
       "          [   4.],\n",
       "          [ 999.],\n",
       "          [   6.],\n",
       "          [   7.],\n",
       "          [   8.],\n",
       "          [   9.]]]),\n",
       " 3)"
      ]
     },
     "execution_count": 8,
     "metadata": {},
     "output_type": "execute_result"
    }
   ],
   "source": [
    "w, w.dim()"
   ]
  },
  {
   "cell_type": "code",
   "execution_count": 9,
   "id": "ee31d4b8-e14f-4dbb-bd65-7a62e018b729",
   "metadata": {},
   "outputs": [
    {
     "data": {
      "text/plain": [
       "3"
      ]
     },
     "execution_count": 9,
     "metadata": {},
     "output_type": "execute_result"
    }
   ],
   "source": [
    "w_permuted.dim()"
   ]
  },
  {
   "cell_type": "code",
   "execution_count": 10,
   "id": "74ccba87-6758-4cd4-b8a7-fa1ed9112ff4",
   "metadata": {},
   "outputs": [],
   "source": [
    "x = torch.arange(1, 10).reshape(1,3,3)"
   ]
  },
  {
   "cell_type": "code",
   "execution_count": 11,
   "id": "9daf8c20-e141-4696-940e-c57c24877eb3",
   "metadata": {},
   "outputs": [
    {
     "data": {
      "text/plain": [
       "tensor([[[1, 2, 3],\n",
       "         [4, 5, 6],\n",
       "         [7, 8, 9]]])"
      ]
     },
     "execution_count": 11,
     "metadata": {},
     "output_type": "execute_result"
    }
   ],
   "source": [
    "x"
   ]
  },
  {
   "cell_type": "code",
   "execution_count": 12,
   "id": "86ba32ce-7eab-404f-829e-a891c8481ed2",
   "metadata": {},
   "outputs": [
    {
     "data": {
      "text/plain": [
       "tensor(9)"
      ]
     },
     "execution_count": 12,
     "metadata": {},
     "output_type": "execute_result"
    }
   ],
   "source": [
    "x[0,2,2]#.item()"
   ]
  },
  {
   "cell_type": "code",
   "execution_count": 13,
   "id": "87b6f395-f330-47d0-8900-52f52848e5a7",
   "metadata": {},
   "outputs": [
    {
     "data": {
      "text/plain": [
       "tensor([3, 6, 9])"
      ]
     },
     "execution_count": 13,
     "metadata": {},
     "output_type": "execute_result"
    }
   ],
   "source": [
    "x[0,:,2]"
   ]
  },
  {
   "cell_type": "markdown",
   "id": "361d6578-56d7-42ba-b4d0-078f5bdcb0fe",
   "metadata": {},
   "source": [
    "### pytorch tensors & numpy\n",
    "\n",
    "- `torch.from_numpy(ndarray)`: numpy array to tensor\n",
    "- `torch.Tenor.numpy()`: from torch tensor to numpy"
   ]
  },
  {
   "cell_type": "code",
   "execution_count": 14,
   "id": "6a65cf1d-6f96-4dea-949a-547df988f37f",
   "metadata": {},
   "outputs": [],
   "source": [
    "import torch\n",
    "import numpy as np"
   ]
  },
  {
   "cell_type": "code",
   "execution_count": 15,
   "id": "79d89050-815c-42bd-b019-b3f63d21e4d2",
   "metadata": {},
   "outputs": [
    {
     "data": {
      "text/plain": [
       "(array([1, 2, 3, 4, 5, 6, 7, 8, 9]), tensor([1, 2, 3, 4, 5, 6, 7, 8, 9]))"
      ]
     },
     "execution_count": 15,
     "metadata": {},
     "output_type": "execute_result"
    }
   ],
   "source": [
    "# from numpy to tensor\n",
    "array = np.arange(1, 10)\n",
    "tensor = torch.from_numpy(array)\n",
    "\n",
    "array, tensor"
   ]
  },
  {
   "cell_type": "code",
   "execution_count": 16,
   "id": "877f92ca-6572-4aab-981b-35a6e7fbb8f0",
   "metadata": {},
   "outputs": [
    {
     "data": {
      "text/plain": [
       "(array([20, 21, 22, 23, 24, 25, 26, 27, 28, 29]),\n",
       " tensor([20, 21, 22, 23, 24, 25, 26, 27, 28, 29]))"
      ]
     },
     "execution_count": 16,
     "metadata": {},
     "output_type": "execute_result"
    }
   ],
   "source": [
    "# from tensor to numpy\n",
    "tensor2 = torch.arange(20, 30)\n",
    "array2 = tensor2.numpy()\n",
    "\n",
    "array2, tensor2"
   ]
  },
  {
   "cell_type": "markdown",
   "id": "f57c6ab0-1aaf-4531-aa48-a15d27b8f156",
   "metadata": {},
   "source": [
    "### reproducibililt in pytorch\n",
    "\n",
    "(trying to take random out of random using a random seed)\n",
    "\n",
    "in short how a neural network learns: \n",
    "\n",
    "`start with random numbers -> tensor operations -> update random numbers to try and make them better representations of the data -> again -> again -> again ...`"
   ]
  },
  {
   "cell_type": "code",
   "execution_count": 17,
   "id": "96c83e9a-c908-4f72-bb27-262d221370be",
   "metadata": {},
   "outputs": [
    {
     "data": {
      "text/plain": [
       "tensor([[False, False, False, False],\n",
       "        [False, False, False, False],\n",
       "        [False, False, False, False]])"
      ]
     },
     "execution_count": 17,
     "metadata": {},
     "output_type": "execute_result"
    }
   ],
   "source": [
    "random_tensor_a = torch.rand(3, 4) # produces random values every time this cell runs\n",
    "random_tensor_b = torch.rand(3, 4)\n",
    "\n",
    "random_tensor_a == random_tensor_b\n",
    "# it is rare to get smae values in both tensors"
   ]
  },
  {
   "cell_type": "code",
   "execution_count": 18,
   "id": "0aedafcb-1ae7-41ce-b76b-a4d019dc66d7",
   "metadata": {},
   "outputs": [
    {
     "data": {
      "text/plain": [
       "tensor([[True, True, True, True],\n",
       "        [True, True, True, True],\n",
       "        [True, True, True, True]])"
      ]
     },
     "execution_count": 18,
     "metadata": {},
     "output_type": "execute_result"
    }
   ],
   "source": [
    "import torch \n",
    "\n",
    "# set random seed \n",
    "torch.manual_seed(97)\n",
    "random_tensor_c = torch.rand(3, 4)\n",
    "torch.manual_seed(97)\n",
    "random_tensor_d = torch.rand(3, 4)\n",
    "\n",
    "random_tensor_c == random_tensor_d"
   ]
  },
  {
   "cell_type": "code",
   "execution_count": 19,
   "id": "03da9c1b-feb9-41bd-ad10-756383f97a77",
   "metadata": {},
   "outputs": [],
   "source": [
    "device = 'cuda' if torch.cuda.is_available() else 'cpu'"
   ]
  },
  {
   "cell_type": "code",
   "execution_count": 20,
   "id": "02db2b4d-1210-42a8-a649-75677a78fed4",
   "metadata": {},
   "outputs": [
    {
     "name": "stdout",
     "output_type": "stream",
     "text": [
      "cpu\n"
     ]
    }
   ],
   "source": [
    "print(device)"
   ]
  },
  {
   "cell_type": "code",
   "execution_count": null,
   "id": "a8183c35-f14d-4b71-8abd-0f05ddd1dee8",
   "metadata": {},
   "outputs": [],
   "source": []
  },
  {
   "cell_type": "code",
   "execution_count": null,
   "id": "b2b129fb-3ea0-4a69-b37c-5aef843da09f",
   "metadata": {},
   "outputs": [],
   "source": []
  },
  {
   "cell_type": "code",
   "execution_count": null,
   "id": "9743d3ea-0d25-49d8-b8e1-735447213024",
   "metadata": {},
   "outputs": [],
   "source": []
  },
  {
   "cell_type": "code",
   "execution_count": null,
   "id": "9872fb27-fbbd-4e9f-a7c3-e0b953c3ed54",
   "metadata": {},
   "outputs": [],
   "source": []
  },
  {
   "cell_type": "code",
   "execution_count": null,
   "id": "e9272add-5b18-4d99-bf0e-8b3262c944fe",
   "metadata": {},
   "outputs": [],
   "source": []
  },
  {
   "cell_type": "code",
   "execution_count": null,
   "id": "522b80d1-dc80-454b-99ab-87a9156c58ff",
   "metadata": {},
   "outputs": [],
   "source": []
  },
  {
   "cell_type": "code",
   "execution_count": null,
   "id": "0ad6f00b-b38b-44b4-920c-8b7b575d2808",
   "metadata": {},
   "outputs": [],
   "source": []
  }
 ],
 "metadata": {
  "kernelspec": {
   "display_name": "Python 3 (ipykernel)",
   "language": "python",
   "name": "python3"
  },
  "language_info": {
   "codemirror_mode": {
    "name": "ipython",
    "version": 3
   },
   "file_extension": ".py",
   "mimetype": "text/x-python",
   "name": "python",
   "nbconvert_exporter": "python",
   "pygments_lexer": "ipython3",
   "version": "3.10.12"
  }
 },
 "nbformat": 4,
 "nbformat_minor": 5
}

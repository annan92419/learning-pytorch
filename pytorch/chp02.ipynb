{
 "cells": [
  {
   "cell_type": "markdown",
   "metadata": {},
   "source": [
    "# pytorch neural network classification"
   ]
  },
  {
   "cell_type": "markdown",
   "metadata": {},
   "source": [
    "- **Regression** is predicting a number (chp1)\n",
    "- **Classification** is predicting a thing (this, chp2)\n",
    "\n",
    "![Mulclass classification workflow](./images/multiclass.png)"
   ]
  },
  {
   "cell_type": "markdown",
   "metadata": {},
   "source": [
    "| Binary | Multiclass |\n",
    "|--------|------------|\n",
    "| has only two categories eg: an image is either a dog or cat | has more than two categories eg: a picture of a dish could be sushi, steak, spag, or pizza |\n",
    "\n",
    "\n",
    "**what we're going to cover**\n",
    "- architecture of a neural network classification model\n",
    "- input shapes and output shapes of a classification model (features and labels)\n",
    "- creating custom data to view, fit on and predict on\n",
    "- steps in modelling\n",
    "  - creating a model, setting a loss function and optimizer, creating a training loop, evaluating a model\n",
    "- saving and loading models\n",
    "- harnessing the power of non-linearity\n",
    "- different classification evaluation methods"
   ]
  },
  {
   "cell_type": "markdown",
   "metadata": {},
   "source": [
    "### make classification data and get it ready"
   ]
  },
  {
   "cell_type": "code",
   "execution_count": null,
   "metadata": {},
   "outputs": [],
   "source": [
    "import sklearn \n",
    "from sklearn.datasets import make_circles \n",
    "import matplotlib.pyplot as plt \n",
    "import pandas as pd \n",
    "import numpy as np \n",
    "\n",
    "\n"
   ]
  },
  {
   "cell_type": "code",
   "execution_count": null,
   "metadata": {},
   "outputs": [],
   "source": [
    "# remember equation of a circle: x^2 + y^2 = 1\n",
    "# so the make_circles will produce two features and one target\n",
    "\n",
    "# make 1000 samples \n",
    "samples = 1000\n",
    "\n",
    "# create circles\n",
    "X, y = make_circles(samples,\n",
    "                    random_state=97,\n",
    "                    noise=0.03,\n",
    "                    )\n",
    "\n",
    "print( len(X), len(y) )\n",
    "print(\n",
    "    f'first few samples of X: {X[:5]} \\nfirst few samples of y: {y[:5]}'\n",
    ")"
   ]
  },
  {
   "cell_type": "code",
   "execution_count": null,
   "metadata": {},
   "outputs": [],
   "source": [
    "# make a dataframe of circles data\n",
    "\n",
    "circlesdf = pd.DataFrame({'X1': X[:, 0],\n",
    "                          'X2': X[:, 1],\n",
    "                          'label': y}\n",
    "                          )\n",
    "circlesdf.head()"
   ]
  },
  {
   "cell_type": "code",
   "execution_count": null,
   "metadata": {},
   "outputs": [],
   "source": [
    "# visualize the circlesdf\n",
    "plt.scatter(x=circlesdf.iloc[:,0],\n",
    "            y=circlesdf.iloc[:,1],\n",
    "            c=circlesdf.iloc[:,2],\n",
    "            cmap=plt.cm.RdYlBu)\n",
    "plt.show()"
   ]
  },
  {
   "cell_type": "code",
   "execution_count": null,
   "metadata": {},
   "outputs": [],
   "source": [
    "circlesdf.iloc[:,1]"
   ]
  },
  {
   "cell_type": "code",
   "execution_count": null,
   "metadata": {},
   "outputs": [],
   "source": [
    "import numpy as np \n",
    "import pandas as pd \n",
    "import matplotlib.pyplot as plt \n",
    "import sklearn \n",
    "from sklearn.datasets import make_circles \n",
    "\n",
    "\n",
    "RANDOM_STATE = 97 # random variable for all random states"
   ]
  },
  {
   "cell_type": "markdown",
   "metadata": {},
   "source": [
    "### creating a toy dataset for our classification task"
   ]
  },
  {
   "cell_type": "code",
   "execution_count": null,
   "metadata": {},
   "outputs": [],
   "source": [
    "samples = 1000 # number of samples\n",
    "X, y = make_circles(samples, \n",
    "                    random_state=RANDOM_STATE,\n",
    "                    noise=0.07)\n",
    "\n",
    "# creating a dataframe for our top dataset \n",
    "circles_df = pd.DataFrame({'x1': X[:,0],\n",
    "                           'x2': X[:,1],\n",
    "                           'label':y})\n",
    "circles_df.head()"
   ]
  },
  {
   "cell_type": "code",
   "execution_count": null,
   "metadata": {},
   "outputs": [],
   "source": [
    "# vizualize, vizualize, visualize our data\n",
    "plt.figure(figsize=(5,5))\n",
    "plt.scatter(x=circles_df['x1'], y=circles_df['x2'], c=circles_df['label'], cmap=plt.cm.RdYlBu)\n",
    "plt.show()"
   ]
  },
  {
   "cell_type": "code",
   "execution_count": null,
   "metadata": {},
   "outputs": [],
   "source": [
    "# check input and output shapes\n",
    "X.shape, y.shape"
   ]
  },
  {
   "cell_type": "code",
   "execution_count": null,
   "metadata": {},
   "outputs": [],
   "source": [
    "X"
   ]
  },
  {
   "cell_type": "markdown",
   "metadata": {},
   "source": [
    "### convert data into tensors and create train and test splits"
   ]
  },
  {
   "cell_type": "code",
   "execution_count": null,
   "metadata": {},
   "outputs": [],
   "source": [
    "import torch "
   ]
  },
  {
   "cell_type": "markdown",
   "metadata": {},
   "source": [
    "the `.type(torch.float)` is used to convert the default float64 to float32"
   ]
  },
  {
   "cell_type": "code",
   "execution_count": null,
   "metadata": {},
   "outputs": [],
   "source": [
    "X = torch.from_numpy(X).type(torch.float)\n",
    "y = torch.from_numpy(y).type(torch.float)\n",
    "\n",
    "\n",
    "X[:5], y[:5]"
   ]
  },
  {
   "cell_type": "markdown",
   "metadata": {},
   "source": [
    "### splitting our data set into train and test sets"
   ]
  },
  {
   "cell_type": "code",
   "execution_count": null,
   "metadata": {},
   "outputs": [],
   "source": [
    "from sklearn.model_selection import train_test_split \n",
    "\n",
    "xtrain, xtest, ytrain, ytest = train_test_split(X,\n",
    "                                                y,\n",
    "                                                test_size=0.3,\n",
    "                                                shuffle=True,\n",
    "                                                random_state=RANDOM_STATE)\n",
    "\n",
    "len(xtrain), len(xtest), len(ytrain), len(ytest)\n",
    "\n",
    "\n"
   ]
  },
  {
   "cell_type": "markdown",
   "metadata": {},
   "source": [
    "### building a model to classify our blue and red dots\n",
    "\n",
    "to do list:\n",
    "- setup device agnostic code (put tensors on gpu if it exits)\n",
    "- construct a model \n",
    "- define a loss function and optimizer\n",
    "- create a training loop and test loop"
   ]
  },
  {
   "cell_type": "code",
   "execution_count": null,
   "metadata": {},
   "outputs": [],
   "source": [
    "import torch \n",
    "from torch import nn \n",
    "\n",
    "\n",
    "device = 'cuda' if torch.cuda.is_available() else 'cpu'"
   ]
  },
  {
   "cell_type": "code",
   "execution_count": null,
   "metadata": {},
   "outputs": [],
   "source": [
    "class CircleClassify(nn.Module):\n",
    "    def __init__(self):\n",
    "        super().__init__()\n",
    "        self.layer1 = nn.Linear(2, 5)\n",
    "        self.layer2 = nn.Linear(5, 1)\n",
    "\n",
    "    def forward(self, x):\n",
    "        x = self.layer1(x)\n",
    "        x = self.layer2(x)\n",
    "        return x\n",
    "    \n",
    "mdl = CircleClassify().to(device)\n",
    "mdl\n"
   ]
  },
  {
   "cell_type": "code",
   "execution_count": null,
   "metadata": {},
   "outputs": [],
   "source": [
    "mdl.state_dict()"
   ]
  },
  {
   "cell_type": "code",
   "execution_count": null,
   "metadata": {},
   "outputs": [],
   "source": [
    "# using nn.Sequential()\n",
    "\n",
    "class CircleMdl(nn.Module):\n",
    "    def __init__(self):\n",
    "        super().__init__()\n",
    "        self.feature_extractor = nn.Sequential(\n",
    "            nn.Linear(2, 5),\n",
    "            nn.Linear(5, 1),\n",
    "        )\n",
    "\n",
    "    def forward(self, x):\n",
    "        return self.feature_extractor(x)\n",
    "\n",
    "mdl2 = CircleMdl().to(device)\n",
    "mdl2 \n"
   ]
  },
  {
   "cell_type": "code",
   "execution_count": null,
   "metadata": {},
   "outputs": [],
   "source": [
    "mdl2.state_dict()"
   ]
  },
  {
   "cell_type": "code",
   "execution_count": null,
   "metadata": {},
   "outputs": [],
   "source": [
    "# make initial predictions \n",
    "with torch.inference_mode():\n",
    "    untrained_preds = mdl2(xtest.to(device))\n",
    "\n",
    "print(f'length of predictions: {len(untrained_preds)}, shape: {untrained_preds.shape}')\n",
    "print(f'length of test samples: {len(xtest)}, shape: {xtest.shape}')\n",
    "print(f'\\nfirst 10 predictions:\\n{untrained_preds[:10]}')\n",
    "print(f'\\nfirst 10 labels:\\n{ytest[:10]}')"
   ]
  },
  {
   "cell_type": "code",
   "execution_count": null,
   "metadata": {},
   "outputs": [],
   "source": []
  },
  {
   "cell_type": "markdown",
   "metadata": {},
   "source": [
    "- get dataset (visualize data)\n",
    "- split into train and test sets\n",
    "- create model\n",
    "- define loss function \n",
    "- choose optimizer\n",
    "- create training loop\n",
    "- create testing loop\n"
   ]
  },
  {
   "cell_type": "code",
   "execution_count": null,
   "metadata": {},
   "outputs": [],
   "source": [
    "import torch \n",
    "from torch import nn \n",
    "import matplotlib.pyplot as plt \n",
    "from sklearn.datasets import make_circles \n",
    "from sklearn.model_selection import train_test_split\n",
    "\n",
    "RANDOM_STATE = 29\n",
    "device = 'cuda' if torch.cuda.is_available() else 'cpu'"
   ]
  },
  {
   "cell_type": "code",
   "execution_count": null,
   "metadata": {},
   "outputs": [],
   "source": [
    "# creating toy dataset using the make circle from sklearn\n",
    "samples_size = 3000\n",
    "\n",
    "x, y = make_circles(samples_size,\n",
    "                    noise=.06,\n",
    "                    random_state=RANDOM_STATE)\n",
    "\n",
    "# visualizing the data\n",
    "plt.figure(figsize=(6,5))\n",
    "plt.scatter(x[:,0], x[:,1], c=y, cmap=plt.cm.RdYlBu)\n",
    "plt.title('Classification Toy Data')\n",
    "plt.show()"
   ]
  },
  {
   "cell_type": "code",
   "execution_count": null,
   "metadata": {},
   "outputs": [],
   "source": [
    "# converting arrays into tensors\n",
    "x = torch.from_numpy(x).type(torch.float).to(device) # converting it to torch32\n",
    "y = torch.from_numpy(y).type(torch.float).to(device)\n",
    "\n",
    "x.dtype, y.dtype"
   ]
  },
  {
   "cell_type": "code",
   "execution_count": null,
   "metadata": {},
   "outputs": [],
   "source": [
    "# splitting dataset into train and test sets\n",
    "xtrain, xtest, ytrain, ytest = train_test_split(x, y, shuffle=True, train_size=0.7, random_state=RANDOM_STATE)\n",
    "\n",
    "xtrain.shape, ytrain.shape, xtest.shape, ytest.shape "
   ]
  },
  {
   "cell_type": "code",
   "execution_count": null,
   "metadata": {},
   "outputs": [],
   "source": [
    "# creating a simple classification model\n",
    "\n",
    "class SimpleNet(nn.Module):\n",
    "    def __init__(self):\n",
    "        super().__init__()\n",
    "        self.layer1 = nn.Linear(2, 5)\n",
    "        self.layer2 = nn.Linear(5, 1)\n",
    "\n",
    "    def forward(self, x):\n",
    "        return self.layer2(self.layer1(x))\n",
    "    \n",
    "\n",
    "mymdl = SimpleNet().to(device)\n"
   ]
  },
  {
   "cell_type": "code",
   "execution_count": null,
   "metadata": {},
   "outputs": [],
   "source": [
    "# define loss function and choose optimizer \n",
    "criterion = nn.BCELoss() # binary cross entropy loss\n",
    "\n",
    "optimizer = torch.optim.Adam(mymdl.parameters(), lr=0.01)"
   ]
  },
  {
   "cell_type": "code",
   "execution_count": null,
   "metadata": {},
   "outputs": [],
   "source": []
  },
  {
   "cell_type": "code",
   "execution_count": null,
   "metadata": {},
   "outputs": [],
   "source": [
    "import torch \n",
    "from torch import nn \n",
    "import matplotlib.pyplot as plt \n",
    "from sklearn.datasets import make_circles \n",
    "from sklearn.model_selection import train_test_split \n",
    "from torchsummary import summary\n",
    "\n",
    "\n",
    "RANDOM_STATE = 28\n",
    "DEVICE = 'cuda' if torch.cuda.is_available() else 'cpu'"
   ]
  },
  {
   "cell_type": "code",
   "execution_count": null,
   "metadata": {},
   "outputs": [],
   "source": [
    "# dataset\n",
    "make_samples = 10000\n",
    "x, y = make_circles(\n",
    "    make_samples,\n",
    "    noise=0.07,\n",
    "    random_state=RANDOM_STATE\n",
    ")\n",
    "print(x.shape, y.shape)\n",
    "\n",
    "# visualize data\n",
    "plt.figure(figsize=(6,5)) \n",
    "plt.scatter(x[:,0], x[:,1], c=y, cmap=plt.cm.RdYlBu, s=3)\n",
    "plt.show()\n",
    "\n",
    "# create tensor dataset and split into train and test sets\n",
    "x = torch.from_numpy(x).type(torch.float)\n",
    "y = torch.from_numpy(y).type(torch.float)\n",
    "\n",
    "xtrain, xtest, ytrain, ytest = train_test_split(\n",
    "    x, y,\n",
    "    train_size=.7,\n",
    "    random_state=RANDOM_STATE\n",
    ")\n",
    "print(\n",
    "    f'Train set shape (x,y): {xtrain.shape}, {ytrain.unsqueeze_(-1).shape} \\\n",
    "    \\nTest set shape (x,y): {xtest.shape}, {ytest.unsqueeze_(-1).shape}'\n",
    ")"
   ]
  },
  {
   "cell_type": "code",
   "execution_count": null,
   "metadata": {},
   "outputs": [],
   "source": [
    "# creating model \n",
    "class BinaryClassifier(nn.Module):\n",
    "    def __init__(self, nclasses=2):\n",
    "        super().__init__()\n",
    "        self.layer1 = nn.Linear(2, 5)\n",
    "        self.layer2 = nn.Linear(5, 1)\n",
    "\n",
    "    def forward(self, x:torch.Tensor):\n",
    "        x = self.layer1(x)\n",
    "        x = self.layer2(x)\n",
    "        return x\n",
    "\n",
    "model = BinaryClassifier()\n",
    "summary(model, (xtrain.shape))"
   ]
  },
  {
   "cell_type": "code",
   "execution_count": null,
   "metadata": {},
   "outputs": [],
   "source": [
    "model.state_dict()"
   ]
  },
  {
   "cell_type": "code",
   "execution_count": null,
   "metadata": {},
   "outputs": [],
   "source": [
    "# make predictions with untrained parameters\n",
    "\n",
    "with torch.inference_mode():\n",
    "    untrained_preds = model(xtest)\n",
    "\n",
    "print(\n",
    "    f'untrained preds: \\n{untrained_preds[:5]}\\nGround truth \\n{ytest[:5]}'\n",
    ")"
   ]
  },
  {
   "cell_type": "markdown",
   "metadata": {},
   "source": [
    "**logits** are the raw values of a linear computation that is passed to an activation function. they become prediction probabilities when the are passed through an activation function (eg: sigmoid for binary classification, softmax for multi-class classification) <br>\n",
    "\n",
    "Common loss functions for binary classification and their difference\n",
    "\n",
    "| loss function | what has happened | \n",
    "|---------------|-------------------|\n",
    "| `nn.BCELoss()` | requires the logits to have gone through the sigmoid activation function and thus the inputs should be squashed btween 0 and 1 |\n",
    "| `nn.BCEWithLogitsLoss()` | has the sigmoid function built in so it requires the inputs to be logits |\n",
    "\n",
    "**NB: `nn.BCEWithLogitsLoss()` is more stable, and it is recommended to use that for binary classification**"
   ]
  },
  {
   "cell_type": "code",
   "execution_count": null,
   "metadata": {},
   "outputs": [],
   "source": [
    "# defining a loss function and choosing an optimizer\n",
    "criterion = nn.BCEWithLogitsLoss() # has the sigmoid activatio function built-in\n",
    "\n",
    "optimizer = torch.optim.SGD(model.parameters(), lr=0.1)\n",
    "\n",
    "# calculating accuracy - what percentage the model gets corrects\n",
    "\n",
    "def accuracy_fn(ytrue, ypred):\n",
    "    \"\"\" defining a custom accuracy function\"\"\"\n",
    "    correct = torch.eq(ytrue, ypred).sum().item()\n",
    "    acc = ( correct / len(ypred) ) * 100\n",
    "    return acc "
   ]
  },
  {
   "cell_type": "markdown",
   "metadata": {},
   "source": [
    "- get data\n",
    "- create model\n",
    "- define loss function \n",
    "- choose optimizer"
   ]
  },
  {
   "cell_type": "code",
   "execution_count": null,
   "metadata": {},
   "outputs": [],
   "source": [
    "import torch \n",
    "import torch.nn as nn \n",
    "import torch.optim as optim\n",
    "from sklearn.datasets import make_circles\n",
    "from sklearn.model_selection import train_test_split \n",
    "import matplotlib.pyplot as plt \n",
    "\n",
    "\n",
    "DEVICE = \"cuda\" if torch.cuda.is_available() else \"cpu\"\n",
    "RANDOM_STATE = 73 "
   ]
  },
  {
   "cell_type": "markdown",
   "metadata": {},
   "source": [
    "**dataset**"
   ]
  },
  {
   "cell_type": "code",
   "execution_count": null,
   "metadata": {},
   "outputs": [],
   "source": [
    "# creating random categorical dataset with two classes\n",
    "\n",
    "x, y = make_circles(5000, noise=0.07, random_state=RANDOM_STATE)\n",
    "x = torch.from_numpy(x).type(torch.float).to(DEVICE)\n",
    "y = torch.from_numpy(y).type(torch.float).unsqueeze(-1).to(DEVICE)\n",
    "\n",
    "xtrain, xtest, ytrain, ytest = train_test_split(x, y,\n",
    "                                                train_size=0.75,\n",
    "                                                random_state=RANDOM_STATE,\n",
    "                                                shuffle=True,\n",
    "                                                stratify=y)\n",
    "\n",
    "print(x[:5], y[:5])\n",
    "print(xtrain.shape, ytrain.shape, xtest.shape, ytest.shape)"
   ]
  },
  {
   "cell_type": "markdown",
   "metadata": {},
   "source": [
    "**visualize the data**"
   ]
  },
  {
   "cell_type": "code",
   "execution_count": null,
   "metadata": {},
   "outputs": [],
   "source": [
    "# visualize the data\n",
    "plt.figure(figsize=(6,5))\n",
    "plt.scatter(x[:,0], x[:,1], s=2, c=y, cmap=plt.cm.RdYlBu)\n",
    "plt.show()"
   ]
  },
  {
   "cell_type": "markdown",
   "metadata": {},
   "source": [
    "**create model**"
   ]
  },
  {
   "cell_type": "code",
   "execution_count": null,
   "metadata": {},
   "outputs": [],
   "source": [
    "# create model \n",
    "class BinClassification(nn.Module):\n",
    "    def __init__(self):\n",
    "        super().__init__()\n",
    "        self.classifier = nn.Sequential(\n",
    "            nn.Linear(in_features=2, out_features=5),\n",
    "            nn.Linear(in_features=5, out_features=1)    # binaary classification: output neuron = 1\n",
    "        )\n",
    "\n",
    "    def forward(self, x:torch.Tensor):\n",
    "        return self.classifier(x)\n",
    "\n",
    "torch.manual_seed(RANDOM_STATE)\n",
    "bcmdl = BinClassification().to(DEVICE)"
   ]
  },
  {
   "cell_type": "code",
   "execution_count": null,
   "metadata": {},
   "outputs": [],
   "source": [
    "bcmdl"
   ]
  },
  {
   "cell_type": "code",
   "execution_count": null,
   "metadata": {},
   "outputs": [],
   "source": [
    "bcmdl.state_dict() # current random parameters"
   ]
  },
  {
   "cell_type": "code",
   "execution_count": null,
   "metadata": {},
   "outputs": [],
   "source": [
    "# untrained weights for  predictions \n",
    "with torch.inference_mode():\n",
    "    predictions = bcmdl(xtest)\n",
    "\n",
    "print(predictions[:5])\n",
    "print(ytest[:5]) "
   ]
  },
  {
   "cell_type": "markdown",
   "metadata": {},
   "source": [
    "**evaluation metric, loss function, and optimizer**"
   ]
  },
  {
   "cell_type": "markdown",
   "metadata": {},
   "source": [
    "| optimizer | problem type | pytorch code |\n",
    "|-------------------------|--------------|--------------|\n",
    "| Stochastic Gradient Descent (SGD) optimizer | classification, regression, many others. | `torch.optim.SGD()` |\n",
    "| Adam Optimizer | classification, regression, many others. | `torch.optim.Adam()` |\n",
    "| | | |\n",
    "| **loss function** | **problem type** | **pytorch code** |\n",
    "| binary cross entropy loss | binary classification | `torch.nn.BCELossWithLogits` or `torch.nn.BCELoss` |\n",
    "| cross entropy loss | multi-class classification | `torch.nn.CrossEntropyLoss` |\n",
    "| mean absolute error (MAE) or L1 Loss | regression | `torch.nn.L1Loss` |\n",
    "| mean squared error (MSE) or L2 Loss | regression | `torch.nn.MSELoss` |\n",
    "\n"
   ]
  },
  {
   "cell_type": "code",
   "execution_count": null,
   "metadata": {},
   "outputs": [],
   "source": [
    "# evaluation metric\n",
    "def check_accuracy(prediction, ground_truth):\n",
    "    \"\"\"\n",
    "        CHECK ACCURACY:\n",
    "            Input: predicted values, ground truth values\n",
    "            Output: float \n",
    "\n",
    "            A simple code to calculate the percentage of\n",
    "            correctly predicted values.\n",
    "            i.e.: (true positives + true negatives) / total length \n",
    "    \"\"\"\n",
    "    correct = torch.eq(prediction, ground_truth).sum().item()\n",
    "    acc = correct / len(ground_truth)\n",
    "    return acc * 100"
   ]
  },
  {
   "cell_type": "code",
   "execution_count": null,
   "metadata": {},
   "outputs": [],
   "source": [
    "# loss and optimizer \n",
    "criterion = nn.BCEWithLogitsLoss()\n",
    "\n",
    "optimizer = optim.SGD(bcmdl.parameters(), lr=0.1)"
   ]
  },
  {
   "cell_type": "markdown",
   "metadata": {},
   "source": [
    "**again**\n",
    "\n",
    "- our model outputs are goint to be raw **logits**\n",
    "- we convert the logits into probabilities by passing it through an activation function (eg: sigmoid)\n",
    "- **then we can convert our model's prediction probabilities to prediction labels by either `rounding` (for binary classification) them or taking the `argmax()` (for multi-class classification)**\n",
    "\n",
    "for our prediction probability values, we need to perform a range-style rounding on them:\n",
    "- ypred >= 0.5, y = 1 (class 1)\n",
    "- ypred < 0.5, y = 0 (class 0)\n",
    "\n",
    "**raw logits -> prediction probabilities -> class prediction**"
   ]
  },
  {
   "cell_type": "markdown",
   "metadata": {},
   "source": [
    "**training loop and testing loop**"
   ]
  },
  {
   "cell_type": "code",
   "execution_count": null,
   "metadata": {},
   "outputs": [],
   "source": [
    "epochs = 50\n",
    "\n",
    "# put the data on target DEVICE\n",
    "xtrain, ytrain = xtrain.to(DEVICE), ytrain.to(DEVICE)\n",
    "xtest, ytest = xtest.to(DEVICE), ytest.to(DEVICE)\n",
    "\n",
    "for epoch in range(epochs):\n",
    "    # training loop \n",
    "    bcmdl.train()\n",
    "    optimizer.zero_grad()\n",
    "    ylogits = bcmdl(xtrain)#.squeeze()\n",
    "    trainloss = criterion(ylogits, ytrain)\n",
    "    trainloss.backward()\n",
    "    optimizer.step()\n",
    "\n",
    "    ypred = torch.round(torch.sigmoid(ylogits))\n",
    "    trainacc = check_accuracy(ypred, ytrain)\n",
    "\n",
    "    # evaluation loop\n",
    "    bcmdl.eval()\n",
    "    with torch.inference_mode():\n",
    "        y_logits = bcmdl(xtest)#.squeeze()\n",
    "        testloss = criterion(y_logits, ytest)\n",
    "\n",
    "        predict_y = torch.round(torch.sigmoid(y_logits))\n",
    "        testacc = check_accuracy(predict_y, ytest)\n",
    "\n",
    "    # print out what's happening \n",
    "    if epoch % 10 == 0: # after every 10 epochs\n",
    "        print(\n",
    "            f'Epoch: {epoch} | Loss: {trainloss:.5f} | Acc: {trainacc:.2f} % | Test Loss: {testloss:.5f} | Test Acc: {testacc:.2f} %'\n",
    "        )\n"
   ]
  },
  {
   "cell_type": "markdown",
   "metadata": {},
   "source": [
    "**comment: our model doesn't seem to be learning anything since the accuracy is bouding around 50%. Synonymous to guessing (coin flip) if a data point is red or a blue dot** <br>\n",
    "\n",
    "let's explore the possible reason this is occuring... visualize! visualize!! visualize!!!"
   ]
  },
  {
   "cell_type": "code",
   "execution_count": null,
   "metadata": {},
   "outputs": [],
   "source": [
    "from helper_functions import plot_decision_boundary"
   ]
  },
  {
   "cell_type": "code",
   "execution_count": null,
   "metadata": {},
   "outputs": [],
   "source": [
    "# plot decision boudning of our model \n",
    "plt.figure(figsize=(12,5))\n",
    "\n",
    "plt.subplot(1, 2, 1)\n",
    "plt.title('Train set')\n",
    "plot_decision_boundary(bcmdl, xtrain, ytrain)\n",
    "\n",
    "plt.subplot(1, 2, 2)\n",
    "plt.title('Test set')\n",
    "plot_decision_boundary(bcmdl, xtest, ytest)"
   ]
  },
  {
   "cell_type": "markdown",
   "metadata": {},
   "source": [
    "**comment: our model is creating a linear line because our model is essentially made up of linear layers (lines)**"
   ]
  },
  {
   "cell_type": "markdown",
   "metadata": {},
   "source": [
    "### Improving a model (from a model perspective)\n",
    "\n",
    "1. Add more layers - give the model more chances to learn about the patterns in the data ...*(in our model above we only have two layers, we can increase them)*\n",
    "\n",
    "2. Add more hidden units ...*(in our model above we could increase the hidden units from 5 to 10 or more to allow it to learn finer details of our data)*\n",
    "\n",
    "3. Fit for longer ...*(we can increase the number of epochs)*\n",
    "\n",
    "4. Change the learning rate ...*(we can reduce the lr=0.1 to a smaller number such as 0.01 or 0.001)*\n",
    "\n",
    "5. Change the loss function ...*(we can explore the numerous loss function availabe in the documentation and check the performance)*\n",
    "\n",
    "6. Change the optimizer ...*(we can use better optimization algorithm like RMSProp or Adam)*\n",
    "\n",
    "**NOTE: in practice (a scientist) changes one thing at a time to see which tweak changes the accuracy the most**\n"
   ]
  },
  {
   "cell_type": "code",
   "execution_count": null,
   "metadata": {},
   "outputs": [],
   "source": [
    "torch.manual_seed(RANDOM_STATE)\n",
    "\n",
    "# creating a larger model \n",
    "class LargeBinaryMdl(nn.Module):\n",
    "    def __init__(self):\n",
    "        super().__init__()\n",
    "        self.classifier = nn.Sequential(\n",
    "            nn.Linear(2, 12),\n",
    "            nn.ReLU(),\n",
    "            nn.Linear(12, 25),\n",
    "            nn.ReLU(),\n",
    "            nn.Linear(25, 1)\n",
    "        )\n",
    "    def forward(self, x:torch.Tensor):\n",
    "        return self.classifier(x)\n",
    "    \n",
    "model = LargeBinaryMdl().to(DEVICE)\n",
    "\n",
    "# setup a loss function and (better) optimizer\n",
    "loss_fn = nn.BCEWithLogitsLoss()\n",
    "optimizer = optim.Adam(model.parameters(), lr=0.1)\n"
   ]
  },
  {
   "cell_type": "code",
   "execution_count": null,
   "metadata": {},
   "outputs": [],
   "source": [
    "epochs = 100\n",
    "\n",
    "for epoch in range(epochs):\n",
    "    # training loop\n",
    "    model.train()\n",
    "    optimizer.zero_grad()\n",
    "    train_logits = model(xtrain)\n",
    "    train_loss = loss_fn(train_logits, ytrain)\n",
    "    train_loss.backward()\n",
    "    optimizer.step()\n",
    "    train_preds = torch.round(torch.sigmoid(train_logits))\n",
    "    train_acc = check_accuracy(train_preds, ytrain)\n",
    "\n",
    "    # evaluation loop\n",
    "    model.eval()\n",
    "    with torch.inference_mode():\n",
    "        test_logits = model(xtest)\n",
    "        test_loss = loss_fn(test_logits, ytest)\n",
    "        test_preds = torch.round(torch.sigmoid(test_logits))\n",
    "        test_acc = check_accuracy(test_preds, ytest)\n",
    "\n",
    "    # print what's happening \n",
    "    if epoch % 20 == 0:\n",
    "        print(\n",
    "            f'Epoch {epoch} | Loss {train_loss:.3f} | Acc {train_acc:.2f}% | Test Loss {test_loss:.3f} | Test Acc {test_acc:.2f}%'\n",
    "        )\n"
   ]
  },
  {
   "cell_type": "code",
   "execution_count": null,
   "metadata": {},
   "outputs": [],
   "source": [
    "# visualizing our new model's decision boundary \n",
    "plt.figure(figsize=(12, 5))\n",
    "# train set \n",
    "plt.subplot(1, 2, 1)\n",
    "plt.title('Model: BinClassification()')\n",
    "plot_decision_boundary(bcmdl, xtest, ytest)\n",
    "# test set\n",
    "plt.subplot(1, 2, 2)\n",
    "plt.title('Model: LargeBinaryMdl()')\n",
    "plot_decision_boundary(model, xtest, ytest)\n",
    "plt.show()"
   ]
  },
  {
   "cell_type": "markdown",
   "metadata": {},
   "source": [
    "### Putting it all together part1: building a multi-class classification problem \n",
    "\n",
    "- **Binary Classification** - one thing or anther (cat vs dog, spam vs. not spam, fraud or not fraud)\n",
    "- **Multi-class Classification** - more than one thing or another (cat vs. dog vs. hen)\n"
   ]
  },
  {
   "cell_type": "code",
   "execution_count": 1,
   "metadata": {},
   "outputs": [],
   "source": [
    "import torch \n",
    "import torch.nn as nn\n",
    "import torch.nn.functional as F\n",
    "import matplotlib.pyplot as plt\n",
    "from sklearn.datasets import make_blobs \n",
    "from sklearn.model_selection import train_test_split\n",
    "\n",
    "\n",
    "DEVICE = 'cuda' if torch.cuda.is_available() else 'cpu'\n",
    "RANDOM_STATE = 25       # 25. NURSE | 74. SKINNER | 93. NUGG"
   ]
  },
  {
   "cell_type": "markdown",
   "metadata": {},
   "source": [
    "**creating a toy multi-class dataset**"
   ]
  },
  {
   "cell_type": "code",
   "execution_count": 2,
   "metadata": {},
   "outputs": [
    {
     "name": "stdout",
     "output_type": "stream",
     "text": [
      "torch.Size([1000, 2]) torch.Size([1000, 1])\n"
     ]
    },
    {
     "data": {
      "image/png": "[encoded data removed]",
      "text/plain": [
       "<Figure size 600x500 with 1 Axes>"
      ]
     },
     "metadata": {},
     "output_type": "display_data"
    }
   ],
   "source": [
    "# set hyperparameters for data creation\n",
    "NUM_SAMPLES = 1000\n",
    "NUM_FEATURES = 2\n",
    "NUM_CLASSES = 4\n",
    "\n",
    "# 1. create multi-class data\n",
    "xblob, yblob = make_blobs(n_samples=NUM_SAMPLES,\n",
    "                          n_features=NUM_FEATURES,\n",
    "                          centers=NUM_CLASSES,\n",
    "                          cluster_std=1.5,       # give the clusters a little shake up\n",
    "                          random_state=RANDOM_STATE)\n",
    "\n",
    "# 2. turn data into tensors \n",
    "xblob = torch.from_numpy(xblob).type(torch.float)\n",
    "yblob = torch.from_numpy(yblob).unsqueeze(-1).type(torch.float)\n",
    "print(xblob.shape, yblob.shape)\n",
    "\n",
    "# 3. split into train and test sets then we put them on target DEVICE\n",
    "xblob_train, xblob_test, yblob_train, yblob_test = train_test_split(xblob, yblob,\n",
    "                                                                    stratify=yblob,\n",
    "                                                                    test_size=0.25,\n",
    "                                                                    shuffle=True,\n",
    "                                                                    random_state=RANDOM_STATE)\n",
    "xblob_train, yblob_train = xblob_train.to(DEVICE), yblob_train.to(DEVICE)\n",
    "xblob_test, yblob_test = xblob_test.to(DEVICE), yblob_test.to(DEVICE)\n",
    "\n",
    "# 4. plot data (visualize! visualize!! visualize!!!)\n",
    "plt.figure(figsize=(6, 5))\n",
    "plt.scatter(xblob[:,0], xblob[:,1], c=yblob, s=7, cmap=plt.cm.RdYlBu)\n",
    "plt.show()\n",
    "\n"
   ]
  },
  {
   "cell_type": "code",
   "execution_count": 3,
   "metadata": {},
   "outputs": [
    {
     "data": {
      "text/plain": [
       "(tensor([[ 4.4852,  2.0636],\n",
       "         [-5.1405, -8.6564],\n",
       "         [10.8447, -2.2462],\n",
       "         [ 9.2048,  1.0944],\n",
       "         [ 6.7810,  1.6513]]),\n",
       " tensor([[3.],\n",
       "         [1.],\n",
       "         [0.],\n",
       "         [0.],\n",
       "         [0.]]))"
      ]
     },
     "execution_count": 3,
     "metadata": {},
     "output_type": "execute_result"
    }
   ],
   "source": [
    "# a look at our dataset\n",
    "xblob_train[:5], yblob_train[:5]"
   ]
  },
  {
   "cell_type": "markdown",
   "metadata": {},
   "source": [
    "**building a multi-class classification model in pytorch**"
   ]
  },
  {
   "cell_type": "code",
   "execution_count": 4,
   "metadata": {},
   "outputs": [],
   "source": [
    "# model creation\n",
    "class BlobMdl(nn.Module):\n",
    "    def __init__(self, input_features:int, num_classes:int, hidden_units:int=8):\n",
    "        \"\"\" \n",
    "        Initializes multi-class classification model\n",
    "\n",
    "        Args:\n",
    "            input_features (int) - number of input features to the model\n",
    "            num_classes (int) - number of distinct clusters present in the data\n",
    "            hidden_units (int) - number of hidden units between layers [default = 8]\n",
    "\n",
    "        Returns:\n",
    "            Probability distribution of size num_classes         \n",
    "        \"\"\"\n",
    "        super().__init__()\n",
    "        self.linear_layer_stack = nn.Sequential(\n",
    "            nn.Linear(input_features, hidden_units),\n",
    "            nn.ReLU(),\n",
    "            nn.Linear(hidden_units, hidden_units),\n",
    "            nn.ReLU(),\n",
    "            nn.Linear(hidden_units, num_classes)\n",
    "        )\n",
    "\n",
    "    def forward(self, x:torch.Tensor):\n",
    "        return self.linear_layer_stack(x)\n",
    "        \n",
    "# model initialization\n",
    "MultMdl = BlobMdl(input_features=NUM_FEATURES,\n",
    "                  num_classes=NUM_CLASSES).to(DEVICE)\n"
   ]
  },
  {
   "cell_type": "code",
   "execution_count": 5,
   "metadata": {},
   "outputs": [
    {
     "data": {
      "text/plain": [
       "BlobMdl(\n",
       "  (linear_layer_stack): Sequential(\n",
       "    (0): Linear(in_features=2, out_features=8, bias=True)\n",
       "    (1): ReLU()\n",
       "    (2): Linear(in_features=8, out_features=8, bias=True)\n",
       "    (3): ReLU()\n",
       "    (4): Linear(in_features=8, out_features=4, bias=True)\n",
       "  )\n",
       ")"
      ]
     },
     "execution_count": 5,
     "metadata": {},
     "output_type": "execute_result"
    }
   ],
   "source": [
    "MultMdl"
   ]
  },
  {
   "cell_type": "code",
   "execution_count": 6,
   "metadata": {},
   "outputs": [
    {
     "data": {
      "text/plain": [
       "OrderedDict([('linear_layer_stack.0.weight',\n",
       "              tensor([[-0.4885, -0.2258],\n",
       "                      [ 0.6262,  0.0841],\n",
       "                      [ 0.4853, -0.0190],\n",
       "                      [ 0.0331, -0.2991],\n",
       "                      [-0.1947, -0.6546],\n",
       "                      [ 0.0627,  0.1307],\n",
       "                      [-0.5911,  0.1161],\n",
       "                      [-0.0383, -0.0830]])),\n",
       "             ('linear_layer_stack.0.bias',\n",
       "              tensor([-0.4992, -0.0440, -0.5834, -0.4528,  0.2112, -0.3750, -0.4980,  0.6488])),\n",
       "             ('linear_layer_stack.2.weight',\n",
       "              tensor([[ 0.0284,  0.2138,  0.0322, -0.0897,  0.2529,  0.2040, -0.2517, -0.2629],\n",
       "                      [-0.2694,  0.0224, -0.0518,  0.0449, -0.1877, -0.2687, -0.1249,  0.1750],\n",
       "                      [ 0.1463, -0.1011, -0.3053, -0.2878,  0.0276, -0.1038,  0.1439,  0.1812],\n",
       "                      [ 0.2787,  0.2283,  0.0350, -0.0114, -0.1667, -0.3463,  0.0903, -0.3096],\n",
       "                      [-0.2830, -0.3110, -0.0420,  0.2454, -0.1799, -0.0742,  0.2949,  0.2145],\n",
       "                      [ 0.2237, -0.0823,  0.3075,  0.2229,  0.0242,  0.2996, -0.0669,  0.1823],\n",
       "                      [-0.3024,  0.2905,  0.1128, -0.0587,  0.3521, -0.1780, -0.0060, -0.0527],\n",
       "                      [-0.0354,  0.2093, -0.0823, -0.2156,  0.1928,  0.3037, -0.0845,  0.2850]])),\n",
       "             ('linear_layer_stack.2.bias',\n",
       "              tensor([ 0.2523,  0.0217,  0.2359, -0.3157, -0.2685,  0.1682, -0.1382,  0.2095])),\n",
       "             ('linear_layer_stack.4.weight',\n",
       "              tensor([[-0.0557, -0.3189,  0.2900, -0.0419, -0.3186, -0.1169,  0.1297, -0.1689],\n",
       "                      [ 0.2744,  0.0916,  0.1821, -0.1704, -0.0258,  0.3058, -0.2737,  0.1863],\n",
       "                      [-0.3088, -0.0288, -0.3412, -0.3431, -0.2264, -0.1383, -0.3106, -0.2949],\n",
       "                      [-0.1182, -0.0965, -0.0542,  0.1545, -0.1044,  0.1175, -0.0503, -0.0953]])),\n",
       "             ('linear_layer_stack.4.bias',\n",
       "              tensor([-0.2063, -0.0288, -0.0302, -0.1223]))])"
      ]
     },
     "execution_count": 6,
     "metadata": {},
     "output_type": "execute_result"
    }
   ],
   "source": [
    "MultMdl.state_dict()"
   ]
  },
  {
   "cell_type": "markdown",
   "metadata": {},
   "source": [
    "**defining loss and choosing optimizer**"
   ]
  },
  {
   "cell_type": "code",
   "execution_count": 7,
   "metadata": {},
   "outputs": [],
   "source": [
    "criterion = nn.CrossEntropyLoss() # loss function\n",
    "\n",
    "optimizer = torch.optim.SGD(MultMdl.parameters(), lr=0.1) # optimization alg."
   ]
  },
  {
   "cell_type": "code",
   "execution_count": 8,
   "metadata": {},
   "outputs": [],
   "source": [
    "# evaluation metric\n",
    "def check_accuracy(prediction, ground_truth):\n",
    "    \"\"\"\n",
    "        Checks prediction accuracy:\n",
    "            \n",
    "        Args:\n",
    "            prediction - model's predicted values\n",
    "            ground_truth - labels of dataset\n",
    "            \n",
    "        Return:\n",
    "            acc [range: 0 - 100%] \n",
    "    \"\"\"\n",
    "    correct = torch.eq(prediction, ground_truth).sum().item()\n",
    "    acc = correct / len(ground_truth)\n",
    "    return acc * 100"
   ]
  },
  {
   "cell_type": "markdown",
   "metadata": {},
   "source": [
    "**comments: in order to evaluate and train and test our model, we need to convert our model's outputs (logits) to prediction probabilities and then to prediction labels.** \n",
    "\n",
    "**logits (mdl output) --> prediction probabilities (softmax) --> prediction labels (argmax)**"
   ]
  },
  {
   "cell_type": "code",
   "execution_count": 9,
   "metadata": {},
   "outputs": [
    {
     "data": {
      "text/plain": [
       "tensor([[-0.3671,  0.8792, -1.4975, -0.2778],\n",
       "        [-0.4232,  0.2750, -2.0013, -0.2628],\n",
       "        [-0.2525,  0.6419, -1.0288, -0.2332],\n",
       "        [-0.3907,  0.8377, -1.4744, -0.2869],\n",
       "        [-0.3829,  0.2355, -1.4781, -0.2462]])"
      ]
     },
     "execution_count": 9,
     "metadata": {},
     "output_type": "execute_result"
    }
   ],
   "source": [
    "# first, get predictions for our multi-class model \n",
    "MultMdl.eval()\n",
    "with torch.inference_mode():\n",
    "    ylogits = MultMdl(xblob_test)\n",
    "\n",
    "ylogits[:5] # logits"
   ]
  },
  {
   "cell_type": "code",
   "execution_count": 10,
   "metadata": {},
   "outputs": [
    {
     "data": {
      "text/plain": [
       "tensor([[0.1697, 0.5900, 0.0548, 0.1855],\n",
       "        [0.2278, 0.4578, 0.0470, 0.2674],\n",
       "        [0.2030, 0.4966, 0.0934, 0.2070],\n",
       "        [0.1705, 0.5825, 0.0577, 0.1892],\n",
       "        [0.2306, 0.4279, 0.0771, 0.2644]])"
      ]
     },
     "execution_count": 10,
     "metadata": {},
     "output_type": "execute_result"
    }
   ],
   "source": [
    "# prediction probabilities\n",
    "yprobs = torch.softmax(ylogits[:5], dim=1)\n",
    "yprobs"
   ]
  },
  {
   "cell_type": "code",
   "execution_count": 11,
   "metadata": {},
   "outputs": [
    {
     "data": {
      "text/plain": [
       "tensor([1, 1, 1, 1, 1])"
      ]
     },
     "execution_count": 11,
     "metadata": {},
     "output_type": "execute_result"
    }
   ],
   "source": [
    "# prediction labels - the index of max value for each row (yprob) is the label\n",
    "ypreds = torch.argmax(yprobs, dim=-1)\n",
    "ypreds #.unsqueeze(-1)"
   ]
  },
  {
   "cell_type": "markdown",
   "metadata": {},
   "source": [
    "**creating a training and testing loop**"
   ]
  },
  {
   "cell_type": "code",
   "execution_count": 12,
   "metadata": {},
   "outputs": [
    {
     "name": "stdout",
     "output_type": "stream",
     "text": [
      "Epoch: 0 | Train Loss: 1.37677 | Train Acc: 25.07% | Test Loss: 1.37134 | Test Acc: 24.80%\n",
      "Epoch: 10 | Train Loss: 1.29239 | Train Acc: 49.87% | Test Loss: 1.28696 | Test Acc: 50.00%\n",
      "Epoch: 20 | Train Loss: 1.22688 | Train Acc: 50.00% | Test Loss: 1.22397 | Test Acc: 50.00%\n",
      "Epoch: 30 | Train Loss: 1.20356 | Train Acc: 50.00% | Test Loss: 1.20153 | Test Acc: 50.00%\n",
      "Epoch: 40 | Train Loss: 1.19395 | Train Acc: 50.00% | Test Loss: 1.19197 | Test Acc: 50.00%\n",
      "Epoch: 50 | Train Loss: 1.18707 | Train Acc: 50.00% | Test Loss: 1.18528 | Test Acc: 50.00%\n",
      "Epoch: 60 | Train Loss: 1.18084 | Train Acc: 50.00% | Test Loss: 1.17939 | Test Acc: 50.00%\n",
      "Epoch: 70 | Train Loss: 1.17477 | Train Acc: 50.67% | Test Loss: 1.17368 | Test Acc: 51.60%\n",
      "Epoch: 80 | Train Loss: 1.16868 | Train Acc: 52.80% | Test Loss: 1.16790 | Test Acc: 54.40%\n",
      "Epoch: 90 | Train Loss: 1.16236 | Train Acc: 53.87% | Test Loss: 1.16188 | Test Acc: 57.20%\n",
      "Epoch: 99 | Train Loss: 1.15635 | Train Acc: 55.47% | Test Loss: 1.15618 | Test Acc: 59.60%\n"
     ]
    }
   ],
   "source": [
    "epochs = 100\n",
    "\n",
    "for epoch in range(epochs):\n",
    "    # training loop\n",
    "    MultMdl.train()\n",
    "    optimizer.zero_grad()\n",
    "    train_logits = MultMdl(xblob_train)\n",
    "    train_probs = torch.softmax(train_logits, dim=-1)\n",
    "    train_preds = torch.argmax(train_probs, dim=-1)\n",
    "    train_loss = criterion(train_probs, yblob_train.squeeze().long())\n",
    "    train_loss.backward()\n",
    "    optimizer.step()\n",
    "\n",
    "    if (epoch % 10 == 0) or (epoch == epochs-1):\n",
    "        # testing loop\n",
    "        MultMdl.eval()\n",
    "        with torch.inference_mode():\n",
    "            test_logits = MultMdl(xblob_test)\n",
    "            test_probs = torch.softmax(test_logits, dim=-1)\n",
    "            test_preds = torch.argmax(test_probs, dim=-1)\n",
    "            test_loss = criterion(test_probs, yblob_test.squeeze().long())\n",
    "\n",
    "        # show performance after every 10 epochs\n",
    "        train_acc = check_accuracy(train_preds, yblob_train.squeeze())\n",
    "        test_acc = check_accuracy(test_preds, yblob_test.squeeze())\n",
    "\n",
    "        print(\n",
    "            f'Epoch: {epoch} | Train Loss: {train_loss:.5f} | Train Acc: {train_acc:.2f}% | Test Loss: {test_loss:.5f} | Test Acc: {test_acc:.2f}%'\n",
    "        )\n",
    "\n"
   ]
  },
  {
   "cell_type": "markdown",
   "metadata": {},
   "source": [
    "# 88"
   ]
  },
  {
   "cell_type": "code",
   "execution_count": null,
   "metadata": {},
   "outputs": [],
   "source": []
  }
 ],
 "metadata": {
  "kernelspec": {
   "display_name": "codes",
   "language": "python",
   "name": "python3"
  },
  "language_info": {
   "codemirror_mode": {
    "name": "ipython",
    "version": 3
   },
   "file_extension": ".py",
   "mimetype": "text/x-python",
   "name": "python",
   "nbconvert_exporter": "python",
   "pygments_lexer": "ipython3",
   "version": "3.10.12"
  }
 },
 "nbformat": 4,
 "nbformat_minor": 2
}

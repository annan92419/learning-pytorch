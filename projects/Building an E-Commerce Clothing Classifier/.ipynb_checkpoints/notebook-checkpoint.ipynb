{
 "cells": [
  {
   "cell_type": "markdown",
   "id": "06e96af4-1831-41d9-a3d7-76004d4f01a9",
   "metadata": {},
   "source": [
    "![Clothing Classifier Model](Clothing%20Classifier%20Model.png)\n"
   ]
  },
  {
   "attachments": {},
   "cell_type": "markdown",
   "id": "35d4e17b-eeb6-40dd-a140-7b949390e115",
   "metadata": {
    "tags": []
   },
   "source": [
    "Fashion Forward is a new AI-based e-commerce clothing retailer.\n",
    "They want to use image classification to automatically categorize new product listings, making it easier for customers to find what they're looking for. It will also assist in inventory management by quickly sorting items.\n",
    "\n",
    "As a data scientist tasked with implementing a garment classifier, your primary objective is to develop a machine learning model capable of accurately categorizing images of clothing items into distinct garment types such as shirts, trousers, shoes, etc.\n"
   ]
  },
  {
   "cell_type": "code",
   "execution_count": 1,
   "id": "faf2e25e-6c2f-450d-95c1-e03d470cb2f1",
   "metadata": {
    "executionCancelledAt": null,
    "executionTime": 9,
    "lastExecutedAt": 1713024838559,
    "lastExecutedByKernel": "25708144-6d10-4a14-af4f-08b5953bfb07",
    "lastScheduledRunId": null,
    "lastSuccessfullyExecutedCode": "# Run the cells below first"
   },
   "outputs": [],
   "source": [
    "# Run the cells below first"
   ]
  },
  {
   "cell_type": "code",
   "execution_count": null,
   "id": "4de0b0ff-a211-41be-b90e-165e6038c9d7",
   "metadata": {
    "executionCancelledAt": null,
    "executionTime": 5310,
    "lastExecutedAt": 1713024843869,
    "lastExecutedByKernel": "25708144-6d10-4a14-af4f-08b5953bfb07",
    "lastScheduledRunId": null,
    "lastSuccessfullyExecutedCode": "!pip install torchmetrics",
    "outputsMetadata": {
     "0": {
      "height": 537,
      "type": "stream"
     }
    }
   },
   "outputs": [],
   "source": [
    "!pip install torchmetrics"
   ]
  },
  {
   "cell_type": "code",
   "execution_count": 3,
   "id": "145bbc0f-4d15-4e7b-b796-5ec0d9ab7702",
   "metadata": {
    "executionCancelledAt": null,
    "executionTime": 54,
    "lastExecutedAt": 1713024843926,
    "lastExecutedByKernel": "25708144-6d10-4a14-af4f-08b5953bfb07",
    "lastScheduledRunId": null,
    "lastSuccessfullyExecutedCode": "import numpy as np\nimport torch\nimport torch.nn as nn\nimport torch.optim as optim\nfrom torch.utils.data import Dataset, DataLoader\nfrom torchmetrics import Accuracy, Precision, Recall"
   },
   "outputs": [],
   "source": [
    "import numpy as np\n",
    "import torch\n",
    "import torch.nn as nn\n",
    "import torch.optim as optim\n",
    "from torch.utils.data import Dataset, DataLoader\n",
    "from torchmetrics import Accuracy, Precision, Recall"
   ]
  },
  {
   "cell_type": "code",
   "execution_count": 4,
   "id": "35ddad8f-fa43-4bb3-894b-afef8d0bfd59",
   "metadata": {
    "collapsed": false,
    "executionCancelledAt": null,
    "executionTime": 67,
    "jupyter": {
     "outputs_hidden": false,
     "source_hidden": false
    },
    "lastExecutedAt": 1713024843993,
    "lastExecutedByKernel": "25708144-6d10-4a14-af4f-08b5953bfb07",
    "lastScheduledRunId": null,
    "lastSuccessfullyExecutedCode": "# Load datasets\nfrom torchvision import datasets\nimport torchvision.transforms as transforms\n\ntrain_data = datasets.FashionMNIST(root='./data', train=True, download=True, transform=transforms.ToTensor())\ntest_data = datasets.FashionMNIST(root='./data', train=False, download=True, transform=transforms.ToTensor())",
    "outputsMetadata": {
     "0": {
      "height": 80,
      "type": "stream"
     },
     "2": {
      "height": 122,
      "type": "stream"
     },
     "4": {
      "height": 122,
      "type": "stream"
     },
     "6": {
      "height": 122,
      "type": "stream"
     },
     "8": {
      "height": 59,
      "type": "stream"
     }
    }
   },
   "outputs": [],
   "source": [
    "# Load datasets\n",
    "from torchvision import datasets\n",
    "import torchvision.transforms as transforms\n",
    "\n",
    "train_data = datasets.FashionMNIST(root='./data', train=True, download=True, transform=transforms.ToTensor())\n",
    "test_data = datasets.FashionMNIST(root='./data', train=False, download=True, transform=transforms.ToTensor())"
   ]
  },
  {
   "cell_type": "code",
   "execution_count": 5,
   "id": "bcb275bd-f26c-441f-be0b-b3dafbc15c78",
   "metadata": {},
   "outputs": [
    {
     "data": {
      "image/png": "[encoded data removed]",
      "text/plain": [
       "<Figure size 640x480 with 1 Axes>"
      ]
     },
     "metadata": {},
     "output_type": "display_data"
    }
   ],
   "source": [
    "import matplotlib.pyplot as plt\n",
    "\n",
    "# Access an image and its label\n",
    "image, idx = train_data[1] # Get an image in the dataset\n",
    "image = image.squeeze() # torch.Size([28, 28])\n",
    "\n",
    "label = list(train_data.class_to_idx.items())[idx][0]\n",
    "\n",
    "plt.imshow(image, cmap='gray')\n",
    "plt.title(f'Label: {label, idx}')\n",
    "plt.show()\n"
   ]
  },
  {
   "cell_type": "code",
   "execution_count": 6,
   "id": "88439ae5-9fd7-4062-b906-d2b1bf6df660",
   "metadata": {
    "executionCancelledAt": null,
    "executionTime": 48,
    "lastExecutedAt": 1713024844042,
    "lastExecutedByKernel": "25708144-6d10-4a14-af4f-08b5953bfb07",
    "lastScheduledRunId": null,
    "lastSuccessfullyExecutedCode": "torch.manual_seed(97)"
   },
   "outputs": [
    {
     "data": {
      "text/plain": [
       "<torch._C.Generator at 0x76c678335230>"
      ]
     },
     "execution_count": 6,
     "metadata": {},
     "output_type": "execute_result"
    }
   ],
   "source": [
    "torch.manual_seed(97)"
   ]
  },
  {
   "cell_type": "code",
   "execution_count": 7,
   "id": "4ba37e54-325d-4402-8374-2125a3279ec6",
   "metadata": {
    "executionCancelledAt": null,
    "executionTime": 52,
    "lastExecutedAt": 1713024844094,
    "lastExecutedByKernel": "25708144-6d10-4a14-af4f-08b5953bfb07",
    "lastScheduledRunId": null,
    "lastSuccessfullyExecutedCode": "print(f\"Number of images in training dataset: {len(train_data)}\")\nprint(f\"Number of images in test dataset: {len(test_data)}\")",
    "outputsMetadata": {
     "0": {
      "height": 59,
      "type": "stream"
     }
    }
   },
   "outputs": [
    {
     "name": "stdout",
     "output_type": "stream",
     "text": [
      "Number of images in training dataset: 60000\n",
      "Number of images in test dataset: 10000\n"
     ]
    }
   ],
   "source": [
    "print(f\"Number of images in training dataset: {len(train_data)}\")\n",
    "print(f\"Number of images in test dataset: {len(test_data)}\")"
   ]
  },
  {
   "cell_type": "code",
   "execution_count": 8,
   "id": "9fc5554c-c467-4158-8838-ff2675371f31",
   "metadata": {
    "executionCancelledAt": null,
    "executionTime": 52,
    "lastExecutedAt": 1713024844146,
    "lastExecutedByKernel": "25708144-6d10-4a14-af4f-08b5953bfb07",
    "lastScheduledRunId": null,
    "lastSuccessfullyExecutedCode": "# Get the dimensions of an image from the training dataset\nimage, _ = train_data[0]\nimage.shape"
   },
   "outputs": [
    {
     "data": {
      "text/plain": [
       "torch.Size([1, 28, 28])"
      ]
     },
     "execution_count": 8,
     "metadata": {},
     "output_type": "execute_result"
    }
   ],
   "source": [
    "# Get the dimensions of an image from the training dataset\n",
    "image, _ = train_data[0]\n",
    "image.shape"
   ]
  },
  {
   "cell_type": "code",
   "execution_count": 9,
   "id": "bd28cf99-e159-48e6-a49a-6631a1cee7fd",
   "metadata": {
    "executionCancelledAt": null,
    "executionTime": 52,
    "lastExecutedAt": 1713024844198,
    "lastExecutedByKernel": "25708144-6d10-4a14-af4f-08b5953bfb07",
    "lastScheduledRunId": null,
    "lastSuccessfullyExecutedCode": "# Get the number of classes (with index) from the training dataset\nnum_classes = len(train_data.classes)\ntrain_data.class_to_idx",
    "outputsMetadata": {
     "0": {
      "height": 38,
      "type": "stream"
     }
    }
   },
   "outputs": [
    {
     "data": {
      "text/plain": [
       "{'T-shirt/top': 0,\n",
       " 'Trouser': 1,\n",
       " 'Pullover': 2,\n",
       " 'Dress': 3,\n",
       " 'Coat': 4,\n",
       " 'Sandal': 5,\n",
       " 'Shirt': 6,\n",
       " 'Sneaker': 7,\n",
       " 'Bag': 8,\n",
       " 'Ankle boot': 9}"
      ]
     },
     "execution_count": 9,
     "metadata": {},
     "output_type": "execute_result"
    }
   ],
   "source": [
    "# Get the number of classes (with index) from the training dataset\n",
    "num_classes = len(train_data.classes)\n",
    "train_data.class_to_idx"
   ]
  },
  {
   "cell_type": "code",
   "execution_count": 10,
   "id": "99ad1871-c223-4a5a-9058-8036c135ccec",
   "metadata": {
    "executionCancelledAt": null,
    "executionTime": 61,
    "lastExecutedAt": 1713024844259,
    "lastExecutedByKernel": "25708144-6d10-4a14-af4f-08b5953bfb07",
    "lastScheduledRunId": null,
    "lastSuccessfullyExecutedCode": "# create dataloaders for the training and evaluation\ntrainloader = DataLoader(train_data,\n                        batch_size=10,\n                        shuffle=True,\n                        )\n\ntestloader = DataLoader(test_data,\n                       batch_size=10,\n                       shuffle=False,\n                       )"
   },
   "outputs": [],
   "source": [
    "# create dataloaders for the training and evaluation\n",
    "trainloader = DataLoader(train_data,\n",
    "                        batch_size=10,\n",
    "                        shuffle=True,\n",
    "                        )\n",
    "\n",
    "testloader = DataLoader(test_data,\n",
    "                       batch_size=10,\n",
    "                       shuffle=False,\n",
    "                       )"
   ]
  },
  {
   "cell_type": "code",
   "execution_count": 11,
   "id": "81fef896-e7b6-4127-97c9-600a059cd37f",
   "metadata": {
    "executionCancelledAt": null,
    "executionTime": 51,
    "lastExecutedAt": 1713024844310,
    "lastExecutedByKernel": "25708144-6d10-4a14-af4f-08b5953bfb07",
    "lastScheduledRunId": null,
    "lastSuccessfullyExecutedCode": "# create a simple CNN classifier\nclass SimpleCNN(nn.Module):\n    def __init__(self, num_classes):\n        super(SimpleCNN, self).__init__()\n        self.feature_extractor = nn.Sequential(\n            nn.Conv2d(1, 16, kernel_size=3, stride=1),\n            nn.ReLU(),\n            nn.MaxPool2d(kernel_size=2, stride=2),\n            nn.Flatten()\n        )\n        self.classifier = nn.Sequential(\n            nn.Linear(16*13*13, num_classes),\n            # nn.Softmax(dim=-1),\n        )\n        \n    def forward(self, x):\n        x = self.feature_extractor(x)\n        x = self.classifier(x)\n        return x\n    \nmodel = SimpleCNN(num_classes)"
   },
   "outputs": [],
   "source": [
    "# create a simple CNN classifier\n",
    "class SimpleCNN(nn.Module):\n",
    "    def __init__(self, num_classes):\n",
    "        super(SimpleCNN, self).__init__()\n",
    "        self.feature_extractor = nn.Sequential(\n",
    "            nn.Conv2d(1, 16, kernel_size=3, stride=1),\n",
    "            nn.ReLU(),\n",
    "            nn.MaxPool2d(kernel_size=2, stride=2),\n",
    "            nn.Flatten()\n",
    "        )\n",
    "        self.classifier = nn.Sequential(\n",
    "            nn.Linear(16*13*13, num_classes),\n",
    "            # nn.Softmax(dim=-1),\n",
    "        )\n",
    "        \n",
    "    def forward(self, x):\n",
    "        x = self.feature_extractor(x)\n",
    "        x = self.classifier(x)\n",
    "        return x\n",
    "    \n",
    "model = SimpleCNN(num_classes)"
   ]
  },
  {
   "cell_type": "code",
   "execution_count": 12,
   "id": "ff8bfb58-2614-4920-8d14-83956077be9d",
   "metadata": {
    "collapsed": false,
    "executionCancelledAt": null,
    "executionTime": null,
    "jupyter": {
     "outputs_hidden": false,
     "source_hidden": false
    },
    "lastExecutedAt": null,
    "lastExecutedByKernel": null,
    "lastScheduledRunId": null,
    "lastSuccessfullyExecutedCode": null,
    "outputsMetadata": {
     "0": {
      "height": 59,
      "type": "stream"
     }
    }
   },
   "outputs": [
    {
     "name": "stdout",
     "output_type": "stream",
     "text": [
      "Epoch: 1 || Train Loss: 0.4406381429049472\n",
      "Epoch: 2 || Train Loss: 0.3187439001132165\n",
      "Epoch: 3 || Train Loss: 0.28007375616567154\n",
      "Epoch: 4 || Train Loss: 0.2552708183508408\n",
      "Epoch: 5 || Train Loss: 0.2370900833911582\n",
      "Epoch: 6 || Train Loss: 0.22376888458290978\n",
      "Epoch: 7 || Train Loss: 0.2132509248424825\n",
      "Epoch: 8 || Train Loss: 0.20381047386735854\n",
      "Epoch: 9 || Train Loss: 0.1955951114950401\n",
      "Epoch: 10 || Train Loss: 0.18981279128065903\n"
     ]
    }
   ],
   "source": [
    "# training the classifier\n",
    "model.train()       # set model in training mode\n",
    "\n",
    "criterion = nn.CrossEntropyLoss()     \n",
    "optimizer = optim.Adam(model.parameters(), lr=0.001)    \n",
    "\n",
    "num_epochs = 10\n",
    "for epoch in range(num_epochs):\n",
    "    train_loss = 0\n",
    "    for images, labels in trainloader:\n",
    "        optimizer.zero_grad()\n",
    "        outputs = model(images)\n",
    "        labels = nn.functional.one_hot(labels, num_classes=10)\n",
    "        loss = criterion(outputs.double(), labels.double())\n",
    "        loss.backward()\n",
    "        optimizer.step()\n",
    "        train_loss += loss.item()\n",
    "    print(\n",
    "        f'Epoch: {epoch+1} || Train Loss: {train_loss / len(trainloader)}'\n",
    "    )"
   ]
  },
  {
   "cell_type": "code",
   "execution_count": 13,
   "id": "38609208-d69e-48d3-ba07-267df8870beb",
   "metadata": {
    "executionCancelledAt": null,
    "executionTime": 9699,
    "lastExecutedAt": 1713024957595,
    "lastExecutedByKernel": "25708144-6d10-4a14-af4f-08b5953bfb07",
    "lastScheduledRunId": null,
    "lastSuccessfullyExecutedCode": "# model evaluation\nmodel.eval()        # set model in evaluation mode\n\naccuracy = Accuracy(task='multiclass', num_classes=num_classes)\nprecision = Precision(task='multiclass', num_classes=num_classes, average=None)\nrecall = Recall(task='multiclass', num_classes=num_classes, average=None)\n\npredicted = []\nwith torch.no_grad():\n    for images, labels in testloader:\n        outputs = model(images)\n        predictions = outputs.argmax(dim=-1)\n        predicted.extend(predictions.tolist())\n        accuracy(predictions, labels)\n        precision(predictions, labels)\n        recall(predictions, labels)\n   \naccuracy = accuracy.compute().item()\nprecision = precision.compute().tolist()\nrecall = recall.compute().tolist()",
    "outputsMetadata": {
     "0": {
      "height": 38,
      "type": "stream"
     }
    }
   },
   "outputs": [],
   "source": [
    "# model evaluation\n",
    "model.eval()        # set model in evaluation mode\n",
    "\n",
    "accuracy = Accuracy(task='multiclass', num_classes=num_classes)\n",
    "precision = Precision(task='multiclass', num_classes=num_classes, average=None)\n",
    "recall = Recall(task='multiclass', num_classes=num_classes, average=None)\n",
    "\n",
    "predicted = []\n",
    "with torch.no_grad():\n",
    "    for images, labels in testloader:\n",
    "        outputs = model(images)\n",
    "        predictions = outputs.argmax(dim=-1)\n",
    "        predicted.extend(predictions.tolist())\n",
    "        accuracy(predictions, labels)\n",
    "        precision(predictions, labels)\n",
    "        recall(predictions, labels)\n",
    "   \n",
    "accuracy = accuracy.compute().item()\n",
    "precision = precision.compute().tolist()\n",
    "recall = recall.compute().tolist()"
   ]
  },
  {
   "cell_type": "code",
   "execution_count": 14,
   "id": "69a27802-1a62-4731-83e6-76ec196dc351",
   "metadata": {
    "executionCancelledAt": null,
    "executionTime": 46,
    "lastExecutedAt": 1713024957642,
    "lastExecutedByKernel": "25708144-6d10-4a14-af4f-08b5953bfb07",
    "lastScheduledRunId": null,
    "lastSuccessfullyExecutedCode": "# accuracy score\nprint(\n    f'Accuracy: {accuracy}'\n)",
    "outputsMetadata": {
     "0": {
      "height": 38,
      "type": "stream"
     }
    }
   },
   "outputs": [
    {
     "name": "stdout",
     "output_type": "stream",
     "text": [
      "Accuracy: 0.8967999815940857\n"
     ]
    }
   ],
   "source": [
    "# accuracy score\n",
    "print(\n",
    "    f'Accuracy: {accuracy}'\n",
    ")"
   ]
  },
  {
   "cell_type": "code",
   "execution_count": 15,
   "id": "8fe4e062-0d96-4e20-818b-866440d55e0e",
   "metadata": {
    "executionCancelledAt": null,
    "executionTime": 48,
    "lastExecutedAt": 1713024957690,
    "lastExecutedByKernel": "25708144-6d10-4a14-af4f-08b5953bfb07",
    "lastScheduledRunId": null,
    "lastSuccessfullyExecutedCode": "# per-class precision scores\n{\n    name: precision[idx]\n    for name, idx in train_data.class_to_idx.items()\n}",
    "outputsMetadata": {
     "0": {
      "height": 80,
      "type": "stream"
     }
    }
   },
   "outputs": [
    {
     "data": {
      "text/plain": [
       "{'T-shirt/top': 0.8784090876579285,\n",
       " 'Trouser': 0.9809809923171997,\n",
       " 'Pullover': 0.8932714462280273,\n",
       " 'Dress': 0.898321807384491,\n",
       " 'Coat': 0.8038321137428284,\n",
       " 'Sandal': 0.9809428453445435,\n",
       " 'Shirt': 0.6692506670951843,\n",
       " 'Sneaker': 0.9611940383911133,\n",
       " 'Bag': 0.9847406148910522,\n",
       " 'Ankle boot': 0.961155354976654}"
      ]
     },
     "execution_count": 15,
     "metadata": {},
     "output_type": "execute_result"
    }
   ],
   "source": [
    "# per-class precision scores\n",
    "{\n",
    "    name: precision[idx]\n",
    "    for name, idx in train_data.class_to_idx.items()\n",
    "}"
   ]
  },
  {
   "cell_type": "code",
   "execution_count": 16,
   "id": "bfdd6c59-9c84-49cb-a5cd-57a04befc3ed",
   "metadata": {
    "executionCancelledAt": null,
    "executionTime": 53,
    "lastExecutedAt": 1713024957743,
    "lastExecutedByKernel": "25708144-6d10-4a14-af4f-08b5953bfb07",
    "lastScheduledRunId": null,
    "lastSuccessfullyExecutedCode": "# per-class recall scores\n{\n    name: recall[idx]\n    for name, idx in train_data.class_to_idx.items()\n}",
    "outputsMetadata": {
     "0": {
      "height": 38,
      "type": "stream"
     }
    }
   },
   "outputs": [
    {
     "data": {
      "text/plain": [
       "{'T-shirt/top': 0.7730000019073486,\n",
       " 'Trouser': 0.9800000190734863,\n",
       " 'Pullover': 0.7699999809265137,\n",
       " 'Dress': 0.9100000262260437,\n",
       " 'Coat': 0.8809999823570251,\n",
       " 'Sandal': 0.9779999852180481,\n",
       " 'Shirt': 0.7770000100135803,\n",
       " 'Sneaker': 0.9660000205039978,\n",
       " 'Bag': 0.9679999947547913,\n",
       " 'Ankle boot': 0.9649999737739563}"
      ]
     },
     "execution_count": 16,
     "metadata": {},
     "output_type": "execute_result"
    }
   ],
   "source": [
    "# per-class recall scores\n",
    "{\n",
    "    name: recall[idx]\n",
    "    for name, idx in train_data.class_to_idx.items()\n",
    "}"
   ]
  },
  {
   "cell_type": "code",
   "execution_count": null,
   "id": "6c70c50c-3bd6-4013-8bf4-26594ce37c19",
   "metadata": {
    "executionCancelledAt": null,
    "executionTime": 47,
    "lastExecutedAt": 1713024957790,
    "lastExecutedByKernel": "25708144-6d10-4a14-af4f-08b5953bfb07",
    "lastScheduledRunId": null,
    "lastSuccessfullyExecutedCode": ""
   },
   "outputs": [],
   "source": []
  }
 ],
 "metadata": {
  "editor": "DataCamp Workspace",
  "kernelspec": {
   "display_name": "Python 3 (ipykernel)",
   "language": "python",
   "name": "python3"
  },
  "language_info": {
   "codemirror_mode": {
    "name": "ipython",
    "version": 3
   },
   "file_extension": ".py",
   "mimetype": "text/x-python",
   "name": "python",
   "nbconvert_exporter": "python",
   "pygments_lexer": "ipython3",
   "version": "3.11.6"
  }
 },
 "nbformat": 4,
 "nbformat_minor": 5
}

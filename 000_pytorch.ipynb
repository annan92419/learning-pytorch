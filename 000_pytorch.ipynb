{
 "cells": [
  {
   "cell_type": "code",
   "execution_count": 1,
   "metadata": {
    "colab": {
     "base_uri": "https://localhost:8080/"
    },
    "id": "-tmQRGay3Z3D",
    "outputId": "9be3c917-01f3-4969-bd4b-ecc16a99cde4",
    "tags": []
   },
   "outputs": [
    {
     "name": "stdout",
     "output_type": "stream",
     "text": [
      "Hello I am excited to learn PyTorch\n"
     ]
    }
   ],
   "source": [
    "print('Hello I am excited to learn PyTorch')"
   ]
  },
  {
   "cell_type": "markdown",
   "metadata": {
    "id": "PG5VuqSL8-zA"
   },
   "source": [
    "**Introduction to Tensors** <br>\n",
    "PyTorch tensors are created using torch.Tensor() = https://pytorch.org/docs/stable/tensors.html"
   ]
  },
  {
   "cell_type": "code",
   "execution_count": 2,
   "metadata": {
    "colab": {
     "base_uri": "https://localhost:8080/",
     "height": 36
    },
    "id": "oqMIdTwk8AMx",
    "outputId": "8f0dd56d-8a4d-437b-f7d9-7846b80f7f4a",
    "tags": []
   },
   "outputs": [
    {
     "data": {
      "text/plain": [
       "'2.0.1'"
      ]
     },
     "execution_count": 2,
     "metadata": {},
     "output_type": "execute_result"
    }
   ],
   "source": [
    "import torch\n",
    "import torch.nn as nn\n",
    "import numpy as np\n",
    "torch.__version__"
   ]
  },
  {
   "cell_type": "code",
   "execution_count": 3,
   "metadata": {
    "colab": {
     "base_uri": "https://localhost:8080/"
    },
    "id": "e6d4W5V-8Vng",
    "outputId": "9c302dd9-f4f4-4a5b-bbe8-833fcd1dc174",
    "tags": []
   },
   "outputs": [
    {
     "name": "stdout",
     "output_type": "stream",
     "text": [
      "tensor(7) 0\n",
      "7\n"
     ]
    }
   ],
   "source": [
    "# scalar - 0 dim tensors\n",
    "scalar = torch.tensor(7)\n",
    "print(scalar, scalar.ndim) # .ndim outputs the dimension of the tensor\n",
    "print(scalar.item()) # converts tensor to regular python int"
   ]
  },
  {
   "cell_type": "code",
   "execution_count": 4,
   "metadata": {
    "colab": {
     "base_uri": "https://localhost:8080/"
    },
    "id": "qbjYm2WF-6OB",
    "outputId": "3e6be0cd-ee62-4b36-f2e5-266b1d1bd40d",
    "tags": []
   },
   "outputs": [
    {
     "name": "stdout",
     "output_type": "stream",
     "text": [
      "tensor([4, 5]) 1\n",
      "torch.Size([2])\n"
     ]
    }
   ],
   "source": [
    "# vector - 1 dim tensors\n",
    "vector = torch.tensor([4, 5])\n",
    "print(vector, vector.ndim)\n",
    "print(vector.shape) # 2x1 vector"
   ]
  },
  {
   "cell_type": "code",
   "execution_count": 5,
   "metadata": {
    "colab": {
     "base_uri": "https://localhost:8080/"
    },
    "id": "xy2CqMPhABrb",
    "outputId": "1e5aca85-8607-42b9-9960-3582f076d419",
    "tags": []
   },
   "outputs": [
    {
     "name": "stdout",
     "output_type": "stream",
     "text": [
      "tensor([[4, 5],\n",
      "        [4, 3]]) 2\n",
      "torch.Size([2, 2])\n"
     ]
    }
   ],
   "source": [
    "# matrix - 2 dim tensors\n",
    "mat = torch.tensor([[4, 5],\n",
    "                    [4, 3]])\n",
    "print(mat, mat.ndim)\n",
    "print(mat.shape) # 2x2 matrix"
   ]
  },
  {
   "cell_type": "markdown",
   "metadata": {
    "id": "zmslS1A9CUoR"
   },
   "source": [
    "![picture](https://raw.githubusercontent.com/mrdbourke/pytorch-deep-learning/main/images/00-pytorch-different-tensor-dimensions.png)"
   ]
  },
  {
   "cell_type": "code",
   "execution_count": 6,
   "metadata": {
    "colab": {
     "base_uri": "https://localhost:8080/"
    },
    "id": "oOGYMAFMAh1Q",
    "outputId": "b88d1e5a-f521-4e49-e552-63b8c3bc82c7",
    "tags": []
   },
   "outputs": [
    {
     "name": "stdout",
     "output_type": "stream",
     "text": [
      "tensor([[[4, 3, 4],\n",
      "         [4, 2, 1],\n",
      "         [9, 0, 7]]]) 3\n",
      "torch.Size([1, 3, 3])\n"
     ]
    }
   ],
   "source": [
    "# tensor - n dim\n",
    "tens = torch.tensor([[[4, 3, 4],\n",
    "                      [4, 2, 1],\n",
    "                      [9, 0, 7]]])\n",
    "print(tens, tens.ndim)\n",
    "print(tens.shape)"
   ]
  },
  {
   "cell_type": "code",
   "execution_count": 7,
   "metadata": {
    "id": "US2v_tdiBBsy",
    "tags": []
   },
   "outputs": [
    {
     "data": {
      "text/plain": [
       "tensor([[0.4743, 0.3189, 0.8970],\n",
       "        [0.2307, 0.4748, 0.4041]])"
      ]
     },
     "execution_count": 7,
     "metadata": {},
     "output_type": "execute_result"
    }
   ],
   "source": [
    "indata = torch.rand(2,3)\n",
    "indata"
   ]
  },
  {
   "cell_type": "code",
   "execution_count": 8,
   "metadata": {
    "tags": []
   },
   "outputs": [
    {
     "data": {
      "text/plain": [
       "Sequential(\n",
       "  (0): Linear(in_features=3, out_features=2, bias=True)\n",
       "  (1): Linear(in_features=2, out_features=1, bias=True)\n",
       ")"
      ]
     },
     "execution_count": 8,
     "metadata": {},
     "output_type": "execute_result"
    }
   ],
   "source": [
    "mdl = nn.Sequential(\n",
    "    nn.Linear(in_features=3, out_features=2),\n",
    "    nn.Linear(in_features=2, out_features=1)\n",
    ")\n",
    "mdl"
   ]
  },
  {
   "cell_type": "code",
   "execution_count": 9,
   "metadata": {
    "tags": []
   },
   "outputs": [
    {
     "data": {
      "text/plain": [
       "tensor([[-0.8108],\n",
       "        [-0.7398]], grad_fn=<AddmmBackward0>)"
      ]
     },
     "execution_count": 9,
     "metadata": {},
     "output_type": "execute_result"
    }
   ],
   "source": [
    "outdata = mdl(indata)\n",
    "outdata"
   ]
  },
  {
   "cell_type": "code",
   "execution_count": null,
   "metadata": {},
   "outputs": [],
   "source": []
  }
 ],
 "metadata": {
  "colab": {
   "provenance": []
  },
  "kernelspec": {
   "display_name": "Python 3 (ipykernel)",
   "language": "python",
   "name": "python3"
  },
  "language_info": {
   "codemirror_mode": {
    "name": "ipython",
    "version": 3
   },
   "file_extension": ".py",
   "mimetype": "text/x-python",
   "name": "python",
   "nbconvert_exporter": "python",
   "pygments_lexer": "ipython3",
   "version": "3.11.4"
  }
 },
 "nbformat": 4,
 "nbformat_minor": 4
}

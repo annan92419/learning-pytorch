{
 "cells": [
  {
   "cell_type": "markdown",
   "metadata": {},
   "source": [
    "# ASSOCIATE DATA SCIENCE TRACK - DATA CAMP"
   ]
  },
  {
   "cell_type": "markdown",
   "metadata": {},
   "source": [
    "## Intermediate Python"
   ]
  },
  {
   "cell_type": "code",
   "execution_count": null,
   "metadata": {},
   "outputs": [],
   "source": [
    "import pandas as pd\n"
   ]
  },
  {
   "cell_type": "code",
   "execution_count": null,
   "metadata": {},
   "outputs": [],
   "source": [
    "mydict = {\"id\": [1, 2, 3, 4, 5],\n",
    "          \"enrolled\": [20, 18, 22, 30, 25],\n",
    "          \"passed\": [17, 16, 19, 20, 18]}\n",
    "\n",
    "df = pd.DataFrame(mydict,\n",
    "                  index=['a', 'b', 'c', 'd', 'e'])\n",
    "df"
   ]
  },
  {
   "cell_type": "code",
   "execution_count": null,
   "metadata": {},
   "outputs": [],
   "source": [
    "df[1:4]"
   ]
  },
  {
   "cell_type": "code",
   "execution_count": null,
   "metadata": {},
   "outputs": [],
   "source": [
    "i = -4\n",
    "while i != 0:\n",
    "    if i > 0:\n",
    "        i -= 1\n",
    "    else: \n",
    "        i += 1\n",
    "    print(i)"
   ]
  },
  {
   "cell_type": "markdown",
   "metadata": {},
   "source": [
    "## Data Manipulation with Pandas"
   ]
  },
  {
   "cell_type": "markdown",
   "metadata": {},
   "source": [
    "## Summarizing Numerical Data"
   ]
  },
  {
   "cell_type": "markdown",
   "metadata": {},
   "source": [
    "- `.median()`\n",
    "- `.mode()`\n",
    "- `.min()`\n",
    "- `.max()`\n",
    "- `.var()`\n",
    "- `.std()`\n",
    "- `.sum()`\n",
    "- `.quantile()`\n",
    "- `.cumsum()`\n",
    "- `.cummin()`\n",
    "- `.cummax()`\n",
    "- `.cumprod()`"
   ]
  },
  {
   "cell_type": "code",
   "execution_count": null,
   "metadata": {},
   "outputs": [],
   "source": [
    "import pandas as pd"
   ]
  },
  {
   "cell_type": "code",
   "execution_count": null,
   "metadata": {},
   "outputs": [],
   "source": [
    "# df = pd.read_csv('student_mat.csv', sep=';')\n",
    "# df.head()"
   ]
  },
  {
   "cell_type": "code",
   "execution_count": null,
   "metadata": {},
   "outputs": [],
   "source": [
    "df.info()"
   ]
  },
  {
   "cell_type": "code",
   "execution_count": null,
   "metadata": {},
   "outputs": [],
   "source": [
    "# dfnum = df[['G1', 'G2', 'G3']]\n",
    "# dfnum.head()"
   ]
  },
  {
   "cell_type": "code",
   "execution_count": null,
   "metadata": {},
   "outputs": [],
   "source": [
    "dfnum['G1'].median()"
   ]
  },
  {
   "cell_type": "code",
   "execution_count": null,
   "metadata": {},
   "outputs": [],
   "source": [
    "dfnum[['G1', 'G2', 'G3']].mode()"
   ]
  },
  {
   "cell_type": "code",
   "execution_count": null,
   "metadata": {},
   "outputs": [],
   "source": [
    "dfnum[['G1', 'G2', 'G3']].quantile([.25, .50, .75])"
   ]
  },
  {
   "cell_type": "code",
   "execution_count": null,
   "metadata": {},
   "outputs": [],
   "source": [
    "def check_pct(column):\n",
    "    return column.quantile(.25), column.quantile(.5), column.quantile(.75)\n",
    "\n",
    "dfnum[['G1', 'G2', 'G3']].agg(check_pct)"
   ]
  },
  {
   "cell_type": "code",
   "execution_count": null,
   "metadata": {},
   "outputs": [],
   "source": [
    "def cummulative(column):\n",
    "    return column.cummin(), column.cummax(), column.cumprod()\n",
    "\n",
    "dfnum[['G1', 'G2']].agg(cummulative)"
   ]
  },
  {
   "cell_type": "code",
   "execution_count": null,
   "metadata": {},
   "outputs": [],
   "source": [
    "df['G1'].cumsum()"
   ]
  },
  {
   "cell_type": "code",
   "execution_count": null,
   "metadata": {},
   "outputs": [],
   "source": [
    "dfnum"
   ]
  },
  {
   "cell_type": "code",
   "execution_count": null,
   "metadata": {},
   "outputs": [],
   "source": [
    "dfnum = dfnum.sort_values('G1')"
   ]
  },
  {
   "cell_type": "code",
   "execution_count": null,
   "metadata": {},
   "outputs": [],
   "source": [
    "dfnum"
   ]
  },
  {
   "cell_type": "markdown",
   "metadata": {},
   "source": [
    "### summarizing data using counting"
   ]
  },
  {
   "cell_type": "code",
   "execution_count": null,
   "metadata": {},
   "outputs": [],
   "source": [
    "dfnum.head()"
   ]
  },
  {
   "cell_type": "code",
   "execution_count": null,
   "metadata": {},
   "outputs": [],
   "source": [
    "df = dfnum.copy()\n",
    "df.drop_duplicates(subset='G1') # drops values (rows) that appear more than ones\n",
    "df.shape, dfnum.shape"
   ]
  },
  {
   "cell_type": "code",
   "execution_count": null,
   "metadata": {},
   "outputs": [],
   "source": [
    "# counting the number of distinct scores\n",
    "df['G1'].value_counts(sort=True)"
   ]
  },
  {
   "cell_type": "code",
   "execution_count": null,
   "metadata": {},
   "outputs": [],
   "source": [
    "# counting proportions\n",
    "df['G1'].value_counts(normalize=True)"
   ]
  },
  {
   "cell_type": "code",
   "execution_count": null,
   "metadata": {},
   "outputs": [],
   "source": [
    "ls "
   ]
  },
  {
   "cell_type": "code",
   "execution_count": null,
   "metadata": {},
   "outputs": [],
   "source": [
    "import pandas as pd \n",
    "import numpy as np\n"
   ]
  },
  {
   "cell_type": "code",
   "execution_count": null,
   "metadata": {},
   "outputs": [],
   "source": [
    "df = pd.read_csv('student_mat.csv', sep=';')\n",
    "df.head()"
   ]
  },
  {
   "cell_type": "code",
   "execution_count": null,
   "metadata": {},
   "outputs": [],
   "source": [
    "df.groupby('school')['G1'].mean()"
   ]
  },
  {
   "cell_type": "code",
   "execution_count": null,
   "metadata": {},
   "outputs": [],
   "source": [
    "df.groupby('school')['G3'].agg(['min', 'mean', 'median', 'max'])"
   ]
  },
  {
   "cell_type": "code",
   "execution_count": null,
   "metadata": {},
   "outputs": [],
   "source": [
    "def mypct(column):\n",
    "    return column.quantile(.25), column.quantile(.5), column.quantile(.75)"
   ]
  },
  {
   "cell_type": "code",
   "execution_count": null,
   "metadata": {},
   "outputs": [],
   "source": [
    "df.groupby('school')['G3'].agg(['min', mypct, 'max'])"
   ]
  },
  {
   "cell_type": "code",
   "execution_count": null,
   "metadata": {},
   "outputs": [],
   "source": [
    "df.groupby('school')[['address', 'Pstatus']].agg(['min', 'max'])"
   ]
  },
  {
   "cell_type": "markdown",
   "metadata": {},
   "source": [
    "### Groupby v.s. Pivot tables\n",
    "\n",
    "- dataframe.groupby( column to group by )[ column to summarize ].agg( summary_statistic_list )\n",
    "\n",
    "- dataframe.pivot_tables( values=column to summarize , index=column to group by , aggfunc=summary_statistic_list )"
   ]
  },
  {
   "cell_type": "code",
   "execution_count": null,
   "metadata": {},
   "outputs": [],
   "source": [
    "df.groupby('school')['G3'].mean()"
   ]
  },
  {
   "cell_type": "code",
   "execution_count": null,
   "metadata": {},
   "outputs": [],
   "source": [
    "df.pivot_table('G3', 'school')"
   ]
  },
  {
   "cell_type": "code",
   "execution_count": null,
   "metadata": {},
   "outputs": [],
   "source": [
    "df.groupby('school')['G3'].agg(['min', 'median', 'max'])"
   ]
  },
  {
   "cell_type": "code",
   "execution_count": null,
   "metadata": {},
   "outputs": [],
   "source": [
    "df.pivot_table('G3', 'school', aggfunc=['min', 'max'])"
   ]
  },
  {
   "cell_type": "code",
   "execution_count": null,
   "metadata": {},
   "outputs": [],
   "source": [
    "df.groupby(['school', 'address'])[['G3', 'G2']].agg(['min', 'max'])"
   ]
  },
  {
   "cell_type": "code",
   "execution_count": null,
   "metadata": {},
   "outputs": [],
   "source": [
    "df.pivot_table(['G3', 'G2'], 'school', 'address', aggfunc=['min', 'max'])"
   ]
  },
  {
   "cell_type": "code",
   "execution_count": null,
   "metadata": {},
   "outputs": [],
   "source": [
    "import pandas as pd \n",
    "import numpy as np \n"
   ]
  },
  {
   "cell_type": "code",
   "execution_count": null,
   "metadata": {},
   "outputs": [],
   "source": [
    "df = pd.read_csv('student_mat.csv', sep=';')\n",
    "df.head()"
   ]
  },
  {
   "cell_type": "code",
   "execution_count": null,
   "metadata": {},
   "outputs": [],
   "source": [
    "# setting a column as the index\n",
    "df.set_index('school').head()"
   ]
  },
  {
   "cell_type": "code",
   "execution_count": null,
   "metadata": {},
   "outputs": [],
   "source": [
    "df.reset_index()"
   ]
  },
  {
   "cell_type": "code",
   "execution_count": null,
   "metadata": {},
   "outputs": [],
   "source": [
    "# slicing and subsetting with .loc and .iloc\n",
    "\n",
    "import pandas as pd \n",
    "\n",
    "df = pd.read_csv('dataset/student_mat.csv', sep=';')\n",
    "df = df.set_index(['school', 'sex'])\n",
    "df.head(10)"
   ]
  },
  {
   "cell_type": "code",
   "execution_count": null,
   "metadata": {},
   "outputs": [],
   "source": [
    "df.loc['GP'].head()"
   ]
  },
  {
   "cell_type": "code",
   "execution_count": null,
   "metadata": {},
   "outputs": [],
   "source": [
    "df.loc[('MS','F')].head()"
   ]
  },
  {
   "cell_type": "code",
   "execution_count": null,
   "metadata": {},
   "outputs": [],
   "source": [
    "df.loc[:,'age':'reason'].sort_values"
   ]
  },
  {
   "cell_type": "code",
   "execution_count": null,
   "metadata": {},
   "outputs": [],
   "source": [
    "df.head()"
   ]
  },
  {
   "cell_type": "code",
   "execution_count": null,
   "metadata": {},
   "outputs": [],
   "source": [
    "df2 = df.sort_index()"
   ]
  },
  {
   "cell_type": "code",
   "execution_count": null,
   "metadata": {},
   "outputs": [],
   "source": [
    "df2.head()"
   ]
  },
  {
   "cell_type": "code",
   "execution_count": null,
   "metadata": {},
   "outputs": [],
   "source": [
    "date = '2010-01-01'\n",
    "date.split('-')[0]"
   ]
  },
  {
   "cell_type": "code",
   "execution_count": null,
   "metadata": {},
   "outputs": [],
   "source": [
    "def get_year(column):\n",
    "    return column.split('-')[0]\n",
    "\n",
    "get_year(date)"
   ]
  },
  {
   "cell_type": "code",
   "execution_count": null,
   "metadata": {},
   "outputs": [],
   "source": [
    "plot = df.groupby('address')['G3'].sum()"
   ]
  },
  {
   "cell_type": "code",
   "execution_count": null,
   "metadata": {},
   "outputs": [],
   "source": [
    "plot"
   ]
  },
  {
   "cell_type": "code",
   "execution_count": null,
   "metadata": {},
   "outputs": [],
   "source": [
    "plot.plot(kind='bar')"
   ]
  },
  {
   "cell_type": "code",
   "execution_count": null,
   "metadata": {},
   "outputs": [],
   "source": [
    "plot.plot(kind='line')"
   ]
  },
  {
   "cell_type": "markdown",
   "metadata": {},
   "source": [
    "### missing values"
   ]
  },
  {
   "cell_type": "code",
   "execution_count": 1,
   "metadata": {},
   "outputs": [],
   "source": [
    "import pandas as pd "
   ]
  },
  {
   "cell_type": "code",
   "execution_count": 2,
   "metadata": {},
   "outputs": [
    {
     "data": {
      "text/html": [
       "<div>\n",
       "<style scoped>\n",
       "    .dataframe tbody tr th:only-of-type {\n",
       "        vertical-align: middle;\n",
       "    }\n",
       "\n",
       "    .dataframe tbody tr th {\n",
       "        vertical-align: top;\n",
       "    }\n",
       "\n",
       "    .dataframe thead th {\n",
       "        text-align: right;\n",
       "    }\n",
       "</style>\n",
       "<table border=\"1\" class=\"dataframe\">\n",
       "  <thead>\n",
       "    <tr style=\"text-align: right;\">\n",
       "      <th></th>\n",
       "      <th>symboling</th>\n",
       "      <th>normalized-losses</th>\n",
       "      <th>make</th>\n",
       "      <th>fuel-type</th>\n",
       "      <th>aspiration</th>\n",
       "      <th>num-of-doors</th>\n",
       "      <th>body-style</th>\n",
       "      <th>drive-wheels</th>\n",
       "      <th>engine-location</th>\n",
       "      <th>wheel-base</th>\n",
       "      <th>...</th>\n",
       "      <th>engine-size</th>\n",
       "      <th>fuel-system</th>\n",
       "      <th>bore</th>\n",
       "      <th>stroke</th>\n",
       "      <th>compression-ratio</th>\n",
       "      <th>horsepower</th>\n",
       "      <th>peak-rpm</th>\n",
       "      <th>city-mpg</th>\n",
       "      <th>highway-mpg</th>\n",
       "      <th>price</th>\n",
       "    </tr>\n",
       "  </thead>\n",
       "  <tbody>\n",
       "    <tr>\n",
       "      <th>0</th>\n",
       "      <td>3</td>\n",
       "      <td>NaN</td>\n",
       "      <td>alfa-romero</td>\n",
       "      <td>gas</td>\n",
       "      <td>std</td>\n",
       "      <td>two</td>\n",
       "      <td>convertible</td>\n",
       "      <td>rwd</td>\n",
       "      <td>front</td>\n",
       "      <td>88.6</td>\n",
       "      <td>...</td>\n",
       "      <td>130</td>\n",
       "      <td>mpfi</td>\n",
       "      <td>3.47</td>\n",
       "      <td>2.68</td>\n",
       "      <td>9.0</td>\n",
       "      <td>111.0</td>\n",
       "      <td>5000.0</td>\n",
       "      <td>21</td>\n",
       "      <td>27</td>\n",
       "      <td>13495.0</td>\n",
       "    </tr>\n",
       "    <tr>\n",
       "      <th>1</th>\n",
       "      <td>3</td>\n",
       "      <td>NaN</td>\n",
       "      <td>alfa-romero</td>\n",
       "      <td>gas</td>\n",
       "      <td>std</td>\n",
       "      <td>two</td>\n",
       "      <td>convertible</td>\n",
       "      <td>rwd</td>\n",
       "      <td>front</td>\n",
       "      <td>88.6</td>\n",
       "      <td>...</td>\n",
       "      <td>130</td>\n",
       "      <td>mpfi</td>\n",
       "      <td>3.47</td>\n",
       "      <td>2.68</td>\n",
       "      <td>9.0</td>\n",
       "      <td>111.0</td>\n",
       "      <td>5000.0</td>\n",
       "      <td>21</td>\n",
       "      <td>27</td>\n",
       "      <td>16500.0</td>\n",
       "    </tr>\n",
       "    <tr>\n",
       "      <th>2</th>\n",
       "      <td>1</td>\n",
       "      <td>NaN</td>\n",
       "      <td>alfa-romero</td>\n",
       "      <td>gas</td>\n",
       "      <td>std</td>\n",
       "      <td>two</td>\n",
       "      <td>hatchback</td>\n",
       "      <td>rwd</td>\n",
       "      <td>front</td>\n",
       "      <td>94.5</td>\n",
       "      <td>...</td>\n",
       "      <td>152</td>\n",
       "      <td>mpfi</td>\n",
       "      <td>2.68</td>\n",
       "      <td>3.47</td>\n",
       "      <td>9.0</td>\n",
       "      <td>154.0</td>\n",
       "      <td>5000.0</td>\n",
       "      <td>19</td>\n",
       "      <td>26</td>\n",
       "      <td>16500.0</td>\n",
       "    </tr>\n",
       "    <tr>\n",
       "      <th>3</th>\n",
       "      <td>2</td>\n",
       "      <td>164.0</td>\n",
       "      <td>audi</td>\n",
       "      <td>gas</td>\n",
       "      <td>std</td>\n",
       "      <td>four</td>\n",
       "      <td>sedan</td>\n",
       "      <td>fwd</td>\n",
       "      <td>front</td>\n",
       "      <td>99.8</td>\n",
       "      <td>...</td>\n",
       "      <td>109</td>\n",
       "      <td>mpfi</td>\n",
       "      <td>3.19</td>\n",
       "      <td>3.40</td>\n",
       "      <td>10.0</td>\n",
       "      <td>102.0</td>\n",
       "      <td>5500.0</td>\n",
       "      <td>24</td>\n",
       "      <td>30</td>\n",
       "      <td>13950.0</td>\n",
       "    </tr>\n",
       "    <tr>\n",
       "      <th>4</th>\n",
       "      <td>2</td>\n",
       "      <td>164.0</td>\n",
       "      <td>audi</td>\n",
       "      <td>gas</td>\n",
       "      <td>std</td>\n",
       "      <td>four</td>\n",
       "      <td>sedan</td>\n",
       "      <td>4wd</td>\n",
       "      <td>front</td>\n",
       "      <td>99.4</td>\n",
       "      <td>...</td>\n",
       "      <td>136</td>\n",
       "      <td>mpfi</td>\n",
       "      <td>3.19</td>\n",
       "      <td>3.40</td>\n",
       "      <td>8.0</td>\n",
       "      <td>115.0</td>\n",
       "      <td>5500.0</td>\n",
       "      <td>18</td>\n",
       "      <td>22</td>\n",
       "      <td>17450.0</td>\n",
       "    </tr>\n",
       "  </tbody>\n",
       "</table>\n",
       "<p>5 rows × 26 columns</p>\n",
       "</div>"
      ],
      "text/plain": [
       "   symboling  normalized-losses         make fuel-type aspiration  \\\n",
       "0          3                NaN  alfa-romero       gas        std   \n",
       "1          3                NaN  alfa-romero       gas        std   \n",
       "2          1                NaN  alfa-romero       gas        std   \n",
       "3          2              164.0         audi       gas        std   \n",
       "4          2              164.0         audi       gas        std   \n",
       "\n",
       "  num-of-doors   body-style drive-wheels engine-location  wheel-base  ...  \\\n",
       "0          two  convertible          rwd           front        88.6  ...   \n",
       "1          two  convertible          rwd           front        88.6  ...   \n",
       "2          two    hatchback          rwd           front        94.5  ...   \n",
       "3         four        sedan          fwd           front        99.8  ...   \n",
       "4         four        sedan          4wd           front        99.4  ...   \n",
       "\n",
       "   engine-size  fuel-system  bore  stroke compression-ratio horsepower  \\\n",
       "0          130         mpfi  3.47    2.68               9.0      111.0   \n",
       "1          130         mpfi  3.47    2.68               9.0      111.0   \n",
       "2          152         mpfi  2.68    3.47               9.0      154.0   \n",
       "3          109         mpfi  3.19    3.40              10.0      102.0   \n",
       "4          136         mpfi  3.19    3.40               8.0      115.0   \n",
       "\n",
       "   peak-rpm city-mpg  highway-mpg    price  \n",
       "0    5000.0       21           27  13495.0  \n",
       "1    5000.0       21           27  16500.0  \n",
       "2    5000.0       19           26  16500.0  \n",
       "3    5500.0       24           30  13950.0  \n",
       "4    5500.0       18           22  17450.0  \n",
       "\n",
       "[5 rows x 26 columns]"
      ]
     },
     "execution_count": 2,
     "metadata": {},
     "output_type": "execute_result"
    }
   ],
   "source": [
    "df = pd.read_csv('dataset/automobile.csv', sep=',')\n",
    "df.head()"
   ]
  },
  {
   "cell_type": "markdown",
   "metadata": {},
   "source": [
    "- `df.isna()` checks if the entire dataset has missing values. it shows False if none exists and True if it does for every single value. in essence it shows the entire dataset with boolean (True / False) entries\n"
   ]
  },
  {
   "cell_type": "code",
   "execution_count": 3,
   "metadata": {},
   "outputs": [
    {
     "data": {
      "text/html": [
       "<div>\n",
       "<style scoped>\n",
       "    .dataframe tbody tr th:only-of-type {\n",
       "        vertical-align: middle;\n",
       "    }\n",
       "\n",
       "    .dataframe tbody tr th {\n",
       "        vertical-align: top;\n",
       "    }\n",
       "\n",
       "    .dataframe thead th {\n",
       "        text-align: right;\n",
       "    }\n",
       "</style>\n",
       "<table border=\"1\" class=\"dataframe\">\n",
       "  <thead>\n",
       "    <tr style=\"text-align: right;\">\n",
       "      <th></th>\n",
       "      <th>symboling</th>\n",
       "      <th>normalized-losses</th>\n",
       "      <th>make</th>\n",
       "      <th>fuel-type</th>\n",
       "      <th>aspiration</th>\n",
       "      <th>num-of-doors</th>\n",
       "      <th>body-style</th>\n",
       "      <th>drive-wheels</th>\n",
       "      <th>engine-location</th>\n",
       "      <th>wheel-base</th>\n",
       "      <th>...</th>\n",
       "      <th>engine-size</th>\n",
       "      <th>fuel-system</th>\n",
       "      <th>bore</th>\n",
       "      <th>stroke</th>\n",
       "      <th>compression-ratio</th>\n",
       "      <th>horsepower</th>\n",
       "      <th>peak-rpm</th>\n",
       "      <th>city-mpg</th>\n",
       "      <th>highway-mpg</th>\n",
       "      <th>price</th>\n",
       "    </tr>\n",
       "  </thead>\n",
       "  <tbody>\n",
       "    <tr>\n",
       "      <th>0</th>\n",
       "      <td>False</td>\n",
       "      <td>True</td>\n",
       "      <td>False</td>\n",
       "      <td>False</td>\n",
       "      <td>False</td>\n",
       "      <td>False</td>\n",
       "      <td>False</td>\n",
       "      <td>False</td>\n",
       "      <td>False</td>\n",
       "      <td>False</td>\n",
       "      <td>...</td>\n",
       "      <td>False</td>\n",
       "      <td>False</td>\n",
       "      <td>False</td>\n",
       "      <td>False</td>\n",
       "      <td>False</td>\n",
       "      <td>False</td>\n",
       "      <td>False</td>\n",
       "      <td>False</td>\n",
       "      <td>False</td>\n",
       "      <td>False</td>\n",
       "    </tr>\n",
       "    <tr>\n",
       "      <th>1</th>\n",
       "      <td>False</td>\n",
       "      <td>True</td>\n",
       "      <td>False</td>\n",
       "      <td>False</td>\n",
       "      <td>False</td>\n",
       "      <td>False</td>\n",
       "      <td>False</td>\n",
       "      <td>False</td>\n",
       "      <td>False</td>\n",
       "      <td>False</td>\n",
       "      <td>...</td>\n",
       "      <td>False</td>\n",
       "      <td>False</td>\n",
       "      <td>False</td>\n",
       "      <td>False</td>\n",
       "      <td>False</td>\n",
       "      <td>False</td>\n",
       "      <td>False</td>\n",
       "      <td>False</td>\n",
       "      <td>False</td>\n",
       "      <td>False</td>\n",
       "    </tr>\n",
       "    <tr>\n",
       "      <th>2</th>\n",
       "      <td>False</td>\n",
       "      <td>True</td>\n",
       "      <td>False</td>\n",
       "      <td>False</td>\n",
       "      <td>False</td>\n",
       "      <td>False</td>\n",
       "      <td>False</td>\n",
       "      <td>False</td>\n",
       "      <td>False</td>\n",
       "      <td>False</td>\n",
       "      <td>...</td>\n",
       "      <td>False</td>\n",
       "      <td>False</td>\n",
       "      <td>False</td>\n",
       "      <td>False</td>\n",
       "      <td>False</td>\n",
       "      <td>False</td>\n",
       "      <td>False</td>\n",
       "      <td>False</td>\n",
       "      <td>False</td>\n",
       "      <td>False</td>\n",
       "    </tr>\n",
       "    <tr>\n",
       "      <th>3</th>\n",
       "      <td>False</td>\n",
       "      <td>False</td>\n",
       "      <td>False</td>\n",
       "      <td>False</td>\n",
       "      <td>False</td>\n",
       "      <td>False</td>\n",
       "      <td>False</td>\n",
       "      <td>False</td>\n",
       "      <td>False</td>\n",
       "      <td>False</td>\n",
       "      <td>...</td>\n",
       "      <td>False</td>\n",
       "      <td>False</td>\n",
       "      <td>False</td>\n",
       "      <td>False</td>\n",
       "      <td>False</td>\n",
       "      <td>False</td>\n",
       "      <td>False</td>\n",
       "      <td>False</td>\n",
       "      <td>False</td>\n",
       "      <td>False</td>\n",
       "    </tr>\n",
       "    <tr>\n",
       "      <th>4</th>\n",
       "      <td>False</td>\n",
       "      <td>False</td>\n",
       "      <td>False</td>\n",
       "      <td>False</td>\n",
       "      <td>False</td>\n",
       "      <td>False</td>\n",
       "      <td>False</td>\n",
       "      <td>False</td>\n",
       "      <td>False</td>\n",
       "      <td>False</td>\n",
       "      <td>...</td>\n",
       "      <td>False</td>\n",
       "      <td>False</td>\n",
       "      <td>False</td>\n",
       "      <td>False</td>\n",
       "      <td>False</td>\n",
       "      <td>False</td>\n",
       "      <td>False</td>\n",
       "      <td>False</td>\n",
       "      <td>False</td>\n",
       "      <td>False</td>\n",
       "    </tr>\n",
       "    <tr>\n",
       "      <th>...</th>\n",
       "      <td>...</td>\n",
       "      <td>...</td>\n",
       "      <td>...</td>\n",
       "      <td>...</td>\n",
       "      <td>...</td>\n",
       "      <td>...</td>\n",
       "      <td>...</td>\n",
       "      <td>...</td>\n",
       "      <td>...</td>\n",
       "      <td>...</td>\n",
       "      <td>...</td>\n",
       "      <td>...</td>\n",
       "      <td>...</td>\n",
       "      <td>...</td>\n",
       "      <td>...</td>\n",
       "      <td>...</td>\n",
       "      <td>...</td>\n",
       "      <td>...</td>\n",
       "      <td>...</td>\n",
       "      <td>...</td>\n",
       "      <td>...</td>\n",
       "    </tr>\n",
       "    <tr>\n",
       "      <th>200</th>\n",
       "      <td>False</td>\n",
       "      <td>False</td>\n",
       "      <td>False</td>\n",
       "      <td>False</td>\n",
       "      <td>False</td>\n",
       "      <td>False</td>\n",
       "      <td>False</td>\n",
       "      <td>False</td>\n",
       "      <td>False</td>\n",
       "      <td>False</td>\n",
       "      <td>...</td>\n",
       "      <td>False</td>\n",
       "      <td>False</td>\n",
       "      <td>False</td>\n",
       "      <td>False</td>\n",
       "      <td>False</td>\n",
       "      <td>False</td>\n",
       "      <td>False</td>\n",
       "      <td>False</td>\n",
       "      <td>False</td>\n",
       "      <td>False</td>\n",
       "    </tr>\n",
       "    <tr>\n",
       "      <th>201</th>\n",
       "      <td>False</td>\n",
       "      <td>False</td>\n",
       "      <td>False</td>\n",
       "      <td>False</td>\n",
       "      <td>False</td>\n",
       "      <td>False</td>\n",
       "      <td>False</td>\n",
       "      <td>False</td>\n",
       "      <td>False</td>\n",
       "      <td>False</td>\n",
       "      <td>...</td>\n",
       "      <td>False</td>\n",
       "      <td>False</td>\n",
       "      <td>False</td>\n",
       "      <td>False</td>\n",
       "      <td>False</td>\n",
       "      <td>False</td>\n",
       "      <td>False</td>\n",
       "      <td>False</td>\n",
       "      <td>False</td>\n",
       "      <td>False</td>\n",
       "    </tr>\n",
       "    <tr>\n",
       "      <th>202</th>\n",
       "      <td>False</td>\n",
       "      <td>False</td>\n",
       "      <td>False</td>\n",
       "      <td>False</td>\n",
       "      <td>False</td>\n",
       "      <td>False</td>\n",
       "      <td>False</td>\n",
       "      <td>False</td>\n",
       "      <td>False</td>\n",
       "      <td>False</td>\n",
       "      <td>...</td>\n",
       "      <td>False</td>\n",
       "      <td>False</td>\n",
       "      <td>False</td>\n",
       "      <td>False</td>\n",
       "      <td>False</td>\n",
       "      <td>False</td>\n",
       "      <td>False</td>\n",
       "      <td>False</td>\n",
       "      <td>False</td>\n",
       "      <td>False</td>\n",
       "    </tr>\n",
       "    <tr>\n",
       "      <th>203</th>\n",
       "      <td>False</td>\n",
       "      <td>False</td>\n",
       "      <td>False</td>\n",
       "      <td>False</td>\n",
       "      <td>False</td>\n",
       "      <td>False</td>\n",
       "      <td>False</td>\n",
       "      <td>False</td>\n",
       "      <td>False</td>\n",
       "      <td>False</td>\n",
       "      <td>...</td>\n",
       "      <td>False</td>\n",
       "      <td>False</td>\n",
       "      <td>False</td>\n",
       "      <td>False</td>\n",
       "      <td>False</td>\n",
       "      <td>False</td>\n",
       "      <td>False</td>\n",
       "      <td>False</td>\n",
       "      <td>False</td>\n",
       "      <td>False</td>\n",
       "    </tr>\n",
       "    <tr>\n",
       "      <th>204</th>\n",
       "      <td>False</td>\n",
       "      <td>False</td>\n",
       "      <td>False</td>\n",
       "      <td>False</td>\n",
       "      <td>False</td>\n",
       "      <td>False</td>\n",
       "      <td>False</td>\n",
       "      <td>False</td>\n",
       "      <td>False</td>\n",
       "      <td>False</td>\n",
       "      <td>...</td>\n",
       "      <td>False</td>\n",
       "      <td>False</td>\n",
       "      <td>False</td>\n",
       "      <td>False</td>\n",
       "      <td>False</td>\n",
       "      <td>False</td>\n",
       "      <td>False</td>\n",
       "      <td>False</td>\n",
       "      <td>False</td>\n",
       "      <td>False</td>\n",
       "    </tr>\n",
       "  </tbody>\n",
       "</table>\n",
       "<p>205 rows × 26 columns</p>\n",
       "</div>"
      ],
      "text/plain": [
       "     symboling  normalized-losses   make  fuel-type  aspiration  num-of-doors  \\\n",
       "0        False               True  False      False       False         False   \n",
       "1        False               True  False      False       False         False   \n",
       "2        False               True  False      False       False         False   \n",
       "3        False              False  False      False       False         False   \n",
       "4        False              False  False      False       False         False   \n",
       "..         ...                ...    ...        ...         ...           ...   \n",
       "200      False              False  False      False       False         False   \n",
       "201      False              False  False      False       False         False   \n",
       "202      False              False  False      False       False         False   \n",
       "203      False              False  False      False       False         False   \n",
       "204      False              False  False      False       False         False   \n",
       "\n",
       "     body-style  drive-wheels  engine-location  wheel-base  ...  engine-size  \\\n",
       "0         False         False            False       False  ...        False   \n",
       "1         False         False            False       False  ...        False   \n",
       "2         False         False            False       False  ...        False   \n",
       "3         False         False            False       False  ...        False   \n",
       "4         False         False            False       False  ...        False   \n",
       "..          ...           ...              ...         ...  ...          ...   \n",
       "200       False         False            False       False  ...        False   \n",
       "201       False         False            False       False  ...        False   \n",
       "202       False         False            False       False  ...        False   \n",
       "203       False         False            False       False  ...        False   \n",
       "204       False         False            False       False  ...        False   \n",
       "\n",
       "     fuel-system   bore  stroke  compression-ratio  horsepower  peak-rpm  \\\n",
       "0          False  False   False              False       False     False   \n",
       "1          False  False   False              False       False     False   \n",
       "2          False  False   False              False       False     False   \n",
       "3          False  False   False              False       False     False   \n",
       "4          False  False   False              False       False     False   \n",
       "..           ...    ...     ...                ...         ...       ...   \n",
       "200        False  False   False              False       False     False   \n",
       "201        False  False   False              False       False     False   \n",
       "202        False  False   False              False       False     False   \n",
       "203        False  False   False              False       False     False   \n",
       "204        False  False   False              False       False     False   \n",
       "\n",
       "     city-mpg  highway-mpg  price  \n",
       "0       False        False  False  \n",
       "1       False        False  False  \n",
       "2       False        False  False  \n",
       "3       False        False  False  \n",
       "4       False        False  False  \n",
       "..        ...          ...    ...  \n",
       "200     False        False  False  \n",
       "201     False        False  False  \n",
       "202     False        False  False  \n",
       "203     False        False  False  \n",
       "204     False        False  False  \n",
       "\n",
       "[205 rows x 26 columns]"
      ]
     },
     "execution_count": 3,
     "metadata": {},
     "output_type": "execute_result"
    }
   ],
   "source": [
    "df.isna() # True - is missing || False - not missing"
   ]
  },
  {
   "cell_type": "markdown",
   "metadata": {},
   "source": [
    "- `df.isna().sum()` is used to sum the number of entries with `True` for each column. in other words it prints out the number of missing values for each column"
   ]
  },
  {
   "cell_type": "code",
   "execution_count": 4,
   "metadata": {},
   "outputs": [
    {
     "data": {
      "text/plain": [
       "symboling             0\n",
       "normalized-losses    41\n",
       "make                  0\n",
       "fuel-type             0\n",
       "aspiration            0\n",
       "num-of-doors          2\n",
       "body-style            0\n",
       "drive-wheels          0\n",
       "engine-location       0\n",
       "wheel-base            0\n",
       "length                0\n",
       "width                 0\n",
       "height                0\n",
       "curb-weight           0\n",
       "engine-type           0\n",
       "num-of-cylinders      0\n",
       "engine-size           0\n",
       "fuel-system           0\n",
       "bore                  4\n",
       "stroke                4\n",
       "compression-ratio     0\n",
       "horsepower            2\n",
       "peak-rpm              2\n",
       "city-mpg              0\n",
       "highway-mpg           0\n",
       "price                 4\n",
       "dtype: int64"
      ]
     },
     "execution_count": 4,
     "metadata": {},
     "output_type": "execute_result"
    }
   ],
   "source": [
    "df.isna().sum() # sums up the number missing values column-wise"
   ]
  },
  {
   "cell_type": "markdown",
   "metadata": {},
   "source": [
    "- `df.isna().any()` is used to check if there's any missing values in the columns\n",
    "\n",
    "- `df.isna().sum()` is used to sum the number of entries with `True` for each column. in other words it prints out the number of missing values for each column\n",
    "\n",
    "- using the `.plot(kind='bar')` method displays a graphical representation (bar chat) of your missing values.\n",
    "```python\n",
    "    `df.isna().sum().plot(kind='bar')` # full python code\n",
    "```"
   ]
  },
  {
   "cell_type": "code",
   "execution_count": 5,
   "metadata": {},
   "outputs": [
    {
     "data": {
      "text/plain": [
       "symboling            False\n",
       "normalized-losses     True\n",
       "make                 False\n",
       "fuel-type            False\n",
       "aspiration           False\n",
       "num-of-doors          True\n",
       "body-style           False\n",
       "drive-wheels         False\n",
       "engine-location      False\n",
       "wheel-base           False\n",
       "length               False\n",
       "width                False\n",
       "height               False\n",
       "curb-weight          False\n",
       "engine-type          False\n",
       "num-of-cylinders     False\n",
       "engine-size          False\n",
       "fuel-system          False\n",
       "bore                  True\n",
       "stroke                True\n",
       "compression-ratio    False\n",
       "horsepower            True\n",
       "peak-rpm              True\n",
       "city-mpg             False\n",
       "highway-mpg          False\n",
       "price                 True\n",
       "dtype: bool"
      ]
     },
     "execution_count": 5,
     "metadata": {},
     "output_type": "execute_result"
    }
   ],
   "source": [
    "df.isna().any()"
   ]
  },
  {
   "cell_type": "code",
   "execution_count": 6,
   "metadata": {},
   "outputs": [
    {
     "data": {
      "text/plain": [
       "<Axes: title={'center': 'Missing values'}>"
      ]
     },
     "execution_count": 6,
     "metadata": {},
     "output_type": "execute_result"
    },
    {
     "data": {
      "image/png": "[encoded data removed]",
      "text/plain": [
       "<Figure size 640x480 with 1 Axes>"
      ]
     },
     "metadata": {},
     "output_type": "display_data"
    }
   ],
   "source": [
    "df.isna().sum().plot(kind='bar', title='Missing values') # creats a bar chat for the missing values"
   ]
  },
  {
   "cell_type": "markdown",
   "metadata": {},
   "source": [
    "### Dealing with missing values"
   ]
  },
  {
   "cell_type": "markdown",
   "metadata": {},
   "source": [
    "**Removing missing values**\n",
    "- `df.dropna()` removes the rows with missing values. this is not adviced if the dataset is very small (like this one)"
   ]
  },
  {
   "cell_type": "code",
   "execution_count": 7,
   "metadata": {},
   "outputs": [
    {
     "data": {
      "text/plain": [
       "symboling             0\n",
       "normalized-losses    41\n",
       "make                  0\n",
       "fuel-type             0\n",
       "aspiration            0\n",
       "num-of-doors          2\n",
       "body-style            0\n",
       "drive-wheels          0\n",
       "engine-location       0\n",
       "wheel-base            0\n",
       "length                0\n",
       "width                 0\n",
       "height                0\n",
       "curb-weight           0\n",
       "engine-type           0\n",
       "num-of-cylinders      0\n",
       "engine-size           0\n",
       "fuel-system           0\n",
       "bore                  4\n",
       "stroke                4\n",
       "compression-ratio     0\n",
       "horsepower            2\n",
       "peak-rpm              2\n",
       "city-mpg              0\n",
       "highway-mpg           0\n",
       "price                 4\n",
       "dtype: int64"
      ]
     },
     "execution_count": 7,
     "metadata": {},
     "output_type": "execute_result"
    }
   ],
   "source": [
    "df_removed = df.copy()\n",
    "df_removed.isna().sum()"
   ]
  },
  {
   "cell_type": "code",
   "execution_count": 8,
   "metadata": {},
   "outputs": [
    {
     "data": {
      "text/plain": [
       "((159, 26), (205, 26))"
      ]
     },
     "execution_count": 8,
     "metadata": {},
     "output_type": "execute_result"
    }
   ],
   "source": [
    "df_removed.dropna(inplace=True) # removing all rows with missing values\n",
    "df_removed.shape, df.shape # different shape from the original dataframe"
   ]
  },
  {
   "cell_type": "markdown",
   "metadata": {},
   "source": [
    "**fill missing values**\n",
    "- `df.fillna(value)` used to fill the missing cells with `value` you define"
   ]
  },
  {
   "cell_type": "code",
   "execution_count": 9,
   "metadata": {},
   "outputs": [
    {
     "data": {
      "text/plain": [
       "symboling             0\n",
       "normalized-losses    41\n",
       "make                  0\n",
       "fuel-type             0\n",
       "aspiration            0\n",
       "num-of-doors          2\n",
       "body-style            0\n",
       "drive-wheels          0\n",
       "engine-location       0\n",
       "wheel-base            0\n",
       "length                0\n",
       "width                 0\n",
       "height                0\n",
       "curb-weight           0\n",
       "engine-type           0\n",
       "num-of-cylinders      0\n",
       "engine-size           0\n",
       "fuel-system           0\n",
       "bore                  4\n",
       "stroke                4\n",
       "compression-ratio     0\n",
       "horsepower            2\n",
       "peak-rpm              2\n",
       "city-mpg              0\n",
       "highway-mpg           0\n",
       "price                 4\n",
       "dtype: int64"
      ]
     },
     "execution_count": 9,
     "metadata": {},
     "output_type": "execute_result"
    }
   ],
   "source": [
    "df_filled = df.copy()\n",
    "df_filled.isna().sum()"
   ]
  },
  {
   "cell_type": "code",
   "execution_count": 10,
   "metadata": {},
   "outputs": [
    {
     "data": {
      "text/plain": [
       "symboling            0\n",
       "normalized-losses    0\n",
       "make                 0\n",
       "fuel-type            0\n",
       "aspiration           0\n",
       "num-of-doors         0\n",
       "body-style           0\n",
       "drive-wheels         0\n",
       "engine-location      0\n",
       "wheel-base           0\n",
       "length               0\n",
       "width                0\n",
       "height               0\n",
       "curb-weight          0\n",
       "engine-type          0\n",
       "num-of-cylinders     0\n",
       "engine-size          0\n",
       "fuel-system          0\n",
       "bore                 0\n",
       "stroke               0\n",
       "compression-ratio    0\n",
       "horsepower           0\n",
       "peak-rpm             0\n",
       "city-mpg             0\n",
       "highway-mpg          0\n",
       "price                0\n",
       "dtype: int64"
      ]
     },
     "execution_count": 10,
     "metadata": {},
     "output_type": "execute_result"
    }
   ],
   "source": [
    "df_filled.fillna(0, inplace=True) # replacing all NaN values with 0\n",
    "df_filled.isna().sum()"
   ]
  },
  {
   "cell_type": "code",
   "execution_count": 11,
   "metadata": {},
   "outputs": [
    {
     "data": {
      "text/plain": [
       "((205, 26), (205, 26))"
      ]
     },
     "execution_count": 11,
     "metadata": {},
     "output_type": "execute_result"
    }
   ],
   "source": [
    "df_filled.shape, df.shape # same shape as original"
   ]
  },
  {
   "cell_type": "markdown",
   "metadata": {},
   "source": [
    "### Creating Dataframes\n",
    "| from a list of dictionaries | from a dictionary of lists |\n",
    "|-----------------------------|----------------------------|\n",
    "| contructed row by row | constructed column by column |"
   ]
  },
  {
   "cell_type": "code",
   "execution_count": 12,
   "metadata": {},
   "outputs": [],
   "source": [
    "import pandas as pd "
   ]
  },
  {
   "cell_type": "markdown",
   "metadata": {},
   "source": [
    "**list of dictionaries** <br>\n",
    "pair the header `(key)` and each element in a row `(value)`. do this for each and every row in the raw data."
   ]
  },
  {
   "cell_type": "code",
   "execution_count": 13,
   "metadata": {},
   "outputs": [
    {
     "data": {
      "text/html": [
       "<div>\n",
       "<style scoped>\n",
       "    .dataframe tbody tr th:only-of-type {\n",
       "        vertical-align: middle;\n",
       "    }\n",
       "\n",
       "    .dataframe tbody tr th {\n",
       "        vertical-align: top;\n",
       "    }\n",
       "\n",
       "    .dataframe thead th {\n",
       "        text-align: right;\n",
       "    }\n",
       "</style>\n",
       "<table border=\"1\" class=\"dataframe\">\n",
       "  <thead>\n",
       "    <tr style=\"text-align: right;\">\n",
       "      <th></th>\n",
       "      <th>name</th>\n",
       "      <th>breed</th>\n",
       "      <th>height</th>\n",
       "      <th>weight</th>\n",
       "      <th>dob</th>\n",
       "    </tr>\n",
       "  </thead>\n",
       "  <tbody>\n",
       "    <tr>\n",
       "      <th>0</th>\n",
       "      <td>ginger</td>\n",
       "      <td>dachshund</td>\n",
       "      <td>22</td>\n",
       "      <td>10</td>\n",
       "      <td>2019-03-14</td>\n",
       "    </tr>\n",
       "    <tr>\n",
       "      <th>1</th>\n",
       "      <td>scout</td>\n",
       "      <td>dalmatian</td>\n",
       "      <td>59</td>\n",
       "      <td>25</td>\n",
       "      <td>2019-05-09</td>\n",
       "    </tr>\n",
       "  </tbody>\n",
       "</table>\n",
       "</div>"
      ],
      "text/plain": [
       "     name      breed  height  weight         dob\n",
       "0  ginger  dachshund      22      10  2019-03-14\n",
       "1   scout  dalmatian      59      25  2019-05-09"
      ]
     },
     "execution_count": 13,
     "metadata": {},
     "output_type": "execute_result"
    }
   ],
   "source": [
    "list_of_dicts = [\n",
    "    {'name': 'ginger', 'breed': 'dachshund', 'height': 22,\n",
    "     'weight': 10, 'dob': '2019-03-14'},\n",
    "    {'name': 'scout', 'breed': 'dalmatian', 'height': 59,\n",
    "     'weight': 25, 'dob': '2019-05-09'},\n",
    "]\n",
    "df_lod = pd.DataFrame(list_of_dicts)\n",
    "df_lod\n"
   ]
  },
  {
   "cell_type": "markdown",
   "metadata": {},
   "source": [
    "**dictionary of lists** <br>\n",
    "- `key` --> column name\n",
    "- `value` --> list of column values "
   ]
  },
  {
   "cell_type": "code",
   "execution_count": 14,
   "metadata": {},
   "outputs": [
    {
     "data": {
      "text/html": [
       "<div>\n",
       "<style scoped>\n",
       "    .dataframe tbody tr th:only-of-type {\n",
       "        vertical-align: middle;\n",
       "    }\n",
       "\n",
       "    .dataframe tbody tr th {\n",
       "        vertical-align: top;\n",
       "    }\n",
       "\n",
       "    .dataframe thead th {\n",
       "        text-align: right;\n",
       "    }\n",
       "</style>\n",
       "<table border=\"1\" class=\"dataframe\">\n",
       "  <thead>\n",
       "    <tr style=\"text-align: right;\">\n",
       "      <th></th>\n",
       "      <th>name</th>\n",
       "      <th>breed</th>\n",
       "      <th>height</th>\n",
       "      <th>weight</th>\n",
       "      <th>dob</th>\n",
       "    </tr>\n",
       "  </thead>\n",
       "  <tbody>\n",
       "    <tr>\n",
       "      <th>0</th>\n",
       "      <td>ginger</td>\n",
       "      <td>dachshund</td>\n",
       "      <td>22</td>\n",
       "      <td>10</td>\n",
       "      <td>2019-03-14</td>\n",
       "    </tr>\n",
       "    <tr>\n",
       "      <th>1</th>\n",
       "      <td>scout</td>\n",
       "      <td>dalmatian</td>\n",
       "      <td>59</td>\n",
       "      <td>25</td>\n",
       "      <td>2019-05-09</td>\n",
       "    </tr>\n",
       "  </tbody>\n",
       "</table>\n",
       "</div>"
      ],
      "text/plain": [
       "     name      breed  height  weight         dob\n",
       "0  ginger  dachshund      22      10  2019-03-14\n",
       "1   scout  dalmatian      59      25  2019-05-09"
      ]
     },
     "execution_count": 14,
     "metadata": {},
     "output_type": "execute_result"
    }
   ],
   "source": [
    "dict_of_lists = {\n",
    "    'name': ['ginger', 'scout'],\n",
    "    'breed': ['dachshund', 'dalmatian'],\n",
    "    'height': [22, 59], \n",
    "    'weight': [10, 25],\n",
    "    'dob': ['2019-03-14', '2019-05-09']\n",
    "}\n",
    "df_dol = pd.DataFrame(dict_of_lists)\n",
    "df_dol "
   ]
  },
  {
   "cell_type": "markdown",
   "metadata": {},
   "source": [
    "### reading and writing to a csv file\n",
    "\n",
    "**reading** <br>\n",
    "`filename = \"path/to/file.csv\" ` location of file and \n",
    "\n",
    "`df = pd.read_csv(filename)`\n",
    "\n",
    "**writing** <br>\n",
    "`df.to_csv( \"path/to/save/new_filename.csv\" )`\n"
   ]
  },
  {
   "cell_type": "code",
   "execution_count": 15,
   "metadata": {},
   "outputs": [
    {
     "data": {
      "text/html": [
       "<div>\n",
       "<style scoped>\n",
       "    .dataframe tbody tr th:only-of-type {\n",
       "        vertical-align: middle;\n",
       "    }\n",
       "\n",
       "    .dataframe tbody tr th {\n",
       "        vertical-align: top;\n",
       "    }\n",
       "\n",
       "    .dataframe thead th {\n",
       "        text-align: right;\n",
       "    }\n",
       "</style>\n",
       "<table border=\"1\" class=\"dataframe\">\n",
       "  <thead>\n",
       "    <tr style=\"text-align: right;\">\n",
       "      <th></th>\n",
       "      <th>name</th>\n",
       "      <th>breed</th>\n",
       "      <th>height</th>\n",
       "      <th>weight</th>\n",
       "      <th>dob</th>\n",
       "    </tr>\n",
       "  </thead>\n",
       "  <tbody>\n",
       "    <tr>\n",
       "      <th>0</th>\n",
       "      <td>ginger</td>\n",
       "      <td>dachshund</td>\n",
       "      <td>22</td>\n",
       "      <td>10</td>\n",
       "      <td>2019-03-14</td>\n",
       "    </tr>\n",
       "    <tr>\n",
       "      <th>1</th>\n",
       "      <td>scout</td>\n",
       "      <td>dalmatian</td>\n",
       "      <td>59</td>\n",
       "      <td>25</td>\n",
       "      <td>2019-05-09</td>\n",
       "    </tr>\n",
       "  </tbody>\n",
       "</table>\n",
       "</div>"
      ],
      "text/plain": [
       "     name      breed  height  weight         dob\n",
       "0  ginger  dachshund      22      10  2019-03-14\n",
       "1   scout  dalmatian      59      25  2019-05-09"
      ]
     },
     "execution_count": 15,
     "metadata": {},
     "output_type": "execute_result"
    }
   ],
   "source": [
    "df_dol.drop_duplicates()"
   ]
  },
  {
   "cell_type": "code",
   "execution_count": null,
   "metadata": {},
   "outputs": [],
   "source": []
  },
  {
   "cell_type": "markdown",
   "metadata": {},
   "source": [
    "# joining data with pandas"
   ]
  },
  {
   "cell_type": "code",
   "execution_count": 18,
   "metadata": {},
   "outputs": [
    {
     "name": "stdout",
     "output_type": "stream",
     "text": [
      " actors_movies.csv   cta_ridership.p     sequels.p          ward.p\n",
      " automobile.csv      financials.p       'S&P500.csv'        WorldBank_GDP.csv\n",
      " business_owners.p   land_use.p          stations.p         WorldBank_POP.csv\n",
      " casts.p             licenses.p          \u001b[0m\u001b[01;32mstudent_mat.csv\u001b[0m*   zip_demo.p\n",
      " census.p            movies.p            taglines.p\n",
      " crews.p             movie_to_genres.p   taxi_owners.p\n",
      " cta_calendar.p      ratings.p           taxi_vehicles.p\n"
     ]
    }
   ],
   "source": [
    "ls dataset "
   ]
  },
  {
   "cell_type": "markdown",
   "metadata": {},
   "source": [
    "### Innter join - mergin or joing tables\n",
    "\n",
    "![Inner join]( ./image/innerjoin.png )\n",
    "\n",
    "**intersection is row-wise**\n",
    "\n",
    "**Remember that `.merge()` only returns rows where the values match in both tables.**"
   ]
  },
  {
   "cell_type": "code",
   "execution_count": 19,
   "metadata": {},
   "outputs": [],
   "source": [
    "import pickle \n",
    "import numpy as np \n",
    "import pandas as pd "
   ]
  },
  {
   "cell_type": "code",
   "execution_count": 20,
   "metadata": {},
   "outputs": [
    {
     "name": "stdout",
     "output_type": "stream",
     "text": [
      "(50, 4)\n"
     ]
    },
    {
     "data": {
      "text/html": [
       "<div>\n",
       "<style scoped>\n",
       "    .dataframe tbody tr th:only-of-type {\n",
       "        vertical-align: middle;\n",
       "    }\n",
       "\n",
       "    .dataframe tbody tr th {\n",
       "        vertical-align: top;\n",
       "    }\n",
       "\n",
       "    .dataframe thead th {\n",
       "        text-align: right;\n",
       "    }\n",
       "</style>\n",
       "<table border=\"1\" class=\"dataframe\">\n",
       "  <thead>\n",
       "    <tr style=\"text-align: right;\">\n",
       "      <th></th>\n",
       "      <th>ward</th>\n",
       "      <th>alderman</th>\n",
       "      <th>address</th>\n",
       "      <th>zip</th>\n",
       "    </tr>\n",
       "  </thead>\n",
       "  <tbody>\n",
       "    <tr>\n",
       "      <th>0</th>\n",
       "      <td>1</td>\n",
       "      <td>Proco \"Joe\" Moreno</td>\n",
       "      <td>2058 NORTH WESTERN AVENUE</td>\n",
       "      <td>60647</td>\n",
       "    </tr>\n",
       "    <tr>\n",
       "      <th>1</th>\n",
       "      <td>2</td>\n",
       "      <td>Brian Hopkins</td>\n",
       "      <td>1400 NORTH  ASHLAND AVENUE</td>\n",
       "      <td>60622</td>\n",
       "    </tr>\n",
       "    <tr>\n",
       "      <th>2</th>\n",
       "      <td>3</td>\n",
       "      <td>Pat Dowell</td>\n",
       "      <td>5046 SOUTH STATE STREET</td>\n",
       "      <td>60609</td>\n",
       "    </tr>\n",
       "    <tr>\n",
       "      <th>3</th>\n",
       "      <td>4</td>\n",
       "      <td>William D. Burns</td>\n",
       "      <td>435 EAST 35TH STREET, 1ST FLOOR</td>\n",
       "      <td>60616</td>\n",
       "    </tr>\n",
       "    <tr>\n",
       "      <th>4</th>\n",
       "      <td>5</td>\n",
       "      <td>Leslie A. Hairston</td>\n",
       "      <td>2325 EAST 71ST STREET</td>\n",
       "      <td>60649</td>\n",
       "    </tr>\n",
       "  </tbody>\n",
       "</table>\n",
       "</div>"
      ],
      "text/plain": [
       "  ward            alderman                          address    zip\n",
       "0    1  Proco \"Joe\" Moreno        2058 NORTH WESTERN AVENUE  60647\n",
       "1    2       Brian Hopkins       1400 NORTH  ASHLAND AVENUE  60622\n",
       "2    3          Pat Dowell          5046 SOUTH STATE STREET  60609\n",
       "3    4    William D. Burns  435 EAST 35TH STREET, 1ST FLOOR  60616\n",
       "4    5  Leslie A. Hairston            2325 EAST 71ST STREET  60649"
      ]
     },
     "execution_count": 20,
     "metadata": {},
     "output_type": "execute_result"
    }
   ],
   "source": [
    "# the ward data \n",
    "warddf = pd.read_pickle(\"./dataset/ward.p\")\n",
    "print(warddf.shape)\n",
    "warddf.head()"
   ]
  },
  {
   "cell_type": "code",
   "execution_count": 21,
   "metadata": {},
   "outputs": [
    {
     "name": "stdout",
     "output_type": "stream",
     "text": [
      "(50, 6)\n"
     ]
    },
    {
     "data": {
      "text/html": [
       "<div>\n",
       "<style scoped>\n",
       "    .dataframe tbody tr th:only-of-type {\n",
       "        vertical-align: middle;\n",
       "    }\n",
       "\n",
       "    .dataframe tbody tr th {\n",
       "        vertical-align: top;\n",
       "    }\n",
       "\n",
       "    .dataframe thead th {\n",
       "        text-align: right;\n",
       "    }\n",
       "</style>\n",
       "<table border=\"1\" class=\"dataframe\">\n",
       "  <thead>\n",
       "    <tr style=\"text-align: right;\">\n",
       "      <th></th>\n",
       "      <th>ward</th>\n",
       "      <th>pop_2000</th>\n",
       "      <th>pop_2010</th>\n",
       "      <th>change</th>\n",
       "      <th>address</th>\n",
       "      <th>zip</th>\n",
       "    </tr>\n",
       "  </thead>\n",
       "  <tbody>\n",
       "    <tr>\n",
       "      <th>0</th>\n",
       "      <td>1</td>\n",
       "      <td>52951</td>\n",
       "      <td>56149</td>\n",
       "      <td>6%</td>\n",
       "      <td>2765 WEST SAINT MARY STREET</td>\n",
       "      <td>60647</td>\n",
       "    </tr>\n",
       "    <tr>\n",
       "      <th>1</th>\n",
       "      <td>2</td>\n",
       "      <td>54361</td>\n",
       "      <td>55805</td>\n",
       "      <td>3%</td>\n",
       "      <td>WM WASTE MANAGEMENT 1500</td>\n",
       "      <td>60622</td>\n",
       "    </tr>\n",
       "    <tr>\n",
       "      <th>2</th>\n",
       "      <td>3</td>\n",
       "      <td>40385</td>\n",
       "      <td>53039</td>\n",
       "      <td>31%</td>\n",
       "      <td>17 EAST 38TH STREET</td>\n",
       "      <td>60653</td>\n",
       "    </tr>\n",
       "    <tr>\n",
       "      <th>3</th>\n",
       "      <td>4</td>\n",
       "      <td>51953</td>\n",
       "      <td>54589</td>\n",
       "      <td>5%</td>\n",
       "      <td>31ST ST HARBOR BUILDING LAKEFRONT TRAIL</td>\n",
       "      <td>60653</td>\n",
       "    </tr>\n",
       "    <tr>\n",
       "      <th>4</th>\n",
       "      <td>5</td>\n",
       "      <td>55302</td>\n",
       "      <td>51455</td>\n",
       "      <td>-7%</td>\n",
       "      <td>JACKSON PARK LAGOON SOUTH CORNELL DRIVE</td>\n",
       "      <td>60637</td>\n",
       "    </tr>\n",
       "  </tbody>\n",
       "</table>\n",
       "</div>"
      ],
      "text/plain": [
       "  ward  pop_2000  pop_2010 change                                  address  \\\n",
       "0    1     52951     56149     6%              2765 WEST SAINT MARY STREET   \n",
       "1    2     54361     55805     3%                 WM WASTE MANAGEMENT 1500   \n",
       "2    3     40385     53039    31%                      17 EAST 38TH STREET   \n",
       "3    4     51953     54589     5%  31ST ST HARBOR BUILDING LAKEFRONT TRAIL   \n",
       "4    5     55302     51455    -7%  JACKSON PARK LAGOON SOUTH CORNELL DRIVE   \n",
       "\n",
       "     zip  \n",
       "0  60647  \n",
       "1  60622  \n",
       "2  60653  \n",
       "3  60653  \n",
       "4  60637  "
      ]
     },
     "execution_count": 21,
     "metadata": {},
     "output_type": "execute_result"
    }
   ],
   "source": [
    "# the census data\n",
    "censusdf = pd.read_pickle(\"dataset/census.p\")\n",
    "print(censusdf.shape)\n",
    "censusdf.head()"
   ]
  },
  {
   "cell_type": "markdown",
   "metadata": {},
   "source": [
    "**comment:** the `census` and `ward` tables are related with their `\"ward\"` columns so we'll merge the two table using the `\"ward\"` as reference column.\n",
    "\n",
    "```python\n",
    "    # inner join (merge) syntax\n",
    "    merge_df = left_df.merge(right_df, on=\"column_in_common\")\n",
    "```"
   ]
  },
  {
   "cell_type": "code",
   "execution_count": 22,
   "metadata": {},
   "outputs": [
    {
     "name": "stdout",
     "output_type": "stream",
     "text": [
      "(50, 9)\n"
     ]
    },
    {
     "data": {
      "text/html": [
       "<div>\n",
       "<style scoped>\n",
       "    .dataframe tbody tr th:only-of-type {\n",
       "        vertical-align: middle;\n",
       "    }\n",
       "\n",
       "    .dataframe tbody tr th {\n",
       "        vertical-align: top;\n",
       "    }\n",
       "\n",
       "    .dataframe thead th {\n",
       "        text-align: right;\n",
       "    }\n",
       "</style>\n",
       "<table border=\"1\" class=\"dataframe\">\n",
       "  <thead>\n",
       "    <tr style=\"text-align: right;\">\n",
       "      <th></th>\n",
       "      <th>ward</th>\n",
       "      <th>alderman</th>\n",
       "      <th>address_ward</th>\n",
       "      <th>zip_ward</th>\n",
       "      <th>pop_2000</th>\n",
       "      <th>pop_2010</th>\n",
       "      <th>change</th>\n",
       "      <th>address_cen</th>\n",
       "      <th>zip_cen</th>\n",
       "    </tr>\n",
       "  </thead>\n",
       "  <tbody>\n",
       "    <tr>\n",
       "      <th>0</th>\n",
       "      <td>1</td>\n",
       "      <td>Proco \"Joe\" Moreno</td>\n",
       "      <td>2058 NORTH WESTERN AVENUE</td>\n",
       "      <td>60647</td>\n",
       "      <td>52951</td>\n",
       "      <td>56149</td>\n",
       "      <td>6%</td>\n",
       "      <td>2765 WEST SAINT MARY STREET</td>\n",
       "      <td>60647</td>\n",
       "    </tr>\n",
       "    <tr>\n",
       "      <th>1</th>\n",
       "      <td>2</td>\n",
       "      <td>Brian Hopkins</td>\n",
       "      <td>1400 NORTH  ASHLAND AVENUE</td>\n",
       "      <td>60622</td>\n",
       "      <td>54361</td>\n",
       "      <td>55805</td>\n",
       "      <td>3%</td>\n",
       "      <td>WM WASTE MANAGEMENT 1500</td>\n",
       "      <td>60622</td>\n",
       "    </tr>\n",
       "  </tbody>\n",
       "</table>\n",
       "</div>"
      ],
      "text/plain": [
       "  ward            alderman                address_ward zip_ward  pop_2000  \\\n",
       "0    1  Proco \"Joe\" Moreno   2058 NORTH WESTERN AVENUE    60647     52951   \n",
       "1    2       Brian Hopkins  1400 NORTH  ASHLAND AVENUE    60622     54361   \n",
       "\n",
       "   pop_2010 change                  address_cen zip_cen  \n",
       "0     56149     6%  2765 WEST SAINT MARY STREET   60647  \n",
       "1     55805     3%     WM WASTE MANAGEMENT 1500   60622  "
      ]
     },
     "execution_count": 22,
     "metadata": {},
     "output_type": "execute_result"
    }
   ],
   "source": [
    "# adding the \"suffixes\" option makes it posible to indicate with column belongs to which table \n",
    "ward_census = warddf.merge(censusdf, on=\"ward\", suffixes=(\"_ward\", \"_cen\"))\n",
    "print(ward_census.shape)\n",
    "ward_census.head(2)"
   ]
  },
  {
   "cell_type": "code",
   "execution_count": 23,
   "metadata": {},
   "outputs": [
    {
     "data": {
      "text/html": [
       "<div>\n",
       "<style scoped>\n",
       "    .dataframe tbody tr th:only-of-type {\n",
       "        vertical-align: middle;\n",
       "    }\n",
       "\n",
       "    .dataframe tbody tr th {\n",
       "        vertical-align: top;\n",
       "    }\n",
       "\n",
       "    .dataframe thead th {\n",
       "        text-align: right;\n",
       "    }\n",
       "</style>\n",
       "<table border=\"1\" class=\"dataframe\">\n",
       "  <thead>\n",
       "    <tr style=\"text-align: right;\">\n",
       "      <th></th>\n",
       "      <th>rid</th>\n",
       "      <th>vid</th>\n",
       "      <th>owner</th>\n",
       "      <th>address</th>\n",
       "      <th>zip</th>\n",
       "    </tr>\n",
       "  </thead>\n",
       "  <tbody>\n",
       "    <tr>\n",
       "      <th>0</th>\n",
       "      <td>T6285</td>\n",
       "      <td>6285</td>\n",
       "      <td>AGEAN TAXI LLC</td>\n",
       "      <td>4536 N. ELSTON AVE.</td>\n",
       "      <td>60630</td>\n",
       "    </tr>\n",
       "  </tbody>\n",
       "</table>\n",
       "</div>"
      ],
      "text/plain": [
       "     rid   vid           owner              address    zip\n",
       "0  T6285  6285  AGEAN TAXI LLC  4536 N. ELSTON AVE.  60630"
      ]
     },
     "execution_count": 23,
     "metadata": {},
     "output_type": "execute_result"
    }
   ],
   "source": [
    "taxi_owners = pd.read_pickle(\"dataset/taxi_owners.p\")\n",
    "taxi_veh = pd.read_pickle(\"dataset/taxi_vehicles.p\")\n",
    "taxi_owners.head(1)"
   ]
  },
  {
   "cell_type": "code",
   "execution_count": 24,
   "metadata": {},
   "outputs": [
    {
     "data": {
      "text/html": [
       "<div>\n",
       "<style scoped>\n",
       "    .dataframe tbody tr th:only-of-type {\n",
       "        vertical-align: middle;\n",
       "    }\n",
       "\n",
       "    .dataframe tbody tr th {\n",
       "        vertical-align: top;\n",
       "    }\n",
       "\n",
       "    .dataframe thead th {\n",
       "        text-align: right;\n",
       "    }\n",
       "</style>\n",
       "<table border=\"1\" class=\"dataframe\">\n",
       "  <thead>\n",
       "    <tr style=\"text-align: right;\">\n",
       "      <th></th>\n",
       "      <th>vid</th>\n",
       "      <th>make</th>\n",
       "      <th>model</th>\n",
       "      <th>year</th>\n",
       "      <th>fuel_type</th>\n",
       "      <th>owner</th>\n",
       "    </tr>\n",
       "  </thead>\n",
       "  <tbody>\n",
       "    <tr>\n",
       "      <th>0</th>\n",
       "      <td>2767</td>\n",
       "      <td>TOYOTA</td>\n",
       "      <td>CAMRY</td>\n",
       "      <td>2013</td>\n",
       "      <td>HYBRID</td>\n",
       "      <td>SEYED M. BADRI</td>\n",
       "    </tr>\n",
       "  </tbody>\n",
       "</table>\n",
       "</div>"
      ],
      "text/plain": [
       "    vid    make  model  year fuel_type           owner\n",
       "0  2767  TOYOTA  CAMRY  2013    HYBRID  SEYED M. BADRI"
      ]
     },
     "execution_count": 24,
     "metadata": {},
     "output_type": "execute_result"
    }
   ],
   "source": [
    "taxi_veh.head(1) # we can merge with reference column \"vid\""
   ]
  },
  {
   "cell_type": "code",
   "execution_count": 25,
   "metadata": {},
   "outputs": [
    {
     "data": {
      "text/html": [
       "<div>\n",
       "<style scoped>\n",
       "    .dataframe tbody tr th:only-of-type {\n",
       "        vertical-align: middle;\n",
       "    }\n",
       "\n",
       "    .dataframe tbody tr th {\n",
       "        vertical-align: top;\n",
       "    }\n",
       "\n",
       "    .dataframe thead th {\n",
       "        text-align: right;\n",
       "    }\n",
       "</style>\n",
       "<table border=\"1\" class=\"dataframe\">\n",
       "  <thead>\n",
       "    <tr style=\"text-align: right;\">\n",
       "      <th></th>\n",
       "      <th>rid</th>\n",
       "      <th>vid</th>\n",
       "      <th>owner_own</th>\n",
       "      <th>address</th>\n",
       "      <th>zip</th>\n",
       "      <th>make</th>\n",
       "      <th>model</th>\n",
       "      <th>year</th>\n",
       "      <th>fuel_type</th>\n",
       "      <th>owner_veh</th>\n",
       "    </tr>\n",
       "  </thead>\n",
       "  <tbody>\n",
       "    <tr>\n",
       "      <th>0</th>\n",
       "      <td>T6285</td>\n",
       "      <td>6285</td>\n",
       "      <td>AGEAN TAXI LLC</td>\n",
       "      <td>4536 N. ELSTON AVE.</td>\n",
       "      <td>60630</td>\n",
       "      <td>NISSAN</td>\n",
       "      <td>ALTIMA</td>\n",
       "      <td>2011</td>\n",
       "      <td>HYBRID</td>\n",
       "      <td>AGEAN TAXI LLC</td>\n",
       "    </tr>\n",
       "  </tbody>\n",
       "</table>\n",
       "</div>"
      ],
      "text/plain": [
       "     rid   vid       owner_own              address    zip    make   model  \\\n",
       "0  T6285  6285  AGEAN TAXI LLC  4536 N. ELSTON AVE.  60630  NISSAN  ALTIMA   \n",
       "\n",
       "   year fuel_type       owner_veh  \n",
       "0  2011    HYBRID  AGEAN TAXI LLC  "
      ]
     },
     "execution_count": 25,
     "metadata": {},
     "output_type": "execute_result"
    }
   ],
   "source": [
    "owner_veh = taxi_owners.merge(taxi_veh, on=\"vid\", suffixes=(\"_own\", \"_veh\"))\n",
    "owner_veh.head(1)"
   ]
  },
  {
   "cell_type": "code",
   "execution_count": 26,
   "metadata": {},
   "outputs": [
    {
     "data": {
      "text/html": [
       "<div>\n",
       "<style scoped>\n",
       "    .dataframe tbody tr th:only-of-type {\n",
       "        vertical-align: middle;\n",
       "    }\n",
       "\n",
       "    .dataframe tbody tr th {\n",
       "        vertical-align: top;\n",
       "    }\n",
       "\n",
       "    .dataframe thead th {\n",
       "        text-align: right;\n",
       "    }\n",
       "</style>\n",
       "<table border=\"1\" class=\"dataframe\">\n",
       "  <thead>\n",
       "    <tr style=\"text-align: right;\">\n",
       "      <th></th>\n",
       "      <th>ward</th>\n",
       "      <th>alderman</th>\n",
       "      <th>address</th>\n",
       "      <th>zip</th>\n",
       "    </tr>\n",
       "  </thead>\n",
       "  <tbody>\n",
       "    <tr>\n",
       "      <th>0</th>\n",
       "      <td>1</td>\n",
       "      <td>Proco \"Joe\" Moreno</td>\n",
       "      <td>2058 NORTH WESTERN AVENUE</td>\n",
       "      <td>60647</td>\n",
       "    </tr>\n",
       "    <tr>\n",
       "      <th>1</th>\n",
       "      <td>99</td>\n",
       "      <td>Brian Hopkins</td>\n",
       "      <td>1400 NORTH  ASHLAND AVENUE</td>\n",
       "      <td>60622</td>\n",
       "    </tr>\n",
       "    <tr>\n",
       "      <th>2</th>\n",
       "      <td>3</td>\n",
       "      <td>Pat Dowell</td>\n",
       "      <td>5046 SOUTH STATE STREET</td>\n",
       "      <td>60609</td>\n",
       "    </tr>\n",
       "    <tr>\n",
       "      <th>3</th>\n",
       "      <td>4</td>\n",
       "      <td>William D. Burns</td>\n",
       "      <td>435 EAST 35TH STREET, 1ST FLOOR</td>\n",
       "      <td>60616</td>\n",
       "    </tr>\n",
       "    <tr>\n",
       "      <th>4</th>\n",
       "      <td>5</td>\n",
       "      <td>Leslie A. Hairston</td>\n",
       "      <td>2325 EAST 71ST STREET</td>\n",
       "      <td>60649</td>\n",
       "    </tr>\n",
       "  </tbody>\n",
       "</table>\n",
       "</div>"
      ],
      "text/plain": [
       "  ward            alderman                          address    zip\n",
       "0    1  Proco \"Joe\" Moreno        2058 NORTH WESTERN AVENUE  60647\n",
       "1   99       Brian Hopkins       1400 NORTH  ASHLAND AVENUE  60622\n",
       "2    3          Pat Dowell          5046 SOUTH STATE STREET  60609\n",
       "3    4    William D. Burns  435 EAST 35TH STREET, 1ST FLOOR  60616\n",
       "4    5  Leslie A. Hairston            2325 EAST 71ST STREET  60649"
      ]
     },
     "execution_count": 26,
     "metadata": {},
     "output_type": "execute_result"
    }
   ],
   "source": [
    "warddf_alt = warddf.copy()\n",
    "warddf_alt.loc[1,'ward'] = \"99\"\n",
    "warddf_alt.head()"
   ]
  },
  {
   "cell_type": "code",
   "execution_count": 27,
   "metadata": {},
   "outputs": [
    {
     "data": {
      "text/html": [
       "<div>\n",
       "<style scoped>\n",
       "    .dataframe tbody tr th:only-of-type {\n",
       "        vertical-align: middle;\n",
       "    }\n",
       "\n",
       "    .dataframe tbody tr th {\n",
       "        vertical-align: top;\n",
       "    }\n",
       "\n",
       "    .dataframe thead th {\n",
       "        text-align: right;\n",
       "    }\n",
       "</style>\n",
       "<table border=\"1\" class=\"dataframe\">\n",
       "  <thead>\n",
       "    <tr style=\"text-align: right;\">\n",
       "      <th></th>\n",
       "      <th>ward</th>\n",
       "      <th>pop_2000</th>\n",
       "      <th>pop_2010</th>\n",
       "      <th>change</th>\n",
       "      <th>address</th>\n",
       "      <th>zip</th>\n",
       "    </tr>\n",
       "  </thead>\n",
       "  <tbody>\n",
       "    <tr>\n",
       "      <th>0</th>\n",
       "      <td>99</td>\n",
       "      <td>52951</td>\n",
       "      <td>56149</td>\n",
       "      <td>6%</td>\n",
       "      <td>2765 WEST SAINT MARY STREET</td>\n",
       "      <td>60647</td>\n",
       "    </tr>\n",
       "    <tr>\n",
       "      <th>1</th>\n",
       "      <td>2</td>\n",
       "      <td>54361</td>\n",
       "      <td>55805</td>\n",
       "      <td>3%</td>\n",
       "      <td>WM WASTE MANAGEMENT 1500</td>\n",
       "      <td>60622</td>\n",
       "    </tr>\n",
       "    <tr>\n",
       "      <th>2</th>\n",
       "      <td>3</td>\n",
       "      <td>40385</td>\n",
       "      <td>53039</td>\n",
       "      <td>31%</td>\n",
       "      <td>17 EAST 38TH STREET</td>\n",
       "      <td>60653</td>\n",
       "    </tr>\n",
       "    <tr>\n",
       "      <th>3</th>\n",
       "      <td>4</td>\n",
       "      <td>51953</td>\n",
       "      <td>54589</td>\n",
       "      <td>5%</td>\n",
       "      <td>31ST ST HARBOR BUILDING LAKEFRONT TRAIL</td>\n",
       "      <td>60653</td>\n",
       "    </tr>\n",
       "    <tr>\n",
       "      <th>4</th>\n",
       "      <td>99</td>\n",
       "      <td>55302</td>\n",
       "      <td>51455</td>\n",
       "      <td>-7%</td>\n",
       "      <td>JACKSON PARK LAGOON SOUTH CORNELL DRIVE</td>\n",
       "      <td>60637</td>\n",
       "    </tr>\n",
       "  </tbody>\n",
       "</table>\n",
       "</div>"
      ],
      "text/plain": [
       "  ward  pop_2000  pop_2010 change                                  address  \\\n",
       "0   99     52951     56149     6%              2765 WEST SAINT MARY STREET   \n",
       "1    2     54361     55805     3%                 WM WASTE MANAGEMENT 1500   \n",
       "2    3     40385     53039    31%                      17 EAST 38TH STREET   \n",
       "3    4     51953     54589     5%  31ST ST HARBOR BUILDING LAKEFRONT TRAIL   \n",
       "4   99     55302     51455    -7%  JACKSON PARK LAGOON SOUTH CORNELL DRIVE   \n",
       "\n",
       "     zip  \n",
       "0  60647  \n",
       "1  60622  \n",
       "2  60653  \n",
       "3  60653  \n",
       "4  60637  "
      ]
     },
     "execution_count": 27,
     "metadata": {},
     "output_type": "execute_result"
    }
   ],
   "source": [
    "censusdf_alt = censusdf.copy()\n",
    "censusdf_alt.loc[0, \"ward\"], censusdf_alt.loc[4, \"ward\"] = \"99\", \"99\"\n",
    "censusdf_alt.head()"
   ]
  },
  {
   "cell_type": "markdown",
   "metadata": {},
   "source": [
    "**Remember that `.merge()` only returns rows where the values match in both tables.**"
   ]
  },
  {
   "cell_type": "code",
   "execution_count": 28,
   "metadata": {},
   "outputs": [
    {
     "name": "stdout",
     "output_type": "stream",
     "text": [
      "Shape of original data: (50, 9)\n",
      "Merged shape of ward and census altered: (48, 9)\n",
      "Merged shape of census altered and ward: (49, 9)\n"
     ]
    }
   ],
   "source": [
    "# merging ward with census_alt and ward_alt with census\n",
    "original = warddf.merge(censusdf, on=\"ward\")\n",
    "print(\n",
    "    f'Shape of original data: {original.shape}'\n",
    ")\n",
    "\n",
    "w_census_alt = warddf.merge(censusdf_alt, on='ward')\n",
    "print(\n",
    "    f'Merged shape of ward and census altered: {w_census_alt.shape}'\n",
    ")\n",
    "\n",
    "c_warddf_alt = censusdf.merge(warddf_alt, on='ward')\n",
    "print(\n",
    "    f'Merged shape of census altered and ward: {c_warddf_alt.shape}'\n",
    ")\n"
   ]
  },
  {
   "cell_type": "markdown",
   "metadata": {},
   "source": [
    "### relationships\n",
    "\n",
    "- in **one-to-one:** relationship, every row in the left table is related to one and only one row in the right table. for example every row from the original `ward` table is related to one row in the `census` table when the reference is the column \"ward\"\n",
    "\n",
    "- in **one-to-many** relationship, every row in the left table is related to one or more rows in the right table\n",
    "\n",
    "\n"
   ]
  },
  {
   "cell_type": "code",
   "execution_count": 29,
   "metadata": {},
   "outputs": [
    {
     "data": {
      "text/html": [
       "<div>\n",
       "<style scoped>\n",
       "    .dataframe tbody tr th:only-of-type {\n",
       "        vertical-align: middle;\n",
       "    }\n",
       "\n",
       "    .dataframe tbody tr th {\n",
       "        vertical-align: top;\n",
       "    }\n",
       "\n",
       "    .dataframe thead th {\n",
       "        text-align: right;\n",
       "    }\n",
       "</style>\n",
       "<table border=\"1\" class=\"dataframe\">\n",
       "  <thead>\n",
       "    <tr style=\"text-align: right;\">\n",
       "      <th></th>\n",
       "      <th>account</th>\n",
       "      <th>ward</th>\n",
       "      <th>aid</th>\n",
       "      <th>business</th>\n",
       "      <th>address</th>\n",
       "      <th>zip</th>\n",
       "    </tr>\n",
       "  </thead>\n",
       "  <tbody>\n",
       "    <tr>\n",
       "      <th>0</th>\n",
       "      <td>307071</td>\n",
       "      <td>3</td>\n",
       "      <td>743</td>\n",
       "      <td>REGGIE'S BAR &amp; GRILL</td>\n",
       "      <td>2105 S STATE ST</td>\n",
       "      <td>60616</td>\n",
       "    </tr>\n",
       "    <tr>\n",
       "      <th>1</th>\n",
       "      <td>10</td>\n",
       "      <td>10</td>\n",
       "      <td>829</td>\n",
       "      <td>HONEYBEERS</td>\n",
       "      <td>13200 S HOUSTON AVE</td>\n",
       "      <td>60633</td>\n",
       "    </tr>\n",
       "    <tr>\n",
       "      <th>2</th>\n",
       "      <td>10002</td>\n",
       "      <td>14</td>\n",
       "      <td>775</td>\n",
       "      <td>CELINA DELI</td>\n",
       "      <td>5089 S ARCHER AVE</td>\n",
       "      <td>60632</td>\n",
       "    </tr>\n",
       "    <tr>\n",
       "      <th>3</th>\n",
       "      <td>10005</td>\n",
       "      <td>12</td>\n",
       "      <td>NaN</td>\n",
       "      <td>KRAFT FOODS NORTH AMERICA</td>\n",
       "      <td>2005 W 43RD ST</td>\n",
       "      <td>60609</td>\n",
       "    </tr>\n",
       "    <tr>\n",
       "      <th>4</th>\n",
       "      <td>10044</td>\n",
       "      <td>44</td>\n",
       "      <td>638</td>\n",
       "      <td>NEYBOUR'S TAVERN &amp; GRILLE</td>\n",
       "      <td>3651 N SOUTHPORT AVE</td>\n",
       "      <td>60613</td>\n",
       "    </tr>\n",
       "  </tbody>\n",
       "</table>\n",
       "</div>"
      ],
      "text/plain": [
       "  account ward  aid                   business               address    zip\n",
       "0  307071    3  743       REGGIE'S BAR & GRILL       2105 S STATE ST  60616\n",
       "1      10   10  829                 HONEYBEERS   13200 S HOUSTON AVE  60633\n",
       "2   10002   14  775                CELINA DELI     5089 S ARCHER AVE  60632\n",
       "3   10005   12  NaN  KRAFT FOODS NORTH AMERICA        2005 W 43RD ST  60609\n",
       "4   10044   44  638  NEYBOUR'S TAVERN & GRILLE  3651 N SOUTHPORT AVE  60613"
      ]
     },
     "execution_count": 29,
     "metadata": {},
     "output_type": "execute_result"
    }
   ],
   "source": [
    "lindf = pd.read_pickle(\"dataset/licenses.p\")\n",
    "lindf.head()"
   ]
  },
  {
   "cell_type": "code",
   "execution_count": 30,
   "metadata": {},
   "outputs": [
    {
     "data": {
      "text/plain": [
       "ward\n",
       "42    1371\n",
       "27     497\n",
       "25     321\n",
       "2      301\n",
       "47     275\n",
       "Name: count, dtype: int64"
      ]
     },
     "execution_count": 30,
     "metadata": {},
     "output_type": "execute_result"
    }
   ],
   "source": [
    "# since \"ward = 2\" apears 301 times in the licdf table it means\n",
    "# that when we merge it with the warddf we will have the row \n",
    "# with \"ward = 2\" appear 301 times \n",
    "\n",
    "lindf[\"ward\"].value_counts()[:5]"
   ]
  },
  {
   "cell_type": "code",
   "execution_count": 31,
   "metadata": {},
   "outputs": [
    {
     "name": "stdout",
     "output_type": "stream",
     "text": [
      "(10000, 9)\n"
     ]
    },
    {
     "data": {
      "text/html": [
       "<div>\n",
       "<style scoped>\n",
       "    .dataframe tbody tr th:only-of-type {\n",
       "        vertical-align: middle;\n",
       "    }\n",
       "\n",
       "    .dataframe tbody tr th {\n",
       "        vertical-align: top;\n",
       "    }\n",
       "\n",
       "    .dataframe thead th {\n",
       "        text-align: right;\n",
       "    }\n",
       "</style>\n",
       "<table border=\"1\" class=\"dataframe\">\n",
       "  <thead>\n",
       "    <tr style=\"text-align: right;\">\n",
       "      <th></th>\n",
       "      <th>ward</th>\n",
       "      <th>alderman</th>\n",
       "      <th>address_x</th>\n",
       "      <th>zip_x</th>\n",
       "      <th>account</th>\n",
       "      <th>aid</th>\n",
       "      <th>business</th>\n",
       "      <th>address_y</th>\n",
       "      <th>zip_y</th>\n",
       "    </tr>\n",
       "  </thead>\n",
       "  <tbody>\n",
       "    <tr>\n",
       "      <th>0</th>\n",
       "      <td>1</td>\n",
       "      <td>Proco \"Joe\" Moreno</td>\n",
       "      <td>2058 NORTH WESTERN AVENUE</td>\n",
       "      <td>60647</td>\n",
       "      <td>12024</td>\n",
       "      <td>NaN</td>\n",
       "      <td>DIGILOG ELECTRONICS</td>\n",
       "      <td>1038 N ASHLAND AVE</td>\n",
       "      <td>60622</td>\n",
       "    </tr>\n",
       "    <tr>\n",
       "      <th>1</th>\n",
       "      <td>1</td>\n",
       "      <td>Proco \"Joe\" Moreno</td>\n",
       "      <td>2058 NORTH WESTERN AVENUE</td>\n",
       "      <td>60647</td>\n",
       "      <td>14446</td>\n",
       "      <td>743</td>\n",
       "      <td>EMPTY BOTTLE INC</td>\n",
       "      <td>1035 N WESTERN AVE 1ST</td>\n",
       "      <td>60622</td>\n",
       "    </tr>\n",
       "    <tr>\n",
       "      <th>2</th>\n",
       "      <td>1</td>\n",
       "      <td>Proco \"Joe\" Moreno</td>\n",
       "      <td>2058 NORTH WESTERN AVENUE</td>\n",
       "      <td>60647</td>\n",
       "      <td>14624</td>\n",
       "      <td>775</td>\n",
       "      <td>LITTLE MEL'S HOT DOG</td>\n",
       "      <td>2205 N CALIFORNIA AVE</td>\n",
       "      <td>60647</td>\n",
       "    </tr>\n",
       "    <tr>\n",
       "      <th>3</th>\n",
       "      <td>1</td>\n",
       "      <td>Proco \"Joe\" Moreno</td>\n",
       "      <td>2058 NORTH WESTERN AVENUE</td>\n",
       "      <td>60647</td>\n",
       "      <td>14987</td>\n",
       "      <td>NaN</td>\n",
       "      <td>MR. BROWN'S LOUNGE</td>\n",
       "      <td>2301 W CHICAGO AVE 1ST</td>\n",
       "      <td>60622</td>\n",
       "    </tr>\n",
       "    <tr>\n",
       "      <th>4</th>\n",
       "      <td>1</td>\n",
       "      <td>Proco \"Joe\" Moreno</td>\n",
       "      <td>2058 NORTH WESTERN AVENUE</td>\n",
       "      <td>60647</td>\n",
       "      <td>15642</td>\n",
       "      <td>814</td>\n",
       "      <td>Beat Kitchen</td>\n",
       "      <td>2000-2100 W DIVISION ST</td>\n",
       "      <td>60622</td>\n",
       "    </tr>\n",
       "  </tbody>\n",
       "</table>\n",
       "</div>"
      ],
      "text/plain": [
       "  ward            alderman                  address_x  zip_x account  aid  \\\n",
       "0    1  Proco \"Joe\" Moreno  2058 NORTH WESTERN AVENUE  60647   12024  NaN   \n",
       "1    1  Proco \"Joe\" Moreno  2058 NORTH WESTERN AVENUE  60647   14446  743   \n",
       "2    1  Proco \"Joe\" Moreno  2058 NORTH WESTERN AVENUE  60647   14624  775   \n",
       "3    1  Proco \"Joe\" Moreno  2058 NORTH WESTERN AVENUE  60647   14987  NaN   \n",
       "4    1  Proco \"Joe\" Moreno  2058 NORTH WESTERN AVENUE  60647   15642  814   \n",
       "\n",
       "               business                address_y  zip_y  \n",
       "0   DIGILOG ELECTRONICS       1038 N ASHLAND AVE  60622  \n",
       "1      EMPTY BOTTLE INC   1035 N WESTERN AVE 1ST  60622  \n",
       "2  LITTLE MEL'S HOT DOG    2205 N CALIFORNIA AVE  60647  \n",
       "3    MR. BROWN'S LOUNGE   2301 W CHICAGO AVE 1ST  60622  \n",
       "4          Beat Kitchen  2000-2100 W DIVISION ST  60622  "
      ]
     },
     "execution_count": 31,
     "metadata": {},
     "output_type": "execute_result"
    }
   ],
   "source": [
    "ward_lin = warddf.merge(lindf, on=\"ward\") # one-to-many\n",
    "print(ward_lin.shape)\n",
    "ward_lin.head()  # we can see that the rows are repeating "
   ]
  },
  {
   "cell_type": "markdown",
   "metadata": {},
   "source": [
    "### merging multiple dataframes"
   ]
  },
  {
   "cell_type": "markdown",
   "metadata": {},
   "source": [
    "the idea is to merge the tables one after the other based on the column they have in common. \n",
    "\n",
    "![merging multiple dataframes](./image/multmerge.png)\n",
    "\n",
    "in the image above, we would first merge `cal` and `ridership` tables first on the columns \"year\", \"month\", and \"day\" then merge that result with the `station` table on the column \"station_id\""
   ]
  },
  {
   "cell_type": "markdown",
   "metadata": {},
   "source": [
    "### left join\n",
    "\n",
    "```python\n",
    "    # syntax:\n",
    "    merged_df = first_df.merge(second_df, on=\"similar column\", how=\"left\")\n",
    "```\n",
    "\n",
    "- **Recap (inner join)** returns only the rows with matching results in the other table.\n",
    "\n",
    "![left join](./image/leftjoin.png)\n",
    "\n",
    "**returns all rows in the left table and only the rows in the right table that matches with the rows in the left table. in essence the number of rows in the merged table will be the same as the number of tables in the left table**\n",
    "\n",
    "![left join example](./image/leftjoin2.png)"
   ]
  },
  {
   "cell_type": "code",
   "execution_count": 32,
   "metadata": {},
   "outputs": [
    {
     "name": "stdout",
     "output_type": "stream",
     "text": [
      " actors_movies.csv   cta_ridership.p     sequels.p          ward.p\n",
      " automobile.csv      financials.p       'S&P500.csv'        WorldBank_GDP.csv\n",
      " business_owners.p   land_use.p          stations.p         WorldBank_POP.csv\n",
      " casts.p             licenses.p          \u001b[0m\u001b[01;32mstudent_mat.csv\u001b[0m*   zip_demo.p\n",
      " census.p            movies.p            taglines.p\n",
      " crews.p             movie_to_genres.p   taxi_owners.p\n",
      " cta_calendar.p      ratings.p           taxi_vehicles.p\n"
     ]
    }
   ],
   "source": [
    "ls dataset/"
   ]
  },
  {
   "cell_type": "code",
   "execution_count": 33,
   "metadata": {},
   "outputs": [],
   "source": [
    "import pandas as pd"
   ]
  },
  {
   "cell_type": "code",
   "execution_count": 34,
   "metadata": {},
   "outputs": [
    {
     "name": "stdout",
     "output_type": "stream",
     "text": [
      "(4803, 4)\n"
     ]
    },
    {
     "data": {
      "text/html": [
       "<div>\n",
       "<style scoped>\n",
       "    .dataframe tbody tr th:only-of-type {\n",
       "        vertical-align: middle;\n",
       "    }\n",
       "\n",
       "    .dataframe tbody tr th {\n",
       "        vertical-align: top;\n",
       "    }\n",
       "\n",
       "    .dataframe thead th {\n",
       "        text-align: right;\n",
       "    }\n",
       "</style>\n",
       "<table border=\"1\" class=\"dataframe\">\n",
       "  <thead>\n",
       "    <tr style=\"text-align: right;\">\n",
       "      <th></th>\n",
       "      <th>id</th>\n",
       "      <th>title</th>\n",
       "      <th>popularity</th>\n",
       "      <th>release_date</th>\n",
       "    </tr>\n",
       "  </thead>\n",
       "  <tbody>\n",
       "    <tr>\n",
       "      <th>0</th>\n",
       "      <td>257</td>\n",
       "      <td>Oliver Twist</td>\n",
       "      <td>20.415572</td>\n",
       "      <td>2005-09-23</td>\n",
       "    </tr>\n",
       "    <tr>\n",
       "      <th>1</th>\n",
       "      <td>14290</td>\n",
       "      <td>Better Luck Tomorrow</td>\n",
       "      <td>3.877036</td>\n",
       "      <td>2002-01-12</td>\n",
       "    </tr>\n",
       "  </tbody>\n",
       "</table>\n",
       "</div>"
      ],
      "text/plain": [
       "      id                 title  popularity release_date\n",
       "0    257          Oliver Twist   20.415572   2005-09-23\n",
       "1  14290  Better Luck Tomorrow    3.877036   2002-01-12"
      ]
     },
     "execution_count": 34,
     "metadata": {},
     "output_type": "execute_result"
    }
   ],
   "source": [
    "movies = pd.read_pickle(\"dataset/movies.p\")\n",
    "print(movies.shape)\n",
    "movies.head(2)"
   ]
  },
  {
   "cell_type": "code",
   "execution_count": 35,
   "metadata": {},
   "outputs": [
    {
     "name": "stdout",
     "output_type": "stream",
     "text": [
      "(3955, 2)\n"
     ]
    },
    {
     "data": {
      "text/html": [
       "<div>\n",
       "<style scoped>\n",
       "    .dataframe tbody tr th:only-of-type {\n",
       "        vertical-align: middle;\n",
       "    }\n",
       "\n",
       "    .dataframe tbody tr th {\n",
       "        vertical-align: top;\n",
       "    }\n",
       "\n",
       "    .dataframe thead th {\n",
       "        text-align: right;\n",
       "    }\n",
       "</style>\n",
       "<table border=\"1\" class=\"dataframe\">\n",
       "  <thead>\n",
       "    <tr style=\"text-align: right;\">\n",
       "      <th></th>\n",
       "      <th>id</th>\n",
       "      <th>tagline</th>\n",
       "    </tr>\n",
       "  </thead>\n",
       "  <tbody>\n",
       "    <tr>\n",
       "      <th>0</th>\n",
       "      <td>19995</td>\n",
       "      <td>Enter the World of Pandora.</td>\n",
       "    </tr>\n",
       "    <tr>\n",
       "      <th>1</th>\n",
       "      <td>285</td>\n",
       "      <td>At the end of the world, the adventure begins.</td>\n",
       "    </tr>\n",
       "  </tbody>\n",
       "</table>\n",
       "</div>"
      ],
      "text/plain": [
       "      id                                         tagline\n",
       "0  19995                     Enter the World of Pandora.\n",
       "1    285  At the end of the world, the adventure begins."
      ]
     },
     "execution_count": 35,
     "metadata": {},
     "output_type": "execute_result"
    }
   ],
   "source": [
    "taglines = pd.read_pickle(\"dataset/taglines.p\")\n",
    "print(taglines.shape)\n",
    "taglines.head(2)"
   ]
  },
  {
   "cell_type": "code",
   "execution_count": 36,
   "metadata": {},
   "outputs": [
    {
     "name": "stdout",
     "output_type": "stream",
     "text": [
      "(4803, 5)\n"
     ]
    },
    {
     "data": {
      "text/html": [
       "<div>\n",
       "<style scoped>\n",
       "    .dataframe tbody tr th:only-of-type {\n",
       "        vertical-align: middle;\n",
       "    }\n",
       "\n",
       "    .dataframe tbody tr th {\n",
       "        vertical-align: top;\n",
       "    }\n",
       "\n",
       "    .dataframe thead th {\n",
       "        text-align: right;\n",
       "    }\n",
       "</style>\n",
       "<table border=\"1\" class=\"dataframe\">\n",
       "  <thead>\n",
       "    <tr style=\"text-align: right;\">\n",
       "      <th></th>\n",
       "      <th>id</th>\n",
       "      <th>title</th>\n",
       "      <th>popularity</th>\n",
       "      <th>release_date</th>\n",
       "      <th>tagline</th>\n",
       "    </tr>\n",
       "  </thead>\n",
       "  <tbody>\n",
       "    <tr>\n",
       "      <th>0</th>\n",
       "      <td>257</td>\n",
       "      <td>Oliver Twist</td>\n",
       "      <td>20.415572</td>\n",
       "      <td>2005-09-23</td>\n",
       "      <td>NaN</td>\n",
       "    </tr>\n",
       "    <tr>\n",
       "      <th>1</th>\n",
       "      <td>14290</td>\n",
       "      <td>Better Luck Tomorrow</td>\n",
       "      <td>3.877036</td>\n",
       "      <td>2002-01-12</td>\n",
       "      <td>Never underestimate an overachiever.</td>\n",
       "    </tr>\n",
       "  </tbody>\n",
       "</table>\n",
       "</div>"
      ],
      "text/plain": [
       "      id                 title  popularity release_date  \\\n",
       "0    257          Oliver Twist   20.415572   2005-09-23   \n",
       "1  14290  Better Luck Tomorrow    3.877036   2002-01-12   \n",
       "\n",
       "                                tagline  \n",
       "0                                   NaN  \n",
       "1  Never underestimate an overachiever.  "
      ]
     },
     "execution_count": 36,
     "metadata": {},
     "output_type": "execute_result"
    }
   ],
   "source": [
    "# merging the movies and taglines table\n",
    "\n",
    "movies_tag = movies.merge(taglines, on=\"id\", how=\"left\")\n",
    "print(movies_tag.shape)\n",
    "movies_tag.head(2)"
   ]
  },
  {
   "cell_type": "markdown",
   "metadata": {},
   "source": [
    "**comment on left join** <br>\n",
    "the first table `movies` had 4803 rows; the second, `taglines` had 3955 rows. we can observe that the merge of the movies and taglines tables into the `movies_tag` table has the same number of rows as the first table `movies`."
   ]
  },
  {
   "cell_type": "code",
   "execution_count": 37,
   "metadata": {},
   "outputs": [
    {
     "name": "stdout",
     "output_type": "stream",
     "text": [
      "(3229, 3)\n"
     ]
    },
    {
     "data": {
      "text/html": [
       "<div>\n",
       "<style scoped>\n",
       "    .dataframe tbody tr th:only-of-type {\n",
       "        vertical-align: middle;\n",
       "    }\n",
       "\n",
       "    .dataframe tbody tr th {\n",
       "        vertical-align: top;\n",
       "    }\n",
       "\n",
       "    .dataframe thead th {\n",
       "        text-align: right;\n",
       "    }\n",
       "</style>\n",
       "<table border=\"1\" class=\"dataframe\">\n",
       "  <thead>\n",
       "    <tr style=\"text-align: right;\">\n",
       "      <th></th>\n",
       "      <th>id</th>\n",
       "      <th>budget</th>\n",
       "      <th>revenue</th>\n",
       "    </tr>\n",
       "  </thead>\n",
       "  <tbody>\n",
       "    <tr>\n",
       "      <th>0</th>\n",
       "      <td>19995</td>\n",
       "      <td>237000000</td>\n",
       "      <td>2.787965e+09</td>\n",
       "    </tr>\n",
       "    <tr>\n",
       "      <th>1</th>\n",
       "      <td>285</td>\n",
       "      <td>300000000</td>\n",
       "      <td>9.610000e+08</td>\n",
       "    </tr>\n",
       "  </tbody>\n",
       "</table>\n",
       "</div>"
      ],
      "text/plain": [
       "      id     budget       revenue\n",
       "0  19995  237000000  2.787965e+09\n",
       "1    285  300000000  9.610000e+08"
      ]
     },
     "execution_count": 37,
     "metadata": {},
     "output_type": "execute_result"
    }
   ],
   "source": [
    "finans = pd.read_pickle(\"dataset/financials.p\")\n",
    "print(finans.shape)\n",
    "finans.head(2)"
   ]
  },
  {
   "cell_type": "code",
   "execution_count": 38,
   "metadata": {},
   "outputs": [
    {
     "name": "stdout",
     "output_type": "stream",
     "text": [
      "(4803, 6)\n"
     ]
    },
    {
     "data": {
      "text/html": [
       "<div>\n",
       "<style scoped>\n",
       "    .dataframe tbody tr th:only-of-type {\n",
       "        vertical-align: middle;\n",
       "    }\n",
       "\n",
       "    .dataframe tbody tr th {\n",
       "        vertical-align: top;\n",
       "    }\n",
       "\n",
       "    .dataframe thead th {\n",
       "        text-align: right;\n",
       "    }\n",
       "</style>\n",
       "<table border=\"1\" class=\"dataframe\">\n",
       "  <thead>\n",
       "    <tr style=\"text-align: right;\">\n",
       "      <th></th>\n",
       "      <th>id</th>\n",
       "      <th>title</th>\n",
       "      <th>popularity</th>\n",
       "      <th>release_date</th>\n",
       "      <th>budget</th>\n",
       "      <th>revenue</th>\n",
       "    </tr>\n",
       "  </thead>\n",
       "  <tbody>\n",
       "    <tr>\n",
       "      <th>0</th>\n",
       "      <td>257</td>\n",
       "      <td>Oliver Twist</td>\n",
       "      <td>20.415572</td>\n",
       "      <td>2005-09-23</td>\n",
       "      <td>50000000.0</td>\n",
       "      <td>42093706.0</td>\n",
       "    </tr>\n",
       "    <tr>\n",
       "      <th>1</th>\n",
       "      <td>14290</td>\n",
       "      <td>Better Luck Tomorrow</td>\n",
       "      <td>3.877036</td>\n",
       "      <td>2002-01-12</td>\n",
       "      <td>NaN</td>\n",
       "      <td>NaN</td>\n",
       "    </tr>\n",
       "  </tbody>\n",
       "</table>\n",
       "</div>"
      ],
      "text/plain": [
       "      id                 title  popularity release_date      budget  \\\n",
       "0    257          Oliver Twist   20.415572   2005-09-23  50000000.0   \n",
       "1  14290  Better Luck Tomorrow    3.877036   2002-01-12         NaN   \n",
       "\n",
       "      revenue  \n",
       "0  42093706.0  \n",
       "1         NaN  "
      ]
     },
     "execution_count": 38,
     "metadata": {},
     "output_type": "execute_result"
    }
   ],
   "source": [
    "movies_financials = movies.merge(finans, on=\"id\", how=\"left\")\n",
    "print(movies_financials.shape)\n",
    "movies_financials.head(2)"
   ]
  },
  {
   "cell_type": "code",
   "execution_count": 39,
   "metadata": {},
   "outputs": [
    {
     "data": {
      "text/plain": [
       "1574"
      ]
     },
     "execution_count": 39,
     "metadata": {},
     "output_type": "execute_result"
    }
   ],
   "source": [
    "# Count the number of rows in the budget column that are missing\n",
    "movies_financials.budget.isna().sum()"
   ]
  },
  {
   "cell_type": "markdown",
   "metadata": {},
   "source": [
    "### Right joins\n",
    "\n",
    "(direct opposite of the left join) It returns all the rows of the right dataframe and only the rows of the left dataframe that have matching values of the columns they're merging on.\n",
    "\n",
    "![Right join]( ./image/rightjoin.png )\n",
    "\n",
    "example of how the merged table looks after right join\n",
    "\n",
    "![Right join example]( ./image/rightjoin2.png )\n"
   ]
  },
  {
   "cell_type": "code",
   "execution_count": 40,
   "metadata": {},
   "outputs": [
    {
     "name": "stdout",
     "output_type": "stream",
     "text": [
      " actors_movies.csv   cta_ridership.p     sequels.p          ward.p\n",
      " automobile.csv      financials.p       'S&P500.csv'        WorldBank_GDP.csv\n",
      " business_owners.p   land_use.p          stations.p         WorldBank_POP.csv\n",
      " casts.p             licenses.p          \u001b[0m\u001b[01;32mstudent_mat.csv\u001b[0m*   zip_demo.p\n",
      " census.p            movies.p            taglines.p\n",
      " crews.p             movie_to_genres.p   taxi_owners.p\n",
      " cta_calendar.p      ratings.p           taxi_vehicles.p\n"
     ]
    }
   ],
   "source": [
    "ls dataset/"
   ]
  },
  {
   "cell_type": "code",
   "execution_count": 41,
   "metadata": {},
   "outputs": [],
   "source": [
    "import pandas as pd"
   ]
  },
  {
   "cell_type": "code",
   "execution_count": 42,
   "metadata": {},
   "outputs": [
    {
     "name": "stdout",
     "output_type": "stream",
     "text": [
      "(12160, 2)\n"
     ]
    },
    {
     "data": {
      "text/html": [
       "<div>\n",
       "<style scoped>\n",
       "    .dataframe tbody tr th:only-of-type {\n",
       "        vertical-align: middle;\n",
       "    }\n",
       "\n",
       "    .dataframe tbody tr th {\n",
       "        vertical-align: top;\n",
       "    }\n",
       "\n",
       "    .dataframe thead th {\n",
       "        text-align: right;\n",
       "    }\n",
       "</style>\n",
       "<table border=\"1\" class=\"dataframe\">\n",
       "  <thead>\n",
       "    <tr style=\"text-align: right;\">\n",
       "      <th></th>\n",
       "      <th>movie_id</th>\n",
       "      <th>genre</th>\n",
       "    </tr>\n",
       "  </thead>\n",
       "  <tbody>\n",
       "    <tr>\n",
       "      <th>0</th>\n",
       "      <td>5</td>\n",
       "      <td>Crime</td>\n",
       "    </tr>\n",
       "    <tr>\n",
       "      <th>1</th>\n",
       "      <td>5</td>\n",
       "      <td>Comedy</td>\n",
       "    </tr>\n",
       "  </tbody>\n",
       "</table>\n",
       "</div>"
      ],
      "text/plain": [
       "   movie_id   genre\n",
       "0         5   Crime\n",
       "1         5  Comedy"
      ]
     },
     "execution_count": 42,
     "metadata": {},
     "output_type": "execute_result"
    }
   ],
   "source": [
    "movie_to_genres = pd.read_pickle(\"./dataset/movie_to_genres.p\")\n",
    "print(movie_to_genres.shape)\n",
    "movie_to_genres.head(2)"
   ]
  },
  {
   "cell_type": "code",
   "execution_count": 43,
   "metadata": {},
   "outputs": [
    {
     "data": {
      "text/html": [
       "<div>\n",
       "<style scoped>\n",
       "    .dataframe tbody tr th:only-of-type {\n",
       "        vertical-align: middle;\n",
       "    }\n",
       "\n",
       "    .dataframe tbody tr th {\n",
       "        vertical-align: top;\n",
       "    }\n",
       "\n",
       "    .dataframe thead th {\n",
       "        text-align: right;\n",
       "    }\n",
       "</style>\n",
       "<table border=\"1\" class=\"dataframe\">\n",
       "  <thead>\n",
       "    <tr style=\"text-align: right;\">\n",
       "      <th></th>\n",
       "      <th>movie_id</th>\n",
       "      <th>genre</th>\n",
       "    </tr>\n",
       "  </thead>\n",
       "  <tbody>\n",
       "    <tr>\n",
       "      <th>4998</th>\n",
       "      <td>10947</td>\n",
       "      <td>TV Movie</td>\n",
       "    </tr>\n",
       "    <tr>\n",
       "      <th>5994</th>\n",
       "      <td>13187</td>\n",
       "      <td>TV Movie</td>\n",
       "    </tr>\n",
       "    <tr>\n",
       "      <th>7443</th>\n",
       "      <td>22488</td>\n",
       "      <td>TV Movie</td>\n",
       "    </tr>\n",
       "    <tr>\n",
       "      <th>10061</th>\n",
       "      <td>78814</td>\n",
       "      <td>TV Movie</td>\n",
       "    </tr>\n",
       "    <tr>\n",
       "      <th>10790</th>\n",
       "      <td>153397</td>\n",
       "      <td>TV Movie</td>\n",
       "    </tr>\n",
       "    <tr>\n",
       "      <th>10835</th>\n",
       "      <td>158150</td>\n",
       "      <td>TV Movie</td>\n",
       "    </tr>\n",
       "    <tr>\n",
       "      <th>11096</th>\n",
       "      <td>205321</td>\n",
       "      <td>TV Movie</td>\n",
       "    </tr>\n",
       "    <tr>\n",
       "      <th>11282</th>\n",
       "      <td>231617</td>\n",
       "      <td>TV Movie</td>\n",
       "    </tr>\n",
       "  </tbody>\n",
       "</table>\n",
       "</div>"
      ],
      "text/plain": [
       "       movie_id     genre\n",
       "4998      10947  TV Movie\n",
       "5994      13187  TV Movie\n",
       "7443      22488  TV Movie\n",
       "10061     78814  TV Movie\n",
       "10790    153397  TV Movie\n",
       "10835    158150  TV Movie\n",
       "11096    205321  TV Movie\n",
       "11282    231617  TV Movie"
      ]
     },
     "execution_count": 43,
     "metadata": {},
     "output_type": "execute_result"
    }
   ],
   "source": [
    "tv_genre = movie_to_genres[movie_to_genres['genre'] == \"TV Movie\"]\n",
    "tv_genre"
   ]
  },
  {
   "cell_type": "code",
   "execution_count": 44,
   "metadata": {},
   "outputs": [
    {
     "name": "stdout",
     "output_type": "stream",
     "text": [
      "(4803, 4)\n"
     ]
    },
    {
     "data": {
      "text/html": [
       "<div>\n",
       "<style scoped>\n",
       "    .dataframe tbody tr th:only-of-type {\n",
       "        vertical-align: middle;\n",
       "    }\n",
       "\n",
       "    .dataframe tbody tr th {\n",
       "        vertical-align: top;\n",
       "    }\n",
       "\n",
       "    .dataframe thead th {\n",
       "        text-align: right;\n",
       "    }\n",
       "</style>\n",
       "<table border=\"1\" class=\"dataframe\">\n",
       "  <thead>\n",
       "    <tr style=\"text-align: right;\">\n",
       "      <th></th>\n",
       "      <th>id</th>\n",
       "      <th>title</th>\n",
       "      <th>popularity</th>\n",
       "      <th>release_date</th>\n",
       "    </tr>\n",
       "  </thead>\n",
       "  <tbody>\n",
       "    <tr>\n",
       "      <th>0</th>\n",
       "      <td>257</td>\n",
       "      <td>Oliver Twist</td>\n",
       "      <td>20.415572</td>\n",
       "      <td>2005-09-23</td>\n",
       "    </tr>\n",
       "    <tr>\n",
       "      <th>1</th>\n",
       "      <td>14290</td>\n",
       "      <td>Better Luck Tomorrow</td>\n",
       "      <td>3.877036</td>\n",
       "      <td>2002-01-12</td>\n",
       "    </tr>\n",
       "  </tbody>\n",
       "</table>\n",
       "</div>"
      ],
      "text/plain": [
       "      id                 title  popularity release_date\n",
       "0    257          Oliver Twist   20.415572   2005-09-23\n",
       "1  14290  Better Luck Tomorrow    3.877036   2002-01-12"
      ]
     },
     "execution_count": 44,
     "metadata": {},
     "output_type": "execute_result"
    }
   ],
   "source": [
    "movies = pd.read_pickle(\"./dataset/movies.p\")\n",
    "print(movies.shape)\n",
    "movies.head(2)"
   ]
  },
  {
   "cell_type": "code",
   "execution_count": 45,
   "metadata": {},
   "outputs": [
    {
     "data": {
      "text/html": [
       "<div>\n",
       "<style scoped>\n",
       "    .dataframe tbody tr th:only-of-type {\n",
       "        vertical-align: middle;\n",
       "    }\n",
       "\n",
       "    .dataframe tbody tr th {\n",
       "        vertical-align: top;\n",
       "    }\n",
       "\n",
       "    .dataframe thead th {\n",
       "        text-align: right;\n",
       "    }\n",
       "</style>\n",
       "<table border=\"1\" class=\"dataframe\">\n",
       "  <thead>\n",
       "    <tr style=\"text-align: right;\">\n",
       "      <th></th>\n",
       "      <th>id</th>\n",
       "      <th>title</th>\n",
       "      <th>popularity</th>\n",
       "      <th>release_date</th>\n",
       "      <th>movie_id</th>\n",
       "      <th>genre</th>\n",
       "    </tr>\n",
       "  </thead>\n",
       "  <tbody>\n",
       "    <tr>\n",
       "      <th>0</th>\n",
       "      <td>10947</td>\n",
       "      <td>High School Musical</td>\n",
       "      <td>16.536374</td>\n",
       "      <td>2006-01-20</td>\n",
       "      <td>10947</td>\n",
       "      <td>TV Movie</td>\n",
       "    </tr>\n",
       "    <tr>\n",
       "      <th>1</th>\n",
       "      <td>13187</td>\n",
       "      <td>A Charlie Brown Christmas</td>\n",
       "      <td>8.701183</td>\n",
       "      <td>1965-12-09</td>\n",
       "      <td>13187</td>\n",
       "      <td>TV Movie</td>\n",
       "    </tr>\n",
       "    <tr>\n",
       "      <th>2</th>\n",
       "      <td>22488</td>\n",
       "      <td>Love's Abiding Joy</td>\n",
       "      <td>1.128559</td>\n",
       "      <td>2006-10-06</td>\n",
       "      <td>22488</td>\n",
       "      <td>TV Movie</td>\n",
       "    </tr>\n",
       "    <tr>\n",
       "      <th>3</th>\n",
       "      <td>78814</td>\n",
       "      <td>We Have Your Husband</td>\n",
       "      <td>0.102003</td>\n",
       "      <td>2011-11-12</td>\n",
       "      <td>78814</td>\n",
       "      <td>TV Movie</td>\n",
       "    </tr>\n",
       "    <tr>\n",
       "      <th>4</th>\n",
       "      <td>153397</td>\n",
       "      <td>Restless</td>\n",
       "      <td>0.812776</td>\n",
       "      <td>2012-12-07</td>\n",
       "      <td>153397</td>\n",
       "      <td>TV Movie</td>\n",
       "    </tr>\n",
       "    <tr>\n",
       "      <th>5</th>\n",
       "      <td>158150</td>\n",
       "      <td>How to Fall in Love</td>\n",
       "      <td>1.923514</td>\n",
       "      <td>2012-07-21</td>\n",
       "      <td>158150</td>\n",
       "      <td>TV Movie</td>\n",
       "    </tr>\n",
       "    <tr>\n",
       "      <th>6</th>\n",
       "      <td>205321</td>\n",
       "      <td>Sharknado</td>\n",
       "      <td>20.466433</td>\n",
       "      <td>2013-07-11</td>\n",
       "      <td>205321</td>\n",
       "      <td>TV Movie</td>\n",
       "    </tr>\n",
       "    <tr>\n",
       "      <th>7</th>\n",
       "      <td>231617</td>\n",
       "      <td>Signed, Sealed, Delivered</td>\n",
       "      <td>1.444476</td>\n",
       "      <td>2013-10-13</td>\n",
       "      <td>231617</td>\n",
       "      <td>TV Movie</td>\n",
       "    </tr>\n",
       "  </tbody>\n",
       "</table>\n",
       "</div>"
      ],
      "text/plain": [
       "       id                      title  popularity release_date  movie_id  \\\n",
       "0   10947        High School Musical   16.536374   2006-01-20     10947   \n",
       "1   13187  A Charlie Brown Christmas    8.701183   1965-12-09     13187   \n",
       "2   22488         Love's Abiding Joy    1.128559   2006-10-06     22488   \n",
       "3   78814       We Have Your Husband    0.102003   2011-11-12     78814   \n",
       "4  153397                   Restless    0.812776   2012-12-07    153397   \n",
       "5  158150        How to Fall in Love    1.923514   2012-07-21    158150   \n",
       "6  205321                  Sharknado   20.466433   2013-07-11    205321   \n",
       "7  231617  Signed, Sealed, Delivered    1.444476   2013-10-13    231617   \n",
       "\n",
       "      genre  \n",
       "0  TV Movie  \n",
       "1  TV Movie  \n",
       "2  TV Movie  \n",
       "3  TV Movie  \n",
       "4  TV Movie  \n",
       "5  TV Movie  \n",
       "6  TV Movie  \n",
       "7  TV Movie  "
      ]
     },
     "execution_count": 45,
     "metadata": {},
     "output_type": "execute_result"
    }
   ],
   "source": [
    "tv_movies = movies.merge(tv_genre, how=\"right\", left_on=\"id\", right_on=\"movie_id\")\n",
    "tv_movies"
   ]
  },
  {
   "cell_type": "markdown",
   "metadata": {},
   "source": [
    "### outer join\n",
    "\n",
    "will return all the rows from both tables regardless if there's a match between the two (union of rows)\n",
    "\n",
    "![Outer Join]( ./image/outerjoin.png )\n",
    "\n",
    "this is an example of how it looks \n",
    "\n",
    "![Outer join example]( ./image/outerjoin2.png )\n"
   ]
  },
  {
   "cell_type": "code",
   "execution_count": 46,
   "metadata": {},
   "outputs": [
    {
     "name": "stdout",
     "output_type": "stream",
     "text": [
      "(513, 2)\n"
     ]
    },
    {
     "data": {
      "text/html": [
       "<div>\n",
       "<style scoped>\n",
       "    .dataframe tbody tr th:only-of-type {\n",
       "        vertical-align: middle;\n",
       "    }\n",
       "\n",
       "    .dataframe tbody tr th {\n",
       "        vertical-align: top;\n",
       "    }\n",
       "\n",
       "    .dataframe thead th {\n",
       "        text-align: right;\n",
       "    }\n",
       "</style>\n",
       "<table border=\"1\" class=\"dataframe\">\n",
       "  <thead>\n",
       "    <tr style=\"text-align: right;\">\n",
       "      <th></th>\n",
       "      <th>movie_id</th>\n",
       "      <th>genre</th>\n",
       "    </tr>\n",
       "  </thead>\n",
       "  <tbody>\n",
       "    <tr>\n",
       "      <th>5</th>\n",
       "      <td>12</td>\n",
       "      <td>Family</td>\n",
       "    </tr>\n",
       "    <tr>\n",
       "      <th>33</th>\n",
       "      <td>35</td>\n",
       "      <td>Family</td>\n",
       "    </tr>\n",
       "  </tbody>\n",
       "</table>\n",
       "</div>"
      ],
      "text/plain": [
       "    movie_id   genre\n",
       "5         12  Family\n",
       "33        35  Family"
      ]
     },
     "execution_count": 46,
     "metadata": {},
     "output_type": "execute_result"
    }
   ],
   "source": [
    "family = movie_to_genres[ movie_to_genres[\"genre\"] == \"Family\" ]\n",
    "print(family.shape)\n",
    "family.head(2)"
   ]
  },
  {
   "cell_type": "code",
   "execution_count": 47,
   "metadata": {},
   "outputs": [
    {
     "name": "stdout",
     "output_type": "stream",
     "text": [
      "(1722, 2)\n"
     ]
    },
    {
     "data": {
      "text/html": [
       "<div>\n",
       "<style scoped>\n",
       "    .dataframe tbody tr th:only-of-type {\n",
       "        vertical-align: middle;\n",
       "    }\n",
       "\n",
       "    .dataframe tbody tr th {\n",
       "        vertical-align: top;\n",
       "    }\n",
       "\n",
       "    .dataframe thead th {\n",
       "        text-align: right;\n",
       "    }\n",
       "</style>\n",
       "<table border=\"1\" class=\"dataframe\">\n",
       "  <thead>\n",
       "    <tr style=\"text-align: right;\">\n",
       "      <th></th>\n",
       "      <th>movie_id</th>\n",
       "      <th>genre</th>\n",
       "    </tr>\n",
       "  </thead>\n",
       "  <tbody>\n",
       "    <tr>\n",
       "      <th>1</th>\n",
       "      <td>5</td>\n",
       "      <td>Comedy</td>\n",
       "    </tr>\n",
       "    <tr>\n",
       "      <th>7</th>\n",
       "      <td>13</td>\n",
       "      <td>Comedy</td>\n",
       "    </tr>\n",
       "  </tbody>\n",
       "</table>\n",
       "</div>"
      ],
      "text/plain": [
       "   movie_id   genre\n",
       "1         5  Comedy\n",
       "7        13  Comedy"
      ]
     },
     "execution_count": 47,
     "metadata": {},
     "output_type": "execute_result"
    }
   ],
   "source": [
    "comedy = movie_to_genres[ movie_to_genres[\"genre\"] == \"Comedy\" ]\n",
    "print(comedy.shape)\n",
    "comedy.head(2)"
   ]
  },
  {
   "cell_type": "code",
   "execution_count": 48,
   "metadata": {},
   "outputs": [
    {
     "name": "stdout",
     "output_type": "stream",
     "text": [
      "(1936, 3)\n"
     ]
    },
    {
     "data": {
      "text/html": [
       "<div>\n",
       "<style scoped>\n",
       "    .dataframe tbody tr th:only-of-type {\n",
       "        vertical-align: middle;\n",
       "    }\n",
       "\n",
       "    .dataframe tbody tr th {\n",
       "        vertical-align: top;\n",
       "    }\n",
       "\n",
       "    .dataframe thead th {\n",
       "        text-align: right;\n",
       "    }\n",
       "</style>\n",
       "<table border=\"1\" class=\"dataframe\">\n",
       "  <thead>\n",
       "    <tr style=\"text-align: right;\">\n",
       "      <th></th>\n",
       "      <th>movie_id</th>\n",
       "      <th>genre_fam</th>\n",
       "      <th>genre_com</th>\n",
       "    </tr>\n",
       "  </thead>\n",
       "  <tbody>\n",
       "    <tr>\n",
       "      <th>0</th>\n",
       "      <td>5</td>\n",
       "      <td>NaN</td>\n",
       "      <td>Comedy</td>\n",
       "    </tr>\n",
       "    <tr>\n",
       "      <th>1</th>\n",
       "      <td>12</td>\n",
       "      <td>Family</td>\n",
       "      <td>NaN</td>\n",
       "    </tr>\n",
       "  </tbody>\n",
       "</table>\n",
       "</div>"
      ],
      "text/plain": [
       "   movie_id genre_fam genre_com\n",
       "0         5       NaN    Comedy\n",
       "1        12    Family       NaN"
      ]
     },
     "execution_count": 48,
     "metadata": {},
     "output_type": "execute_result"
    }
   ],
   "source": [
    "family_comedy = family.merge(comedy, on=\"movie_id\", how=\"outer\", suffixes=(\"_fam\", \"_com\"))\n",
    "print(family_comedy.shape)\n",
    "family_comedy.head(2)"
   ]
  },
  {
   "cell_type": "code",
   "execution_count": 49,
   "metadata": {},
   "outputs": [
    {
     "name": "stdout",
     "output_type": "stream",
     "text": [
      "(299, 3)\n"
     ]
    },
    {
     "data": {
      "text/html": [
       "<div>\n",
       "<style scoped>\n",
       "    .dataframe tbody tr th:only-of-type {\n",
       "        vertical-align: middle;\n",
       "    }\n",
       "\n",
       "    .dataframe tbody tr th {\n",
       "        vertical-align: top;\n",
       "    }\n",
       "\n",
       "    .dataframe thead th {\n",
       "        text-align: right;\n",
       "    }\n",
       "</style>\n",
       "<table border=\"1\" class=\"dataframe\">\n",
       "  <thead>\n",
       "    <tr style=\"text-align: right;\">\n",
       "      <th></th>\n",
       "      <th>movie_id</th>\n",
       "      <th>genre_fam</th>\n",
       "      <th>genre_com</th>\n",
       "    </tr>\n",
       "  </thead>\n",
       "  <tbody>\n",
       "    <tr>\n",
       "      <th>3</th>\n",
       "      <td>35</td>\n",
       "      <td>Family</td>\n",
       "      <td>Comedy</td>\n",
       "    </tr>\n",
       "    <tr>\n",
       "      <th>10</th>\n",
       "      <td>105</td>\n",
       "      <td>Family</td>\n",
       "      <td>Comedy</td>\n",
       "    </tr>\n",
       "    <tr>\n",
       "      <th>13</th>\n",
       "      <td>118</td>\n",
       "      <td>Family</td>\n",
       "      <td>Comedy</td>\n",
       "    </tr>\n",
       "    <tr>\n",
       "      <th>17</th>\n",
       "      <td>165</td>\n",
       "      <td>Family</td>\n",
       "      <td>Comedy</td>\n",
       "    </tr>\n",
       "    <tr>\n",
       "      <th>21</th>\n",
       "      <td>196</td>\n",
       "      <td>Family</td>\n",
       "      <td>Comedy</td>\n",
       "    </tr>\n",
       "  </tbody>\n",
       "</table>\n",
       "</div>"
      ],
      "text/plain": [
       "    movie_id genre_fam genre_com\n",
       "3         35    Family    Comedy\n",
       "10       105    Family    Comedy\n",
       "13       118    Family    Comedy\n",
       "17       165    Family    Comedy\n",
       "21       196    Family    Comedy"
      ]
     },
     "execution_count": 49,
     "metadata": {},
     "output_type": "execute_result"
    }
   ],
   "source": [
    "# movies which are in both genres \n",
    "fc = family_comedy.dropna()\n",
    "print(fc.shape)\n",
    "fc.head()"
   ]
  },
  {
   "cell_type": "code",
   "execution_count": 50,
   "metadata": {},
   "outputs": [
    {
     "name": "stdout",
     "output_type": "stream",
     "text": [
      "(214, 3)\n"
     ]
    },
    {
     "data": {
      "text/html": [
       "<div>\n",
       "<style scoped>\n",
       "    .dataframe tbody tr th:only-of-type {\n",
       "        vertical-align: middle;\n",
       "    }\n",
       "\n",
       "    .dataframe tbody tr th {\n",
       "        vertical-align: top;\n",
       "    }\n",
       "\n",
       "    .dataframe thead th {\n",
       "        text-align: right;\n",
       "    }\n",
       "</style>\n",
       "<table border=\"1\" class=\"dataframe\">\n",
       "  <thead>\n",
       "    <tr style=\"text-align: right;\">\n",
       "      <th></th>\n",
       "      <th>movie_id</th>\n",
       "      <th>genre_fam</th>\n",
       "      <th>genre_com</th>\n",
       "    </tr>\n",
       "  </thead>\n",
       "  <tbody>\n",
       "    <tr>\n",
       "      <th>1</th>\n",
       "      <td>12</td>\n",
       "      <td>Family</td>\n",
       "      <td>NaN</td>\n",
       "    </tr>\n",
       "    <tr>\n",
       "      <th>14</th>\n",
       "      <td>129</td>\n",
       "      <td>Family</td>\n",
       "      <td>NaN</td>\n",
       "    </tr>\n",
       "    <tr>\n",
       "      <th>27</th>\n",
       "      <td>252</td>\n",
       "      <td>Family</td>\n",
       "      <td>NaN</td>\n",
       "    </tr>\n",
       "    <tr>\n",
       "      <th>28</th>\n",
       "      <td>257</td>\n",
       "      <td>Family</td>\n",
       "      <td>NaN</td>\n",
       "    </tr>\n",
       "    <tr>\n",
       "      <th>41</th>\n",
       "      <td>408</td>\n",
       "      <td>Family</td>\n",
       "      <td>NaN</td>\n",
       "    </tr>\n",
       "  </tbody>\n",
       "</table>\n",
       "</div>"
      ],
      "text/plain": [
       "    movie_id genre_fam genre_com\n",
       "1         12    Family       NaN\n",
       "14       129    Family       NaN\n",
       "27       252    Family       NaN\n",
       "28       257    Family       NaN\n",
       "41       408    Family       NaN"
      ]
     },
     "execution_count": 50,
     "metadata": {},
     "output_type": "execute_result"
    }
   ],
   "source": [
    "# movies with only the family genre\n",
    "family_only = family_comedy[ family_comedy[\"genre_com\"] != \"Comedy\" ]\n",
    "print(family_only.shape)\n",
    "family_only.head()"
   ]
  },
  {
   "cell_type": "code",
   "execution_count": 51,
   "metadata": {},
   "outputs": [
    {
     "name": "stdout",
     "output_type": "stream",
     "text": [
      "(1423, 3)\n"
     ]
    },
    {
     "data": {
      "text/html": [
       "<div>\n",
       "<style scoped>\n",
       "    .dataframe tbody tr th:only-of-type {\n",
       "        vertical-align: middle;\n",
       "    }\n",
       "\n",
       "    .dataframe tbody tr th {\n",
       "        vertical-align: top;\n",
       "    }\n",
       "\n",
       "    .dataframe thead th {\n",
       "        text-align: right;\n",
       "    }\n",
       "</style>\n",
       "<table border=\"1\" class=\"dataframe\">\n",
       "  <thead>\n",
       "    <tr style=\"text-align: right;\">\n",
       "      <th></th>\n",
       "      <th>movie_id</th>\n",
       "      <th>genre_fam</th>\n",
       "      <th>genre_com</th>\n",
       "    </tr>\n",
       "  </thead>\n",
       "  <tbody>\n",
       "    <tr>\n",
       "      <th>0</th>\n",
       "      <td>5</td>\n",
       "      <td>NaN</td>\n",
       "      <td>Comedy</td>\n",
       "    </tr>\n",
       "    <tr>\n",
       "      <th>2</th>\n",
       "      <td>13</td>\n",
       "      <td>NaN</td>\n",
       "      <td>Comedy</td>\n",
       "    </tr>\n",
       "    <tr>\n",
       "      <th>4</th>\n",
       "      <td>68</td>\n",
       "      <td>NaN</td>\n",
       "      <td>Comedy</td>\n",
       "    </tr>\n",
       "    <tr>\n",
       "      <th>5</th>\n",
       "      <td>71</td>\n",
       "      <td>NaN</td>\n",
       "      <td>Comedy</td>\n",
       "    </tr>\n",
       "    <tr>\n",
       "      <th>6</th>\n",
       "      <td>75</td>\n",
       "      <td>NaN</td>\n",
       "      <td>Comedy</td>\n",
       "    </tr>\n",
       "  </tbody>\n",
       "</table>\n",
       "</div>"
      ],
      "text/plain": [
       "   movie_id genre_fam genre_com\n",
       "0         5       NaN    Comedy\n",
       "2        13       NaN    Comedy\n",
       "4        68       NaN    Comedy\n",
       "5        71       NaN    Comedy\n",
       "6        75       NaN    Comedy"
      ]
     },
     "execution_count": 51,
     "metadata": {},
     "output_type": "execute_result"
    }
   ],
   "source": [
    "# movies with only the comedy genre\n",
    "comedy_only = family_comedy[ family_comedy[\"genre_fam\"].isnull() ]\n",
    "print(comedy_only.shape)\n",
    "comedy_only.head()"
   ]
  },
  {
   "cell_type": "code",
   "execution_count": 52,
   "metadata": {},
   "outputs": [
    {
     "name": "stdout",
     "output_type": "stream",
     "text": [
      "(4803, 4)\n"
     ]
    },
    {
     "data": {
      "text/plain": [
       "(Index(['id', 'title', 'popularity', 'release_date'], dtype='object'), None)"
      ]
     },
     "execution_count": 52,
     "metadata": {},
     "output_type": "execute_result"
    }
   ],
   "source": [
    "movies.columns, print(movies.shape)"
   ]
  },
  {
   "cell_type": "code",
   "execution_count": 53,
   "metadata": {},
   "outputs": [
    {
     "name": "stdout",
     "output_type": "stream",
     "text": [
      "(214, 3)\n"
     ]
    },
    {
     "data": {
      "text/plain": [
       "(Index(['movie_id', 'genre_fam', 'genre_com'], dtype='object'), None)"
      ]
     },
     "execution_count": 53,
     "metadata": {},
     "output_type": "execute_result"
    }
   ],
   "source": [
    "family_only.columns, print(family_only.shape)"
   ]
  },
  {
   "cell_type": "markdown",
   "metadata": {},
   "source": [
    "**joining tables with different columns but similar information in the columns**"
   ]
  },
  {
   "cell_type": "code",
   "execution_count": 54,
   "metadata": {},
   "outputs": [
    {
     "name": "stdout",
     "output_type": "stream",
     "text": [
      "(513, 6)\n"
     ]
    },
    {
     "data": {
      "text/html": [
       "<div>\n",
       "<style scoped>\n",
       "    .dataframe tbody tr th:only-of-type {\n",
       "        vertical-align: middle;\n",
       "    }\n",
       "\n",
       "    .dataframe tbody tr th {\n",
       "        vertical-align: top;\n",
       "    }\n",
       "\n",
       "    .dataframe thead th {\n",
       "        text-align: right;\n",
       "    }\n",
       "</style>\n",
       "<table border=\"1\" class=\"dataframe\">\n",
       "  <thead>\n",
       "    <tr style=\"text-align: right;\">\n",
       "      <th></th>\n",
       "      <th>movie_id</th>\n",
       "      <th>genre</th>\n",
       "      <th>id</th>\n",
       "      <th>title</th>\n",
       "      <th>popularity</th>\n",
       "      <th>release_date</th>\n",
       "    </tr>\n",
       "  </thead>\n",
       "  <tbody>\n",
       "    <tr>\n",
       "      <th>0</th>\n",
       "      <td>12</td>\n",
       "      <td>Family</td>\n",
       "      <td>12</td>\n",
       "      <td>Finding Nemo</td>\n",
       "      <td>85.688789</td>\n",
       "      <td>2003-05-30</td>\n",
       "    </tr>\n",
       "    <tr>\n",
       "      <th>1</th>\n",
       "      <td>35</td>\n",
       "      <td>Family</td>\n",
       "      <td>35</td>\n",
       "      <td>The Simpsons Movie</td>\n",
       "      <td>46.875375</td>\n",
       "      <td>2007-07-25</td>\n",
       "    </tr>\n",
       "    <tr>\n",
       "      <th>2</th>\n",
       "      <td>105</td>\n",
       "      <td>Family</td>\n",
       "      <td>105</td>\n",
       "      <td>Back to the Future</td>\n",
       "      <td>76.603233</td>\n",
       "      <td>1985-07-03</td>\n",
       "    </tr>\n",
       "    <tr>\n",
       "      <th>3</th>\n",
       "      <td>118</td>\n",
       "      <td>Family</td>\n",
       "      <td>118</td>\n",
       "      <td>Charlie and the Chocolate Factory</td>\n",
       "      <td>53.905592</td>\n",
       "      <td>2005-07-13</td>\n",
       "    </tr>\n",
       "    <tr>\n",
       "      <th>4</th>\n",
       "      <td>129</td>\n",
       "      <td>Family</td>\n",
       "      <td>129</td>\n",
       "      <td>Spirited Away</td>\n",
       "      <td>118.968562</td>\n",
       "      <td>2001-07-20</td>\n",
       "    </tr>\n",
       "  </tbody>\n",
       "</table>\n",
       "</div>"
      ],
      "text/plain": [
       "   movie_id   genre   id                              title  popularity  \\\n",
       "0        12  Family   12                       Finding Nemo   85.688789   \n",
       "1        35  Family   35                 The Simpsons Movie   46.875375   \n",
       "2       105  Family  105                 Back to the Future   76.603233   \n",
       "3       118  Family  118  Charlie and the Chocolate Factory   53.905592   \n",
       "4       129  Family  129                      Spirited Away  118.968562   \n",
       "\n",
       "  release_date  \n",
       "0   2003-05-30  \n",
       "1   2007-07-25  \n",
       "2   1985-07-03  \n",
       "3   2005-07-13  \n",
       "4   2001-07-20  "
      ]
     },
     "execution_count": 54,
     "metadata": {},
     "output_type": "execute_result"
    }
   ],
   "source": [
    "family_movies = family.merge(movies, how=\"inner\", left_on=\"movie_id\", right_on=\"id\")\n",
    "print(family_movies.shape)\n",
    "family_movies.head()"
   ]
  },
  {
   "cell_type": "code",
   "execution_count": 55,
   "metadata": {},
   "outputs": [
    {
     "data": {
      "image/png": "[encoded data removed]",
      "text/plain": [
       "<Figure size 640x480 with 1 Axes>"
      ]
     },
     "metadata": {},
     "output_type": "display_data"
    }
   ],
   "source": [
    "import matplotlib.pyplot as plt\n",
    "\n",
    "genre_count = movie_to_genres.groupby(\"genre\").agg({'movie_id':'count'})\n",
    "genre_count.plot(kind=\"bar\")\n",
    "plt.xlabel(\"Genre\")\n",
    "plt.ylabel(\"Number of Movies\")\n",
    "plt.show()"
   ]
  },
  {
   "cell_type": "markdown",
   "metadata": {},
   "source": [
    "### self join\n",
    "\n",
    "![self join]( ./image/selfjoin.png )\n",
    "\n",
    "**NB:** the left table is the same dataframe as the right table\n",
    "\n"
   ]
  },
  {
   "cell_type": "code",
   "execution_count": 56,
   "metadata": {},
   "outputs": [
    {
     "name": "stdout",
     "output_type": "stream",
     "text": [
      " actors_movies.csv   cta_ridership.p     sequels.p          ward.p\n",
      " automobile.csv      financials.p       'S&P500.csv'        WorldBank_GDP.csv\n",
      " business_owners.p   land_use.p          stations.p         WorldBank_POP.csv\n",
      " casts.p             licenses.p          \u001b[0m\u001b[01;32mstudent_mat.csv\u001b[0m*   zip_demo.p\n",
      " census.p            movies.p            taglines.p\n",
      " crews.p             movie_to_genres.p   taxi_owners.p\n",
      " cta_calendar.p      ratings.p           taxi_vehicles.p\n"
     ]
    }
   ],
   "source": [
    "ls dataset/"
   ]
  },
  {
   "cell_type": "code",
   "execution_count": 57,
   "metadata": {},
   "outputs": [
    {
     "name": "stdout",
     "output_type": "stream",
     "text": [
      "(4803, 3)\n"
     ]
    },
    {
     "data": {
      "text/html": [
       "<div>\n",
       "<style scoped>\n",
       "    .dataframe tbody tr th:only-of-type {\n",
       "        vertical-align: middle;\n",
       "    }\n",
       "\n",
       "    .dataframe tbody tr th {\n",
       "        vertical-align: top;\n",
       "    }\n",
       "\n",
       "    .dataframe thead th {\n",
       "        text-align: right;\n",
       "    }\n",
       "</style>\n",
       "<table border=\"1\" class=\"dataframe\">\n",
       "  <thead>\n",
       "    <tr style=\"text-align: right;\">\n",
       "      <th></th>\n",
       "      <th>id</th>\n",
       "      <th>title</th>\n",
       "      <th>sequel</th>\n",
       "    </tr>\n",
       "  </thead>\n",
       "  <tbody>\n",
       "    <tr>\n",
       "      <th>0</th>\n",
       "      <td>19995</td>\n",
       "      <td>Avatar</td>\n",
       "      <td>&lt;NA&gt;</td>\n",
       "    </tr>\n",
       "    <tr>\n",
       "      <th>1</th>\n",
       "      <td>862</td>\n",
       "      <td>Toy Story</td>\n",
       "      <td>863</td>\n",
       "    </tr>\n",
       "    <tr>\n",
       "      <th>2</th>\n",
       "      <td>863</td>\n",
       "      <td>Toy Story 2</td>\n",
       "      <td>10193</td>\n",
       "    </tr>\n",
       "  </tbody>\n",
       "</table>\n",
       "</div>"
      ],
      "text/plain": [
       "      id        title  sequel\n",
       "0  19995       Avatar    <NA>\n",
       "1    862    Toy Story     863\n",
       "2    863  Toy Story 2   10193"
      ]
     },
     "execution_count": 57,
     "metadata": {},
     "output_type": "execute_result"
    }
   ],
   "source": [
    "sequels = pd.read_pickle(\"dataset/sequels.p\")\n",
    "print(sequels.shape)\n",
    "sequels.head(3)"
   ]
  },
  {
   "cell_type": "markdown",
   "metadata": {},
   "source": [
    "**comment:** let's take \"toy story\" as the example. the sequel code \"863\"is the movie id for the toy story 2, which is the sequel to toy story (original). in that same sense, 10193 is the id for toy story 3 which is a sequel to toy story 2."
   ]
  },
  {
   "cell_type": "code",
   "execution_count": 58,
   "metadata": {},
   "outputs": [
    {
     "name": "stdout",
     "output_type": "stream",
     "text": [
      "(90, 6)\n"
     ]
    },
    {
     "data": {
      "text/html": [
       "<div>\n",
       "<style scoped>\n",
       "    .dataframe tbody tr th:only-of-type {\n",
       "        vertical-align: middle;\n",
       "    }\n",
       "\n",
       "    .dataframe tbody tr th {\n",
       "        vertical-align: top;\n",
       "    }\n",
       "\n",
       "    .dataframe thead th {\n",
       "        text-align: right;\n",
       "    }\n",
       "</style>\n",
       "<table border=\"1\" class=\"dataframe\">\n",
       "  <thead>\n",
       "    <tr style=\"text-align: right;\">\n",
       "      <th></th>\n",
       "      <th>id_org</th>\n",
       "      <th>title_org</th>\n",
       "      <th>sequel_org</th>\n",
       "      <th>id_seq</th>\n",
       "      <th>title_seq</th>\n",
       "      <th>sequel_seq</th>\n",
       "    </tr>\n",
       "  </thead>\n",
       "  <tbody>\n",
       "    <tr>\n",
       "      <th>0</th>\n",
       "      <td>862</td>\n",
       "      <td>Toy Story</td>\n",
       "      <td>863</td>\n",
       "      <td>863</td>\n",
       "      <td>Toy Story 2</td>\n",
       "      <td>10193</td>\n",
       "    </tr>\n",
       "    <tr>\n",
       "      <th>1</th>\n",
       "      <td>863</td>\n",
       "      <td>Toy Story 2</td>\n",
       "      <td>10193</td>\n",
       "      <td>10193</td>\n",
       "      <td>Toy Story 3</td>\n",
       "      <td>&lt;NA&gt;</td>\n",
       "    </tr>\n",
       "    <tr>\n",
       "      <th>2</th>\n",
       "      <td>675</td>\n",
       "      <td>Harry Potter and the Order of the Phoenix</td>\n",
       "      <td>767</td>\n",
       "      <td>767</td>\n",
       "      <td>Harry Potter and the Half-Blood Prince</td>\n",
       "      <td>&lt;NA&gt;</td>\n",
       "    </tr>\n",
       "    <tr>\n",
       "      <th>3</th>\n",
       "      <td>121</td>\n",
       "      <td>The Lord of the Rings: The Two Towers</td>\n",
       "      <td>122</td>\n",
       "      <td>122</td>\n",
       "      <td>The Lord of the Rings: The Return of the King</td>\n",
       "      <td>&lt;NA&gt;</td>\n",
       "    </tr>\n",
       "    <tr>\n",
       "      <th>4</th>\n",
       "      <td>120</td>\n",
       "      <td>The Lord of the Rings: The Fellowship of the Ring</td>\n",
       "      <td>121</td>\n",
       "      <td>121</td>\n",
       "      <td>The Lord of the Rings: The Two Towers</td>\n",
       "      <td>122</td>\n",
       "    </tr>\n",
       "  </tbody>\n",
       "</table>\n",
       "</div>"
      ],
      "text/plain": [
       "   id_org                                          title_org  sequel_org  \\\n",
       "0     862                                          Toy Story         863   \n",
       "1     863                                        Toy Story 2       10193   \n",
       "2     675          Harry Potter and the Order of the Phoenix         767   \n",
       "3     121              The Lord of the Rings: The Two Towers         122   \n",
       "4     120  The Lord of the Rings: The Fellowship of the Ring         121   \n",
       "\n",
       "   id_seq                                      title_seq  sequel_seq  \n",
       "0     863                                    Toy Story 2       10193  \n",
       "1   10193                                    Toy Story 3        <NA>  \n",
       "2     767         Harry Potter and the Half-Blood Prince        <NA>  \n",
       "3     122  The Lord of the Rings: The Return of the King        <NA>  \n",
       "4     121          The Lord of the Rings: The Two Towers         122  "
      ]
     },
     "execution_count": 58,
     "metadata": {},
     "output_type": "execute_result"
    }
   ],
   "source": [
    "# subsetting movies with at least 1 sequel \n",
    "original_sequels = sequels.merge(sequels, left_on=\"sequel\", right_on=\"id\", suffixes=('_org', '_seq'))\n",
    "print(original_sequels.shape)\n",
    "original_sequels.head()"
   ]
  },
  {
   "cell_type": "code",
   "execution_count": 59,
   "metadata": {},
   "outputs": [
    {
     "data": {
      "text/html": [
       "<div>\n",
       "<style scoped>\n",
       "    .dataframe tbody tr th:only-of-type {\n",
       "        vertical-align: middle;\n",
       "    }\n",
       "\n",
       "    .dataframe tbody tr th {\n",
       "        vertical-align: top;\n",
       "    }\n",
       "\n",
       "    .dataframe thead th {\n",
       "        text-align: right;\n",
       "    }\n",
       "</style>\n",
       "<table border=\"1\" class=\"dataframe\">\n",
       "  <thead>\n",
       "    <tr style=\"text-align: right;\">\n",
       "      <th></th>\n",
       "      <th>title_org</th>\n",
       "      <th>title_seq</th>\n",
       "    </tr>\n",
       "  </thead>\n",
       "  <tbody>\n",
       "    <tr>\n",
       "      <th>0</th>\n",
       "      <td>Toy Story</td>\n",
       "      <td>Toy Story 2</td>\n",
       "    </tr>\n",
       "    <tr>\n",
       "      <th>1</th>\n",
       "      <td>Toy Story 2</td>\n",
       "      <td>Toy Story 3</td>\n",
       "    </tr>\n",
       "    <tr>\n",
       "      <th>2</th>\n",
       "      <td>Harry Potter and the Order of the Phoenix</td>\n",
       "      <td>Harry Potter and the Half-Blood Prince</td>\n",
       "    </tr>\n",
       "    <tr>\n",
       "      <th>3</th>\n",
       "      <td>The Lord of the Rings: The Two Towers</td>\n",
       "      <td>The Lord of the Rings: The Return of the King</td>\n",
       "    </tr>\n",
       "    <tr>\n",
       "      <th>4</th>\n",
       "      <td>The Lord of the Rings: The Fellowship of the Ring</td>\n",
       "      <td>The Lord of the Rings: The Two Towers</td>\n",
       "    </tr>\n",
       "  </tbody>\n",
       "</table>\n",
       "</div>"
      ],
      "text/plain": [
       "                                           title_org  \\\n",
       "0                                          Toy Story   \n",
       "1                                        Toy Story 2   \n",
       "2          Harry Potter and the Order of the Phoenix   \n",
       "3              The Lord of the Rings: The Two Towers   \n",
       "4  The Lord of the Rings: The Fellowship of the Ring   \n",
       "\n",
       "                                       title_seq  \n",
       "0                                    Toy Story 2  \n",
       "1                                    Toy Story 3  \n",
       "2         Harry Potter and the Half-Blood Prince  \n",
       "3  The Lord of the Rings: The Return of the King  \n",
       "4          The Lord of the Rings: The Two Towers  "
      ]
     },
     "execution_count": 59,
     "metadata": {},
     "output_type": "execute_result"
    }
   ],
   "source": [
    "original_sequels[['title_org', 'title_seq']].head()"
   ]
  },
  {
   "cell_type": "code",
   "execution_count": 60,
   "metadata": {},
   "outputs": [
    {
     "data": {
      "text/html": [
       "<div>\n",
       "<style scoped>\n",
       "    .dataframe tbody tr th:only-of-type {\n",
       "        vertical-align: middle;\n",
       "    }\n",
       "\n",
       "    .dataframe tbody tr th {\n",
       "        vertical-align: top;\n",
       "    }\n",
       "\n",
       "    .dataframe thead th {\n",
       "        text-align: right;\n",
       "    }\n",
       "</style>\n",
       "<table border=\"1\" class=\"dataframe\">\n",
       "  <thead>\n",
       "    <tr style=\"text-align: right;\">\n",
       "      <th></th>\n",
       "      <th>id_org</th>\n",
       "      <th>title_org</th>\n",
       "      <th>sequel_org</th>\n",
       "      <th>id_seq</th>\n",
       "      <th>title_seq</th>\n",
       "      <th>sequel_seq</th>\n",
       "    </tr>\n",
       "  </thead>\n",
       "  <tbody>\n",
       "    <tr>\n",
       "      <th>10</th>\n",
       "      <td>22</td>\n",
       "      <td>Pirates of the Caribbean: The Curse of the Bla...</td>\n",
       "      <td>58</td>\n",
       "      <td>58</td>\n",
       "      <td>Pirates of the Caribbean: Dead Man's Chest</td>\n",
       "      <td>&lt;NA&gt;</td>\n",
       "    </tr>\n",
       "    <tr>\n",
       "      <th>85</th>\n",
       "      <td>76</td>\n",
       "      <td>Before Sunrise</td>\n",
       "      <td>80</td>\n",
       "      <td>80</td>\n",
       "      <td>Before Sunset</td>\n",
       "      <td>132344</td>\n",
       "    </tr>\n",
       "    <tr>\n",
       "      <th>81</th>\n",
       "      <td>80</td>\n",
       "      <td>Before Sunset</td>\n",
       "      <td>132344</td>\n",
       "      <td>132344</td>\n",
       "      <td>Before Midnight</td>\n",
       "      <td>&lt;NA&gt;</td>\n",
       "    </tr>\n",
       "    <tr>\n",
       "      <th>30</th>\n",
       "      <td>87</td>\n",
       "      <td>Indiana Jones and the Temple of Doom</td>\n",
       "      <td>89</td>\n",
       "      <td>89</td>\n",
       "      <td>Indiana Jones and the Last Crusade</td>\n",
       "      <td>217</td>\n",
       "    </tr>\n",
       "    <tr>\n",
       "      <th>20</th>\n",
       "      <td>89</td>\n",
       "      <td>Indiana Jones and the Last Crusade</td>\n",
       "      <td>217</td>\n",
       "      <td>217</td>\n",
       "      <td>Indiana Jones and the Kingdom of the Crystal S...</td>\n",
       "      <td>&lt;NA&gt;</td>\n",
       "    </tr>\n",
       "  </tbody>\n",
       "</table>\n",
       "</div>"
      ],
      "text/plain": [
       "    id_org                                          title_org  sequel_org  \\\n",
       "10      22  Pirates of the Caribbean: The Curse of the Bla...          58   \n",
       "85      76                                     Before Sunrise          80   \n",
       "81      80                                      Before Sunset      132344   \n",
       "30      87               Indiana Jones and the Temple of Doom          89   \n",
       "20      89                 Indiana Jones and the Last Crusade         217   \n",
       "\n",
       "    id_seq                                          title_seq  sequel_seq  \n",
       "10      58         Pirates of the Caribbean: Dead Man's Chest        <NA>  \n",
       "85      80                                      Before Sunset      132344  \n",
       "81  132344                                    Before Midnight        <NA>  \n",
       "30      89                 Indiana Jones and the Last Crusade         217  \n",
       "20     217  Indiana Jones and the Kingdom of the Crystal S...        <NA>  "
      ]
     },
     "execution_count": 60,
     "metadata": {},
     "output_type": "execute_result"
    }
   ],
   "source": [
    "os = original_sequels.copy()\n",
    "os = os.sort_values('id_org', ascending=True)\n",
    "os.head()"
   ]
  },
  {
   "cell_type": "code",
   "execution_count": 61,
   "metadata": {},
   "outputs": [
    {
     "data": {
      "text/html": [
       "<div>\n",
       "<style scoped>\n",
       "    .dataframe tbody tr th:only-of-type {\n",
       "        vertical-align: middle;\n",
       "    }\n",
       "\n",
       "    .dataframe tbody tr th {\n",
       "        vertical-align: top;\n",
       "    }\n",
       "\n",
       "    .dataframe thead th {\n",
       "        text-align: right;\n",
       "    }\n",
       "</style>\n",
       "<table border=\"1\" class=\"dataframe\">\n",
       "  <thead>\n",
       "    <tr style=\"text-align: right;\">\n",
       "      <th></th>\n",
       "      <th>title_org</th>\n",
       "      <th>title_seq</th>\n",
       "    </tr>\n",
       "  </thead>\n",
       "  <tbody>\n",
       "    <tr>\n",
       "      <th>10</th>\n",
       "      <td>Pirates of the Caribbean: The Curse of the Bla...</td>\n",
       "      <td>Pirates of the Caribbean: Dead Man's Chest</td>\n",
       "    </tr>\n",
       "    <tr>\n",
       "      <th>85</th>\n",
       "      <td>Before Sunrise</td>\n",
       "      <td>Before Sunset</td>\n",
       "    </tr>\n",
       "    <tr>\n",
       "      <th>81</th>\n",
       "      <td>Before Sunset</td>\n",
       "      <td>Before Midnight</td>\n",
       "    </tr>\n",
       "    <tr>\n",
       "      <th>30</th>\n",
       "      <td>Indiana Jones and the Temple of Doom</td>\n",
       "      <td>Indiana Jones and the Last Crusade</td>\n",
       "    </tr>\n",
       "    <tr>\n",
       "      <th>20</th>\n",
       "      <td>Indiana Jones and the Last Crusade</td>\n",
       "      <td>Indiana Jones and the Kingdom of the Crystal S...</td>\n",
       "    </tr>\n",
       "  </tbody>\n",
       "</table>\n",
       "</div>"
      ],
      "text/plain": [
       "                                            title_org  \\\n",
       "10  Pirates of the Caribbean: The Curse of the Bla...   \n",
       "85                                     Before Sunrise   \n",
       "81                                      Before Sunset   \n",
       "30               Indiana Jones and the Temple of Doom   \n",
       "20                 Indiana Jones and the Last Crusade   \n",
       "\n",
       "                                            title_seq  \n",
       "10         Pirates of the Caribbean: Dead Man's Chest  \n",
       "85                                      Before Sunset  \n",
       "81                                    Before Midnight  \n",
       "30                 Indiana Jones and the Last Crusade  \n",
       "20  Indiana Jones and the Kingdom of the Crystal S...  "
      ]
     },
     "execution_count": 61,
     "metadata": {},
     "output_type": "execute_result"
    }
   ],
   "source": [
    "os[['title_org', 'title_seq']].head()"
   ]
  },
  {
   "cell_type": "markdown",
   "metadata": {},
   "source": [
    "**when to merge a table to itself** \n",
    "- hierarchical relationships\n",
    "- sequential relationships\n",
    "- graph data"
   ]
  },
  {
   "cell_type": "markdown",
   "metadata": {},
   "source": [
    "### Filtering joins\n",
    "\n",
    "**mutating joins (inner, left, right)**\n",
    "- combines data from two tables based on mathching observations in both tables\n",
    "\n",
    "**filtering joins**\n",
    "- filter observations from table based on whether or not they match an observation in another table\n",
    "\n",
    "_examples_ <br>\n",
    "\n",
    "**semi join**\n",
    "\n",
    "![semi join example]( image/semijoin.png )\n",
    "\n",
    "- returns the intersection (ref to rows), similar to an inner join\n",
    "- returns only columns from the left table and not the right \n",
    "- no duplicates \n",
    "\n",
    "```python\n",
    "    # example: genres and top_tracks are dataframes\n",
    "\n",
    "    genres_tracks = genres.merge(top_tracks, on='gid')\n",
    "    top_genres = genres[ genres['gid'].isin(genres_tracks['gid']) ]\n",
    "```\n",
    "\n",
    "\n",
    "**anti join**\n",
    "\n",
    "![anti join example]( image/antijoin.png )\n",
    "\n",
    "- returns the left table, exluding the intersection\n",
    "- returns only columns from the left table and not the right\n",
    "\n",
    "```python\n",
    "    # example: genres and top_tracks are dataframes \n",
    "    \n",
    "    genre_tracks = genres.merge(top_tracks, on='gid', how='left', indicator=True) # adds another column that sepcifies if a row is found in both tables (\"both\") or only the \"how\" (left) table (\"left_only\")\n",
    "    gid_list = genres_tracks.loc[ genres_tracks['_merge'] == 'left_only', 'gid' ] # creats a list of \"gid\" using only rows with the \"left_only\" indication\n",
    "    non_top_genres = genres[ genres['gid'].isin(git_list) ]\n",
    "```\n"
   ]
  },
  {
   "cell_type": "code",
   "execution_count": 62,
   "metadata": {},
   "outputs": [
    {
     "name": "stdout",
     "output_type": "stream",
     "text": [
      " actors_movies.csv   cta_ridership.p     sequels.p          ward.p\n",
      " automobile.csv      financials.p       'S&P500.csv'        WorldBank_GDP.csv\n",
      " business_owners.p   land_use.p          stations.p         WorldBank_POP.csv\n",
      " casts.p             licenses.p          \u001b[0m\u001b[01;32mstudent_mat.csv\u001b[0m*   zip_demo.p\n",
      " census.p            movies.p            taglines.p\n",
      " crews.p             movie_to_genres.p   taxi_owners.p\n",
      " cta_calendar.p      ratings.p           taxi_vehicles.p\n"
     ]
    }
   ],
   "source": [
    "ls dataset/"
   ]
  },
  {
   "cell_type": "markdown",
   "metadata": {},
   "source": [
    "**below is a semi join**"
   ]
  },
  {
   "cell_type": "code",
   "execution_count": 63,
   "metadata": {},
   "outputs": [
    {
     "name": "stdout",
     "output_type": "stream",
     "text": [
      "(100, 4)\n"
     ]
    },
    {
     "data": {
      "text/html": [
       "<div>\n",
       "<style scoped>\n",
       "    .dataframe tbody tr th:only-of-type {\n",
       "        vertical-align: middle;\n",
       "    }\n",
       "\n",
       "    .dataframe tbody tr th {\n",
       "        vertical-align: top;\n",
       "    }\n",
       "\n",
       "    .dataframe thead th {\n",
       "        text-align: right;\n",
       "    }\n",
       "</style>\n",
       "<table border=\"1\" class=\"dataframe\">\n",
       "  <thead>\n",
       "    <tr style=\"text-align: right;\">\n",
       "      <th></th>\n",
       "      <th>id</th>\n",
       "      <th>title</th>\n",
       "      <th>popularity</th>\n",
       "      <th>release_date</th>\n",
       "    </tr>\n",
       "  </thead>\n",
       "  <tbody>\n",
       "    <tr>\n",
       "      <th>0</th>\n",
       "      <td>257</td>\n",
       "      <td>Oliver Twist</td>\n",
       "      <td>20.415572</td>\n",
       "      <td>2005-09-23</td>\n",
       "    </tr>\n",
       "    <tr>\n",
       "      <th>1</th>\n",
       "      <td>14290</td>\n",
       "      <td>Better Luck Tomorrow</td>\n",
       "      <td>3.877036</td>\n",
       "      <td>2002-01-12</td>\n",
       "    </tr>\n",
       "  </tbody>\n",
       "</table>\n",
       "</div>"
      ],
      "text/plain": [
       "      id                 title  popularity release_date\n",
       "0    257          Oliver Twist   20.415572   2005-09-23\n",
       "1  14290  Better Luck Tomorrow    3.877036   2002-01-12"
      ]
     },
     "execution_count": 63,
     "metadata": {},
     "output_type": "execute_result"
    }
   ],
   "source": [
    "import pandas as pd \n",
    "\n",
    "movies = pd.read_pickle(\"dataset/movies.p\")[:100]\n",
    "print(movies.shape)\n",
    "movies.head(2)"
   ]
  },
  {
   "cell_type": "code",
   "execution_count": 64,
   "metadata": {},
   "outputs": [
    {
     "name": "stdout",
     "output_type": "stream",
     "text": [
      "(12160, 2)\n"
     ]
    },
    {
     "data": {
      "text/html": [
       "<div>\n",
       "<style scoped>\n",
       "    .dataframe tbody tr th:only-of-type {\n",
       "        vertical-align: middle;\n",
       "    }\n",
       "\n",
       "    .dataframe tbody tr th {\n",
       "        vertical-align: top;\n",
       "    }\n",
       "\n",
       "    .dataframe thead th {\n",
       "        text-align: right;\n",
       "    }\n",
       "</style>\n",
       "<table border=\"1\" class=\"dataframe\">\n",
       "  <thead>\n",
       "    <tr style=\"text-align: right;\">\n",
       "      <th></th>\n",
       "      <th>movie_id</th>\n",
       "      <th>genre</th>\n",
       "    </tr>\n",
       "  </thead>\n",
       "  <tbody>\n",
       "    <tr>\n",
       "      <th>0</th>\n",
       "      <td>5</td>\n",
       "      <td>Crime</td>\n",
       "    </tr>\n",
       "    <tr>\n",
       "      <th>1</th>\n",
       "      <td>5</td>\n",
       "      <td>Comedy</td>\n",
       "    </tr>\n",
       "  </tbody>\n",
       "</table>\n",
       "</div>"
      ],
      "text/plain": [
       "   movie_id   genre\n",
       "0         5   Crime\n",
       "1         5  Comedy"
      ]
     },
     "execution_count": 64,
     "metadata": {},
     "output_type": "execute_result"
    }
   ],
   "source": [
    "moviegenres = pd.read_pickle('dataset/movie_to_genres.p')\n",
    "print(moviegenres.shape)\n",
    "moviegenres.head(2)"
   ]
  },
  {
   "cell_type": "code",
   "execution_count": 65,
   "metadata": {},
   "outputs": [
    {
     "data": {
      "text/plain": [
       "20"
      ]
     },
     "execution_count": 65,
     "metadata": {},
     "output_type": "execute_result"
    }
   ],
   "source": [
    "moviegenres.genre.nunique()"
   ]
  },
  {
   "cell_type": "code",
   "execution_count": 66,
   "metadata": {},
   "outputs": [
    {
     "name": "stdout",
     "output_type": "stream",
     "text": [
      "(246, 6)\n"
     ]
    },
    {
     "data": {
      "text/html": [
       "<div>\n",
       "<style scoped>\n",
       "    .dataframe tbody tr th:only-of-type {\n",
       "        vertical-align: middle;\n",
       "    }\n",
       "\n",
       "    .dataframe tbody tr th {\n",
       "        vertical-align: top;\n",
       "    }\n",
       "\n",
       "    .dataframe thead th {\n",
       "        text-align: right;\n",
       "    }\n",
       "</style>\n",
       "<table border=\"1\" class=\"dataframe\">\n",
       "  <thead>\n",
       "    <tr style=\"text-align: right;\">\n",
       "      <th></th>\n",
       "      <th>movie_id</th>\n",
       "      <th>genre</th>\n",
       "      <th>id</th>\n",
       "      <th>title</th>\n",
       "      <th>popularity</th>\n",
       "      <th>release_date</th>\n",
       "    </tr>\n",
       "  </thead>\n",
       "  <tbody>\n",
       "    <tr>\n",
       "      <th>0</th>\n",
       "      <td>59</td>\n",
       "      <td>Thriller</td>\n",
       "      <td>59</td>\n",
       "      <td>A History of Violence</td>\n",
       "      <td>34.628738</td>\n",
       "      <td>2005-09-23</td>\n",
       "    </tr>\n",
       "    <tr>\n",
       "      <th>1</th>\n",
       "      <td>59</td>\n",
       "      <td>Drama</td>\n",
       "      <td>59</td>\n",
       "      <td>A History of Violence</td>\n",
       "      <td>34.628738</td>\n",
       "      <td>2005-09-23</td>\n",
       "    </tr>\n",
       "  </tbody>\n",
       "</table>\n",
       "</div>"
      ],
      "text/plain": [
       "   movie_id     genre  id                  title  popularity release_date\n",
       "0        59  Thriller  59  A History of Violence   34.628738   2005-09-23\n",
       "1        59     Drama  59  A History of Violence   34.628738   2005-09-23"
      ]
     },
     "execution_count": 66,
     "metadata": {},
     "output_type": "execute_result"
    }
   ],
   "source": [
    "movies_with_genres = moviegenres.merge(movies,\n",
    "                                  right_on=\"id\",\n",
    "                                  left_on=\"movie_id\",\n",
    "                                  how=\"inner\")\n",
    "print(movies_with_genres.shape)\n",
    "movies_with_genres.head(2)"
   ]
  },
  {
   "cell_type": "code",
   "execution_count": 67,
   "metadata": {},
   "outputs": [
    {
     "data": {
      "text/plain": [
       "16"
      ]
     },
     "execution_count": 67,
     "metadata": {},
     "output_type": "execute_result"
    }
   ],
   "source": [
    "top_genres = moviegenres[ moviegenres['genre'].isin(movies_with_genres['genre']) ]\n",
    "top_genres['genre'].nunique()"
   ]
  },
  {
   "cell_type": "markdown",
   "metadata": {},
   "source": [
    "**comment**\n",
    "so what we did was to get the unique documentary per movie from the `moviegenres` dataframe which have corresponding entries in the `movies` dataframe. howeverer, since one movie can have multiple genres we can observe that the dataset size is very large with the genres repeating (although for different movie ids). with that said not that the `.nunqiue()` method returns 16 unique genres instead of the 20 which exists in the `moviegenres` table."
   ]
  },
  {
   "cell_type": "markdown",
   "metadata": {},
   "source": [
    "### concatenate dataframes together vertically\n",
    "- pandas `.concat()` method can concatenate both vertical and horizontal.\n",
    "    - `axis = 0`, vertical"
   ]
  },
  {
   "cell_type": "code",
   "execution_count": 68,
   "metadata": {},
   "outputs": [],
   "source": [
    "import pandas as pd"
   ]
  },
  {
   "cell_type": "code",
   "execution_count": 69,
   "metadata": {},
   "outputs": [
    {
     "name": "stdout",
     "output_type": "stream",
     "text": [
      "    A   B   C\n",
      "0  a1  b1  c1\n",
      "1  a2  b2  c2\n",
      "2  a3  b3  c3\n",
      "\n",
      "    A   B   C\n",
      "0  a4  b4  c4\n",
      "1  a5  b5  c5\n",
      "\n",
      "    A   D\n",
      "0  a6  d1\n",
      "1  a7  d2\n"
     ]
    }
   ],
   "source": [
    "table1 = {\"A\" : [\"a1\", 'a2', 'a3'],\n",
    "          \"B\" : ['b1', 'b2', 'b3'],\n",
    "          \"C\" : ['c1', 'c2', 'c3']\n",
    "          }\n",
    "table2 = {\"A\" : ['a4', 'a5'],\n",
    "          \"B\" : ['b4', 'b5'],\n",
    "          \"C\" : ['c4', 'c5']\n",
    "          }\n",
    "table3 = {\"A\" : ['a6', 'a7'],\n",
    "          \"D\" : ['d1', 'd2']\n",
    "          }\n",
    "\n",
    "df1 = pd.DataFrame(table1)\n",
    "df2 = pd.DataFrame(table2)\n",
    "df3 = pd.DataFrame(table3)\n",
    "\n",
    "print(df1.head())\n",
    "print()\n",
    "print(df2.head())\n",
    "print()\n",
    "print(df3.head())"
   ]
  },
  {
   "cell_type": "code",
   "execution_count": 70,
   "metadata": {},
   "outputs": [
    {
     "data": {
      "text/html": [
       "<div>\n",
       "<style scoped>\n",
       "    .dataframe tbody tr th:only-of-type {\n",
       "        vertical-align: middle;\n",
       "    }\n",
       "\n",
       "    .dataframe tbody tr th {\n",
       "        vertical-align: top;\n",
       "    }\n",
       "\n",
       "    .dataframe thead th {\n",
       "        text-align: right;\n",
       "    }\n",
       "</style>\n",
       "<table border=\"1\" class=\"dataframe\">\n",
       "  <thead>\n",
       "    <tr style=\"text-align: right;\">\n",
       "      <th></th>\n",
       "      <th>A</th>\n",
       "      <th>B</th>\n",
       "      <th>C</th>\n",
       "    </tr>\n",
       "  </thead>\n",
       "  <tbody>\n",
       "    <tr>\n",
       "      <th>0</th>\n",
       "      <td>a1</td>\n",
       "      <td>b1</td>\n",
       "      <td>c1</td>\n",
       "    </tr>\n",
       "    <tr>\n",
       "      <th>1</th>\n",
       "      <td>a2</td>\n",
       "      <td>b2</td>\n",
       "      <td>c2</td>\n",
       "    </tr>\n",
       "    <tr>\n",
       "      <th>2</th>\n",
       "      <td>a3</td>\n",
       "      <td>b3</td>\n",
       "      <td>c3</td>\n",
       "    </tr>\n",
       "    <tr>\n",
       "      <th>0</th>\n",
       "      <td>a4</td>\n",
       "      <td>b4</td>\n",
       "      <td>c4</td>\n",
       "    </tr>\n",
       "    <tr>\n",
       "      <th>1</th>\n",
       "      <td>a5</td>\n",
       "      <td>b5</td>\n",
       "      <td>c5</td>\n",
       "    </tr>\n",
       "  </tbody>\n",
       "</table>\n",
       "</div>"
      ],
      "text/plain": [
       "    A   B   C\n",
       "0  a1  b1  c1\n",
       "1  a2  b2  c2\n",
       "2  a3  b3  c3\n",
       "0  a4  b4  c4\n",
       "1  a5  b5  c5"
      ]
     },
     "execution_count": 70,
     "metadata": {},
     "output_type": "execute_result"
    }
   ],
   "source": [
    "# concatenate two tables vertically (with the same column names)\n",
    "\n",
    "pd.concat([df1, df2])\n"
   ]
  },
  {
   "cell_type": "code",
   "execution_count": 71,
   "metadata": {},
   "outputs": [
    {
     "data": {
      "text/html": [
       "<div>\n",
       "<style scoped>\n",
       "    .dataframe tbody tr th:only-of-type {\n",
       "        vertical-align: middle;\n",
       "    }\n",
       "\n",
       "    .dataframe tbody tr th {\n",
       "        vertical-align: top;\n",
       "    }\n",
       "\n",
       "    .dataframe thead th {\n",
       "        text-align: right;\n",
       "    }\n",
       "</style>\n",
       "<table border=\"1\" class=\"dataframe\">\n",
       "  <thead>\n",
       "    <tr style=\"text-align: right;\">\n",
       "      <th></th>\n",
       "      <th>A</th>\n",
       "      <th>B</th>\n",
       "      <th>C</th>\n",
       "    </tr>\n",
       "  </thead>\n",
       "  <tbody>\n",
       "    <tr>\n",
       "      <th>0</th>\n",
       "      <td>a1</td>\n",
       "      <td>b1</td>\n",
       "      <td>c1</td>\n",
       "    </tr>\n",
       "    <tr>\n",
       "      <th>1</th>\n",
       "      <td>a2</td>\n",
       "      <td>b2</td>\n",
       "      <td>c2</td>\n",
       "    </tr>\n",
       "    <tr>\n",
       "      <th>2</th>\n",
       "      <td>a3</td>\n",
       "      <td>b3</td>\n",
       "      <td>c3</td>\n",
       "    </tr>\n",
       "    <tr>\n",
       "      <th>3</th>\n",
       "      <td>a4</td>\n",
       "      <td>b4</td>\n",
       "      <td>c4</td>\n",
       "    </tr>\n",
       "    <tr>\n",
       "      <th>4</th>\n",
       "      <td>a5</td>\n",
       "      <td>b5</td>\n",
       "      <td>c5</td>\n",
       "    </tr>\n",
       "  </tbody>\n",
       "</table>\n",
       "</div>"
      ],
      "text/plain": [
       "    A   B   C\n",
       "0  a1  b1  c1\n",
       "1  a2  b2  c2\n",
       "2  a3  b3  c3\n",
       "3  a4  b4  c4\n",
       "4  a5  b5  c5"
      ]
     },
     "execution_count": 71,
     "metadata": {},
     "output_type": "execute_result"
    }
   ],
   "source": [
    "# set the ignore index option to re-number the concatenated table as a single table \n",
    "# and not separate tables as seen above (do this if the index are not informative)\n",
    "\n",
    "pd.concat([df1, df2], ignore_index=True)"
   ]
  },
  {
   "cell_type": "code",
   "execution_count": 72,
   "metadata": {},
   "outputs": [
    {
     "data": {
      "text/html": [
       "<div>\n",
       "<style scoped>\n",
       "    .dataframe tbody tr th:only-of-type {\n",
       "        vertical-align: middle;\n",
       "    }\n",
       "\n",
       "    .dataframe tbody tr th {\n",
       "        vertical-align: top;\n",
       "    }\n",
       "\n",
       "    .dataframe thead th {\n",
       "        text-align: right;\n",
       "    }\n",
       "</style>\n",
       "<table border=\"1\" class=\"dataframe\">\n",
       "  <thead>\n",
       "    <tr style=\"text-align: right;\">\n",
       "      <th></th>\n",
       "      <th></th>\n",
       "      <th>A</th>\n",
       "      <th>B</th>\n",
       "      <th>C</th>\n",
       "    </tr>\n",
       "  </thead>\n",
       "  <tbody>\n",
       "    <tr>\n",
       "      <th rowspan=\"3\" valign=\"top\">first</th>\n",
       "      <th>0</th>\n",
       "      <td>a1</td>\n",
       "      <td>b1</td>\n",
       "      <td>c1</td>\n",
       "    </tr>\n",
       "    <tr>\n",
       "      <th>1</th>\n",
       "      <td>a2</td>\n",
       "      <td>b2</td>\n",
       "      <td>c2</td>\n",
       "    </tr>\n",
       "    <tr>\n",
       "      <th>2</th>\n",
       "      <td>a3</td>\n",
       "      <td>b3</td>\n",
       "      <td>c3</td>\n",
       "    </tr>\n",
       "    <tr>\n",
       "      <th rowspan=\"2\" valign=\"top\">second</th>\n",
       "      <th>0</th>\n",
       "      <td>a4</td>\n",
       "      <td>b4</td>\n",
       "      <td>c4</td>\n",
       "    </tr>\n",
       "    <tr>\n",
       "      <th>1</th>\n",
       "      <td>a5</td>\n",
       "      <td>b5</td>\n",
       "      <td>c5</td>\n",
       "    </tr>\n",
       "  </tbody>\n",
       "</table>\n",
       "</div>"
      ],
      "text/plain": [
       "           A   B   C\n",
       "first  0  a1  b1  c1\n",
       "       1  a2  b2  c2\n",
       "       2  a3  b3  c3\n",
       "second 0  a4  b4  c4\n",
       "       1  a5  b5  c5"
      ]
     },
     "execution_count": 72,
     "metadata": {},
     "output_type": "execute_result"
    }
   ],
   "source": [
    "# setting labels to original tables\n",
    "\n",
    "newdf = pd.concat([df1, df2], ignore_index=False, keys=['first', 'second'])\n",
    "newdf\n",
    "\n",
    "# i'm pretty sure the default of the < option > \"ignore_index = False\"\n",
    "# so that option could be omitted \n",
    "\n",
    "# note: this creates a multi-level index"
   ]
  },
  {
   "cell_type": "code",
   "execution_count": 73,
   "metadata": {},
   "outputs": [
    {
     "name": "stdout",
     "output_type": "stream",
     "text": [
      "A    a2\n",
      "B    b2\n",
      "C    c2\n",
      "Name: (first, 1), dtype: object\n",
      "\n",
      "A    a4\n",
      "B    b4\n",
      "C    c4\n",
      "Name: (second, 0), dtype: object\n"
     ]
    }
   ],
   "source": [
    "# slicing our \"newdf\"\n",
    "\n",
    "print( newdf.loc[('first', 1)] ) # multi-level index slicing\n",
    "\n",
    "print()\n",
    "\n",
    "print( newdf.loc[('second', 0)] )"
   ]
  },
  {
   "cell_type": "code",
   "execution_count": 74,
   "metadata": {},
   "outputs": [
    {
     "data": {
      "text/html": [
       "<div>\n",
       "<style scoped>\n",
       "    .dataframe tbody tr th:only-of-type {\n",
       "        vertical-align: middle;\n",
       "    }\n",
       "\n",
       "    .dataframe tbody tr th {\n",
       "        vertical-align: top;\n",
       "    }\n",
       "\n",
       "    .dataframe thead th {\n",
       "        text-align: right;\n",
       "    }\n",
       "</style>\n",
       "<table border=\"1\" class=\"dataframe\">\n",
       "  <thead>\n",
       "    <tr style=\"text-align: right;\">\n",
       "      <th></th>\n",
       "      <th>A</th>\n",
       "      <th>B</th>\n",
       "      <th>C</th>\n",
       "      <th>D</th>\n",
       "    </tr>\n",
       "  </thead>\n",
       "  <tbody>\n",
       "    <tr>\n",
       "      <th>0</th>\n",
       "      <td>a4</td>\n",
       "      <td>b4</td>\n",
       "      <td>c4</td>\n",
       "      <td>NaN</td>\n",
       "    </tr>\n",
       "    <tr>\n",
       "      <th>1</th>\n",
       "      <td>a5</td>\n",
       "      <td>b5</td>\n",
       "      <td>c5</td>\n",
       "      <td>NaN</td>\n",
       "    </tr>\n",
       "    <tr>\n",
       "      <th>2</th>\n",
       "      <td>a6</td>\n",
       "      <td>NaN</td>\n",
       "      <td>NaN</td>\n",
       "      <td>d1</td>\n",
       "    </tr>\n",
       "    <tr>\n",
       "      <th>3</th>\n",
       "      <td>a7</td>\n",
       "      <td>NaN</td>\n",
       "      <td>NaN</td>\n",
       "      <td>d2</td>\n",
       "    </tr>\n",
       "  </tbody>\n",
       "</table>\n",
       "</div>"
      ],
      "text/plain": [
       "    A    B    C    D\n",
       "0  a4   b4   c4  NaN\n",
       "1  a5   b5   c5  NaN\n",
       "2  a6  NaN  NaN   d1\n",
       "3  a7  NaN  NaN   d2"
      ]
     },
     "execution_count": 74,
     "metadata": {},
     "output_type": "execute_result"
    }
   ],
   "source": [
    "# concatenate tables with differenct column names \n",
    "\n",
    "pd.concat([df2, df3], sort=True, ignore_index=True)"
   ]
  },
  {
   "cell_type": "code",
   "execution_count": 75,
   "metadata": {},
   "outputs": [
    {
     "data": {
      "text/html": [
       "<div>\n",
       "<style scoped>\n",
       "    .dataframe tbody tr th:only-of-type {\n",
       "        vertical-align: middle;\n",
       "    }\n",
       "\n",
       "    .dataframe tbody tr th {\n",
       "        vertical-align: top;\n",
       "    }\n",
       "\n",
       "    .dataframe thead th {\n",
       "        text-align: right;\n",
       "    }\n",
       "</style>\n",
       "<table border=\"1\" class=\"dataframe\">\n",
       "  <thead>\n",
       "    <tr style=\"text-align: right;\">\n",
       "      <th></th>\n",
       "      <th></th>\n",
       "      <th>A</th>\n",
       "    </tr>\n",
       "  </thead>\n",
       "  <tbody>\n",
       "    <tr>\n",
       "      <th rowspan=\"3\" valign=\"top\">first</th>\n",
       "      <th>0</th>\n",
       "      <td>a1</td>\n",
       "    </tr>\n",
       "    <tr>\n",
       "      <th>1</th>\n",
       "      <td>a2</td>\n",
       "    </tr>\n",
       "    <tr>\n",
       "      <th>2</th>\n",
       "      <td>a3</td>\n",
       "    </tr>\n",
       "    <tr>\n",
       "      <th rowspan=\"2\" valign=\"top\">second</th>\n",
       "      <th>0</th>\n",
       "      <td>a4</td>\n",
       "    </tr>\n",
       "    <tr>\n",
       "      <th>1</th>\n",
       "      <td>a5</td>\n",
       "    </tr>\n",
       "    <tr>\n",
       "      <th rowspan=\"2\" valign=\"top\">third</th>\n",
       "      <th>0</th>\n",
       "      <td>a6</td>\n",
       "    </tr>\n",
       "    <tr>\n",
       "      <th>1</th>\n",
       "      <td>a7</td>\n",
       "    </tr>\n",
       "  </tbody>\n",
       "</table>\n",
       "</div>"
      ],
      "text/plain": [
       "           A\n",
       "first  0  a1\n",
       "       1  a2\n",
       "       2  a3\n",
       "second 0  a4\n",
       "       1  a5\n",
       "third  0  a6\n",
       "       1  a7"
      ]
     },
     "execution_count": 75,
     "metadata": {},
     "output_type": "execute_result"
    }
   ],
   "source": [
    "# concatenate tables with different column names\n",
    "# but only show the matching columns from both \n",
    "# tables \n",
    "\n",
    "pd.concat([df1, df2, df3],\n",
    "          join='inner',                         # (default) join = 'outer'\n",
    "          keys=['first', 'second', 'third'])  "
   ]
  },
  {
   "cell_type": "markdown",
   "metadata": {},
   "source": [
    "**IN (NAIVE) SUMMARY, JOINS MERGE ROWS AND CONCATENATION MERGE COLUMNS**"
   ]
  },
  {
   "cell_type": "markdown",
   "metadata": {},
   "source": [
    "**verifying intergrity of our data**\n",
    "- Possible `merging` issue:\n",
    "    - unintentional one-to-many relationship\n",
    "    - unintentional many-to-many relationship\n",
    "- Possible `concat` issue:\n",
    "    - duplicate records possibly unintentionally (if the record exits in both tables)\n",
    "\n",
    "**validating merges** <br>\n",
    "`.merge(validate=None)` by default the value is set to `None`. However, we can check if the merge is of specified type, if not an error is raised. Types:\n",
    "- one_to_one\n",
    "- one_to_many\n",
    "- many_to_one\n",
    "- many_to_many\n",
    "For example if we run this code:\n",
    "```python\n",
    "    first_table.merge(second_table, on='id', validate='one_to_one')\n",
    "\n",
    "    # this raises an error if the relationship between the tables isn't one-to-one \n",
    "```\n",
    "\n",
    "**verifying concatenations** <br>\n",
    "`.concat(verify_integrity=False)` by default the value is set to `False`. However, if set to `True`, it checks whether the new concatenated index contains duplicates and raise error if there are.\n",
    "\n",
    "**why verify integrity and what to do**\n",
    "- Why?\n",
    "    - real world data is often NOT clean. This might result in skewed data or create inaccurate plots\n",
    "- What to do?\n",
    "    - Drop duplicate rows\n",
    "    - Fix incorrect value errors\n"
   ]
  },
  {
   "cell_type": "code",
   "execution_count": null,
   "metadata": {},
   "outputs": [],
   "source": []
  },
  {
   "cell_type": "markdown",
   "metadata": {},
   "source": [
    "### MERGING ORDERED AND TIME-SERIES DATA"
   ]
  },
  {
   "cell_type": "markdown",
   "metadata": {},
   "source": [
    "**using `merge_ordered()`** merges the tables as well as order the results and is most suitable for time series data where order is important\n",
    "\n",
    "Comparison between the (earlier) merge method and (this) merge_ordered function...\n",
    "\n",
    "| `.merge()` method | `pd.merge_ordered()` method |\n",
    "|-------------------|-----------------------------|\n",
    "| column(s) to join: `on`, `left_on`, and `right_on` | column(s) to join on: `on`, `left_on`, and `right_on` |\n",
    "| type of join **(default: inner)**: `how = ` *(inner, left, right, outer)* | type of join **(default: outer)**: `how = ` *(inner, left, right, outer)* |\n",
    "| overlapping column names: `suffixes` | overlapping column names: `suffixes` |\n",
    "| calling the method: `left_table.merge(right_table,)` | calling the function: `pd.merge_ordered(left_table, right_table)` |\n",
    "\n",
    "**when to use `merge_ordered()`?**\n",
    "- ordered data (eg: time series)\n",
    "- filling in missing values\n"
   ]
  },
  {
   "cell_type": "code",
   "execution_count": 76,
   "metadata": {},
   "outputs": [
    {
     "name": "stdout",
     "output_type": "stream",
     "text": [
      " actors_movies.csv   cta_ridership.p     sequels.p          ward.p\n",
      " automobile.csv      financials.p       'S&P500.csv'        WorldBank_GDP.csv\n",
      " business_owners.p   land_use.p          stations.p         WorldBank_POP.csv\n",
      " casts.p             licenses.p          \u001b[0m\u001b[01;32mstudent_mat.csv\u001b[0m*   zip_demo.p\n",
      " census.p            movies.p            taglines.p\n",
      " crews.p             movie_to_genres.p   taxi_owners.p\n",
      " cta_calendar.p      ratings.p           taxi_vehicles.p\n"
     ]
    }
   ],
   "source": [
    "ls dataset/"
   ]
  },
  {
   "cell_type": "code",
   "execution_count": 77,
   "metadata": {},
   "outputs": [],
   "source": [
    "import pandas as pd "
   ]
  },
  {
   "cell_type": "code",
   "execution_count": 78,
   "metadata": {},
   "outputs": [],
   "source": [
    "appl_dict = {'date': ['2007-02-01', '2007-03-01', '2007-04-01', '2007-05-01', '2007-06-01'],\n",
    "             'close': [12, 13, 14, 17, 17.5]}\n",
    "\n",
    "mcd_dict = {'date': ['2007-01-01', '2007-02-01', '2007-03-01', '2007-04-01', '2007-05-01'],\n",
    "             'close': [44, 43, 45, 48, 50]}\n",
    "\n",
    "appl = pd.DataFrame(appl_dict)\n",
    "mcd = pd.DataFrame(mcd_dict)"
   ]
  },
  {
   "cell_type": "code",
   "execution_count": 79,
   "metadata": {},
   "outputs": [
    {
     "data": {
      "text/html": [
       "<div>\n",
       "<style scoped>\n",
       "    .dataframe tbody tr th:only-of-type {\n",
       "        vertical-align: middle;\n",
       "    }\n",
       "\n",
       "    .dataframe tbody tr th {\n",
       "        vertical-align: top;\n",
       "    }\n",
       "\n",
       "    .dataframe thead th {\n",
       "        text-align: right;\n",
       "    }\n",
       "</style>\n",
       "<table border=\"1\" class=\"dataframe\">\n",
       "  <thead>\n",
       "    <tr style=\"text-align: right;\">\n",
       "      <th></th>\n",
       "      <th>date</th>\n",
       "      <th>close</th>\n",
       "    </tr>\n",
       "  </thead>\n",
       "  <tbody>\n",
       "    <tr>\n",
       "      <th>0</th>\n",
       "      <td>2007-02-01</td>\n",
       "      <td>12.0</td>\n",
       "    </tr>\n",
       "    <tr>\n",
       "      <th>1</th>\n",
       "      <td>2007-03-01</td>\n",
       "      <td>13.0</td>\n",
       "    </tr>\n",
       "    <tr>\n",
       "      <th>2</th>\n",
       "      <td>2007-04-01</td>\n",
       "      <td>14.0</td>\n",
       "    </tr>\n",
       "    <tr>\n",
       "      <th>3</th>\n",
       "      <td>2007-05-01</td>\n",
       "      <td>17.0</td>\n",
       "    </tr>\n",
       "    <tr>\n",
       "      <th>4</th>\n",
       "      <td>2007-06-01</td>\n",
       "      <td>17.5</td>\n",
       "    </tr>\n",
       "  </tbody>\n",
       "</table>\n",
       "</div>"
      ],
      "text/plain": [
       "         date  close\n",
       "0  2007-02-01   12.0\n",
       "1  2007-03-01   13.0\n",
       "2  2007-04-01   14.0\n",
       "3  2007-05-01   17.0\n",
       "4  2007-06-01   17.5"
      ]
     },
     "execution_count": 79,
     "metadata": {},
     "output_type": "execute_result"
    }
   ],
   "source": [
    "appl.head()"
   ]
  },
  {
   "cell_type": "code",
   "execution_count": 80,
   "metadata": {},
   "outputs": [
    {
     "data": {
      "text/html": [
       "<div>\n",
       "<style scoped>\n",
       "    .dataframe tbody tr th:only-of-type {\n",
       "        vertical-align: middle;\n",
       "    }\n",
       "\n",
       "    .dataframe tbody tr th {\n",
       "        vertical-align: top;\n",
       "    }\n",
       "\n",
       "    .dataframe thead th {\n",
       "        text-align: right;\n",
       "    }\n",
       "</style>\n",
       "<table border=\"1\" class=\"dataframe\">\n",
       "  <thead>\n",
       "    <tr style=\"text-align: right;\">\n",
       "      <th></th>\n",
       "      <th>date</th>\n",
       "      <th>close</th>\n",
       "    </tr>\n",
       "  </thead>\n",
       "  <tbody>\n",
       "    <tr>\n",
       "      <th>0</th>\n",
       "      <td>2007-01-01</td>\n",
       "      <td>44</td>\n",
       "    </tr>\n",
       "    <tr>\n",
       "      <th>1</th>\n",
       "      <td>2007-02-01</td>\n",
       "      <td>43</td>\n",
       "    </tr>\n",
       "    <tr>\n",
       "      <th>2</th>\n",
       "      <td>2007-03-01</td>\n",
       "      <td>45</td>\n",
       "    </tr>\n",
       "    <tr>\n",
       "      <th>3</th>\n",
       "      <td>2007-04-01</td>\n",
       "      <td>48</td>\n",
       "    </tr>\n",
       "    <tr>\n",
       "      <th>4</th>\n",
       "      <td>2007-05-01</td>\n",
       "      <td>50</td>\n",
       "    </tr>\n",
       "  </tbody>\n",
       "</table>\n",
       "</div>"
      ],
      "text/plain": [
       "         date  close\n",
       "0  2007-01-01     44\n",
       "1  2007-02-01     43\n",
       "2  2007-03-01     45\n",
       "3  2007-04-01     48\n",
       "4  2007-05-01     50"
      ]
     },
     "execution_count": 80,
     "metadata": {},
     "output_type": "execute_result"
    }
   ],
   "source": [
    "mcd.head()"
   ]
  },
  {
   "cell_type": "markdown",
   "metadata": {},
   "source": [
    "**comment: this results in table sorted by \"date\". also, note the option `fill_method='ffill'`, fills the missing data with information before it (i.e price of mcd on 2007-05-01 will be inputted as the value for mcd on 2007-06-01)**"
   ]
  },
  {
   "cell_type": "code",
   "execution_count": 81,
   "metadata": {},
   "outputs": [
    {
     "data": {
      "text/html": [
       "<div>\n",
       "<style scoped>\n",
       "    .dataframe tbody tr th:only-of-type {\n",
       "        vertical-align: middle;\n",
       "    }\n",
       "\n",
       "    .dataframe tbody tr th {\n",
       "        vertical-align: top;\n",
       "    }\n",
       "\n",
       "    .dataframe thead th {\n",
       "        text-align: right;\n",
       "    }\n",
       "</style>\n",
       "<table border=\"1\" class=\"dataframe\">\n",
       "  <thead>\n",
       "    <tr style=\"text-align: right;\">\n",
       "      <th></th>\n",
       "      <th>date</th>\n",
       "      <th>close_appl</th>\n",
       "      <th>close_mcd</th>\n",
       "    </tr>\n",
       "  </thead>\n",
       "  <tbody>\n",
       "    <tr>\n",
       "      <th>0</th>\n",
       "      <td>2007-01-01</td>\n",
       "      <td>NaN</td>\n",
       "      <td>44.0</td>\n",
       "    </tr>\n",
       "    <tr>\n",
       "      <th>1</th>\n",
       "      <td>2007-02-01</td>\n",
       "      <td>12.0</td>\n",
       "      <td>43.0</td>\n",
       "    </tr>\n",
       "    <tr>\n",
       "      <th>2</th>\n",
       "      <td>2007-03-01</td>\n",
       "      <td>13.0</td>\n",
       "      <td>45.0</td>\n",
       "    </tr>\n",
       "    <tr>\n",
       "      <th>3</th>\n",
       "      <td>2007-04-01</td>\n",
       "      <td>14.0</td>\n",
       "      <td>48.0</td>\n",
       "    </tr>\n",
       "    <tr>\n",
       "      <th>4</th>\n",
       "      <td>2007-05-01</td>\n",
       "      <td>17.0</td>\n",
       "      <td>50.0</td>\n",
       "    </tr>\n",
       "    <tr>\n",
       "      <th>5</th>\n",
       "      <td>2007-06-01</td>\n",
       "      <td>17.5</td>\n",
       "      <td>NaN</td>\n",
       "    </tr>\n",
       "  </tbody>\n",
       "</table>\n",
       "</div>"
      ],
      "text/plain": [
       "         date  close_appl  close_mcd\n",
       "0  2007-01-01         NaN       44.0\n",
       "1  2007-02-01        12.0       43.0\n",
       "2  2007-03-01        13.0       45.0\n",
       "3  2007-04-01        14.0       48.0\n",
       "4  2007-05-01        17.0       50.0\n",
       "5  2007-06-01        17.5        NaN"
      ]
     },
     "execution_count": 81,
     "metadata": {},
     "output_type": "execute_result"
    }
   ],
   "source": [
    "# this results in a table sorted by date\n",
    "pd.merge_ordered(appl, mcd, on='date', suffixes=('_appl', '_mcd'))\n"
   ]
  },
  {
   "cell_type": "code",
   "execution_count": 82,
   "metadata": {},
   "outputs": [
    {
     "data": {
      "text/html": [
       "<div>\n",
       "<style scoped>\n",
       "    .dataframe tbody tr th:only-of-type {\n",
       "        vertical-align: middle;\n",
       "    }\n",
       "\n",
       "    .dataframe tbody tr th {\n",
       "        vertical-align: top;\n",
       "    }\n",
       "\n",
       "    .dataframe thead th {\n",
       "        text-align: right;\n",
       "    }\n",
       "</style>\n",
       "<table border=\"1\" class=\"dataframe\">\n",
       "  <thead>\n",
       "    <tr style=\"text-align: right;\">\n",
       "      <th></th>\n",
       "      <th>date</th>\n",
       "      <th>close_appl</th>\n",
       "      <th>close_mcd</th>\n",
       "    </tr>\n",
       "  </thead>\n",
       "  <tbody>\n",
       "    <tr>\n",
       "      <th>0</th>\n",
       "      <td>2007-01-01</td>\n",
       "      <td>NaN</td>\n",
       "      <td>44</td>\n",
       "    </tr>\n",
       "    <tr>\n",
       "      <th>1</th>\n",
       "      <td>2007-02-01</td>\n",
       "      <td>12.0</td>\n",
       "      <td>43</td>\n",
       "    </tr>\n",
       "    <tr>\n",
       "      <th>2</th>\n",
       "      <td>2007-03-01</td>\n",
       "      <td>13.0</td>\n",
       "      <td>45</td>\n",
       "    </tr>\n",
       "    <tr>\n",
       "      <th>3</th>\n",
       "      <td>2007-04-01</td>\n",
       "      <td>14.0</td>\n",
       "      <td>48</td>\n",
       "    </tr>\n",
       "    <tr>\n",
       "      <th>4</th>\n",
       "      <td>2007-05-01</td>\n",
       "      <td>17.0</td>\n",
       "      <td>50</td>\n",
       "    </tr>\n",
       "    <tr>\n",
       "      <th>5</th>\n",
       "      <td>2007-06-01</td>\n",
       "      <td>17.5</td>\n",
       "      <td>50</td>\n",
       "    </tr>\n",
       "  </tbody>\n",
       "</table>\n",
       "</div>"
      ],
      "text/plain": [
       "         date  close_appl  close_mcd\n",
       "0  2007-01-01         NaN         44\n",
       "1  2007-02-01        12.0         43\n",
       "2  2007-03-01        13.0         45\n",
       "3  2007-04-01        14.0         48\n",
       "4  2007-05-01        17.0         50\n",
       "5  2007-06-01        17.5         50"
      ]
     },
     "execution_count": 82,
     "metadata": {},
     "output_type": "execute_result"
    }
   ],
   "source": [
    "# filling missing values with previous entries \n",
    "pd.merge_ordered(appl, mcd, on='date', suffixes=('_appl', '_mcd'), fill_method='ffill')\n",
    "\n",
    "# observe that the price of appl on 2007-01-01 is still missing;\n",
    "# that is because there are no values above it"
   ]
  },
  {
   "cell_type": "markdown",
   "metadata": {},
   "source": []
  },
  {
   "cell_type": "markdown",
   "metadata": {},
   "source": [
    "**using `merge_asof()`** is similar to an ordered left join (`merge_ordered(how='left')`). However, unlike an ordered left join, **`merge_asof()` will match on the nearest value columns rather than equal values**.\n",
    "\n",
    "- **NOTE:** merged \"on\" columns must be sorted\n",
    "- the \"nearest value\" is the largest value (from the right table) less than or equal to the value (on the left table) from the reference column.\n",
    "\n",
    "![merging using merge_asof](./image/masof.png)\n",
    "\n",
    "**when to use `merge_asof()`?**\n",
    "- data sampled from a process\n",
    "- developing a training set (no data leakage)"
   ]
  },
  {
   "cell_type": "code",
   "execution_count": 2,
   "metadata": {},
   "outputs": [],
   "source": [
    "import pandas as pd"
   ]
  },
  {
   "cell_type": "code",
   "execution_count": 10,
   "metadata": {},
   "outputs": [],
   "source": [
    "visa_dict = {\n",
    "    'date_time': [\n",
    "        '2017-11-17 16:00:00',\n",
    "        '2017-11-17 17:00:00',\n",
    "        '2017-11-17 18:00:00',\n",
    "        '2017-11-17 19:00:00',\n",
    "        '2017-11-17 20:00:00',\n",
    "        '2017-11-17 21:00:00',\n",
    "        '2017-11-17 22:00:00'\n",
    "    ],\n",
    "    'close': [\n",
    "        110.32,\n",
    "        110.24,\n",
    "        110.065,\n",
    "        110.04,\n",
    "        110.0,\n",
    "        109.9966,\n",
    "        109.82\n",
    "    ]\n",
    "}\n",
    "\n",
    "visa = pd.DataFrame(visa_dict)\n",
    "\n"
   ]
  },
  {
   "cell_type": "code",
   "execution_count": 11,
   "metadata": {},
   "outputs": [],
   "source": [
    "ibm_dict = {\n",
    "    'date_time': [\n",
    "        '2017-11-17 15:35:12',\n",
    "        '2017-11-17 15:40:04',\n",
    "        '2017-11-17 15:45:50',\n",
    "        '2017-11-17 15:50:20',\n",
    "        '2017-11-17 15:55:10',\n",
    "        '2017-11-17 16:00:03',\n",
    "        '2017-11-17 16:05:06',\n",
    "        '2017-11-17 16:10:12',\n",
    "        '2017-11-17 16:15:30',\n",
    "        '2017-11-17 16:20:32',\n",
    "        '2017-11-17 16:25:47'\n",
    "    ],\n",
    "    'close': [\n",
    "        149.3,\n",
    "        149.13,\n",
    "        148.98,\n",
    "        148.99,\n",
    "        149.11,\n",
    "        149.25,\n",
    "        149.5175,\n",
    "        149.57,\n",
    "        149.59,\n",
    "        149.82,\n",
    "        149.96\n",
    "    ]\n",
    "}\n",
    "\n",
    "ibm = pd.DataFrame(ibm_dict)\n"
   ]
  },
  {
   "cell_type": "code",
   "execution_count": 18,
   "metadata": {},
   "outputs": [
    {
     "data": {
      "text/html": [
       "<div>\n",
       "<style scoped>\n",
       "    .dataframe tbody tr th:only-of-type {\n",
       "        vertical-align: middle;\n",
       "    }\n",
       "\n",
       "    .dataframe tbody tr th {\n",
       "        vertical-align: top;\n",
       "    }\n",
       "\n",
       "    .dataframe thead th {\n",
       "        text-align: right;\n",
       "    }\n",
       "</style>\n",
       "<table border=\"1\" class=\"dataframe\">\n",
       "  <thead>\n",
       "    <tr style=\"text-align: right;\">\n",
       "      <th></th>\n",
       "      <th>date_time</th>\n",
       "      <th>close</th>\n",
       "    </tr>\n",
       "  </thead>\n",
       "  <tbody>\n",
       "    <tr>\n",
       "      <th>0</th>\n",
       "      <td>2017-11-17 16:00:00</td>\n",
       "      <td>110.3200</td>\n",
       "    </tr>\n",
       "    <tr>\n",
       "      <th>1</th>\n",
       "      <td>2017-11-17 17:00:00</td>\n",
       "      <td>110.2400</td>\n",
       "    </tr>\n",
       "    <tr>\n",
       "      <th>2</th>\n",
       "      <td>2017-11-17 18:00:00</td>\n",
       "      <td>110.0650</td>\n",
       "    </tr>\n",
       "    <tr>\n",
       "      <th>3</th>\n",
       "      <td>2017-11-17 19:00:00</td>\n",
       "      <td>110.0400</td>\n",
       "    </tr>\n",
       "    <tr>\n",
       "      <th>4</th>\n",
       "      <td>2017-11-17 20:00:00</td>\n",
       "      <td>110.0000</td>\n",
       "    </tr>\n",
       "    <tr>\n",
       "      <th>5</th>\n",
       "      <td>2017-11-17 21:00:00</td>\n",
       "      <td>109.9966</td>\n",
       "    </tr>\n",
       "    <tr>\n",
       "      <th>6</th>\n",
       "      <td>2017-11-17 22:00:00</td>\n",
       "      <td>109.8200</td>\n",
       "    </tr>\n",
       "  </tbody>\n",
       "</table>\n",
       "</div>"
      ],
      "text/plain": [
       "            date_time     close\n",
       "0 2017-11-17 16:00:00  110.3200\n",
       "1 2017-11-17 17:00:00  110.2400\n",
       "2 2017-11-17 18:00:00  110.0650\n",
       "3 2017-11-17 19:00:00  110.0400\n",
       "4 2017-11-17 20:00:00  110.0000\n",
       "5 2017-11-17 21:00:00  109.9966\n",
       "6 2017-11-17 22:00:00  109.8200"
      ]
     },
     "execution_count": 18,
     "metadata": {},
     "output_type": "execute_result"
    }
   ],
   "source": [
    "visa"
   ]
  },
  {
   "cell_type": "code",
   "execution_count": 19,
   "metadata": {},
   "outputs": [
    {
     "data": {
      "text/html": [
       "<div>\n",
       "<style scoped>\n",
       "    .dataframe tbody tr th:only-of-type {\n",
       "        vertical-align: middle;\n",
       "    }\n",
       "\n",
       "    .dataframe tbody tr th {\n",
       "        vertical-align: top;\n",
       "    }\n",
       "\n",
       "    .dataframe thead th {\n",
       "        text-align: right;\n",
       "    }\n",
       "</style>\n",
       "<table border=\"1\" class=\"dataframe\">\n",
       "  <thead>\n",
       "    <tr style=\"text-align: right;\">\n",
       "      <th></th>\n",
       "      <th>date_time</th>\n",
       "      <th>close</th>\n",
       "    </tr>\n",
       "  </thead>\n",
       "  <tbody>\n",
       "    <tr>\n",
       "      <th>0</th>\n",
       "      <td>2017-11-17 15:35:12</td>\n",
       "      <td>149.3000</td>\n",
       "    </tr>\n",
       "    <tr>\n",
       "      <th>1</th>\n",
       "      <td>2017-11-17 15:40:04</td>\n",
       "      <td>149.1300</td>\n",
       "    </tr>\n",
       "    <tr>\n",
       "      <th>2</th>\n",
       "      <td>2017-11-17 15:45:50</td>\n",
       "      <td>148.9800</td>\n",
       "    </tr>\n",
       "    <tr>\n",
       "      <th>3</th>\n",
       "      <td>2017-11-17 15:50:20</td>\n",
       "      <td>148.9900</td>\n",
       "    </tr>\n",
       "    <tr>\n",
       "      <th>4</th>\n",
       "      <td>2017-11-17 15:55:10</td>\n",
       "      <td>149.1100</td>\n",
       "    </tr>\n",
       "    <tr>\n",
       "      <th>5</th>\n",
       "      <td>2017-11-17 16:00:03</td>\n",
       "      <td>149.2500</td>\n",
       "    </tr>\n",
       "    <tr>\n",
       "      <th>6</th>\n",
       "      <td>2017-11-17 16:05:06</td>\n",
       "      <td>149.5175</td>\n",
       "    </tr>\n",
       "    <tr>\n",
       "      <th>7</th>\n",
       "      <td>2017-11-17 16:10:12</td>\n",
       "      <td>149.5700</td>\n",
       "    </tr>\n",
       "    <tr>\n",
       "      <th>8</th>\n",
       "      <td>2017-11-17 16:15:30</td>\n",
       "      <td>149.5900</td>\n",
       "    </tr>\n",
       "    <tr>\n",
       "      <th>9</th>\n",
       "      <td>2017-11-17 16:20:32</td>\n",
       "      <td>149.8200</td>\n",
       "    </tr>\n",
       "    <tr>\n",
       "      <th>10</th>\n",
       "      <td>2017-11-17 16:25:47</td>\n",
       "      <td>149.9600</td>\n",
       "    </tr>\n",
       "  </tbody>\n",
       "</table>\n",
       "</div>"
      ],
      "text/plain": [
       "             date_time     close\n",
       "0  2017-11-17 15:35:12  149.3000\n",
       "1  2017-11-17 15:40:04  149.1300\n",
       "2  2017-11-17 15:45:50  148.9800\n",
       "3  2017-11-17 15:50:20  148.9900\n",
       "4  2017-11-17 15:55:10  149.1100\n",
       "5  2017-11-17 16:00:03  149.2500\n",
       "6  2017-11-17 16:05:06  149.5175\n",
       "7  2017-11-17 16:10:12  149.5700\n",
       "8  2017-11-17 16:15:30  149.5900\n",
       "9  2017-11-17 16:20:32  149.8200\n",
       "10 2017-11-17 16:25:47  149.9600"
      ]
     },
     "execution_count": 19,
     "metadata": {},
     "output_type": "execute_result"
    }
   ],
   "source": [
    "ibm"
   ]
  },
  {
   "cell_type": "markdown",
   "metadata": {},
   "source": [
    "**comment: our output is similar to a left join, so we see all of the rows from the `visa` talble. however, the values from the `ibm` table are based on how close the `date_time` values match with the `visa` table.  Notice the first row and the IBM price of 149.11. Let's show the IBM table again and see why this value was chosen in the merger. It comes from the row indexed as 4. This row has the closest date_time that is less than the date_time in the Visa table.**"
   ]
  },
  {
   "cell_type": "code",
   "execution_count": 17,
   "metadata": {},
   "outputs": [
    {
     "data": {
      "text/html": [
       "<div>\n",
       "<style scoped>\n",
       "    .dataframe tbody tr th:only-of-type {\n",
       "        vertical-align: middle;\n",
       "    }\n",
       "\n",
       "    .dataframe tbody tr th {\n",
       "        vertical-align: top;\n",
       "    }\n",
       "\n",
       "    .dataframe thead th {\n",
       "        text-align: right;\n",
       "    }\n",
       "</style>\n",
       "<table border=\"1\" class=\"dataframe\">\n",
       "  <thead>\n",
       "    <tr style=\"text-align: right;\">\n",
       "      <th></th>\n",
       "      <th>date_time</th>\n",
       "      <th>close_visa</th>\n",
       "      <th>close_ibm</th>\n",
       "    </tr>\n",
       "  </thead>\n",
       "  <tbody>\n",
       "    <tr>\n",
       "      <th>0</th>\n",
       "      <td>2017-11-17 16:00:00</td>\n",
       "      <td>110.3200</td>\n",
       "      <td>149.11</td>\n",
       "    </tr>\n",
       "    <tr>\n",
       "      <th>1</th>\n",
       "      <td>2017-11-17 17:00:00</td>\n",
       "      <td>110.2400</td>\n",
       "      <td>149.96</td>\n",
       "    </tr>\n",
       "    <tr>\n",
       "      <th>2</th>\n",
       "      <td>2017-11-17 18:00:00</td>\n",
       "      <td>110.0650</td>\n",
       "      <td>149.96</td>\n",
       "    </tr>\n",
       "    <tr>\n",
       "      <th>3</th>\n",
       "      <td>2017-11-17 19:00:00</td>\n",
       "      <td>110.0400</td>\n",
       "      <td>149.96</td>\n",
       "    </tr>\n",
       "    <tr>\n",
       "      <th>4</th>\n",
       "      <td>2017-11-17 20:00:00</td>\n",
       "      <td>110.0000</td>\n",
       "      <td>149.96</td>\n",
       "    </tr>\n",
       "    <tr>\n",
       "      <th>5</th>\n",
       "      <td>2017-11-17 21:00:00</td>\n",
       "      <td>109.9966</td>\n",
       "      <td>149.96</td>\n",
       "    </tr>\n",
       "    <tr>\n",
       "      <th>6</th>\n",
       "      <td>2017-11-17 22:00:00</td>\n",
       "      <td>109.8200</td>\n",
       "      <td>149.96</td>\n",
       "    </tr>\n",
       "  </tbody>\n",
       "</table>\n",
       "</div>"
      ],
      "text/plain": [
       "            date_time  close_visa  close_ibm\n",
       "0 2017-11-17 16:00:00    110.3200     149.11\n",
       "1 2017-11-17 17:00:00    110.2400     149.96\n",
       "2 2017-11-17 18:00:00    110.0650     149.96\n",
       "3 2017-11-17 19:00:00    110.0400     149.96\n",
       "4 2017-11-17 20:00:00    110.0000     149.96\n",
       "5 2017-11-17 21:00:00    109.9966     149.96\n",
       "6 2017-11-17 22:00:00    109.8200     149.96"
      ]
     },
     "execution_count": 17,
     "metadata": {},
     "output_type": "execute_result"
    }
   ],
   "source": [
    "visa['date_time'] = pd.to_datetime(visa['date_time'])\n",
    "ibm['date_time'] = pd.to_datetime(ibm['date_time'])\n",
    "\n",
    "pd.merge_asof(visa, ibm, on='date_time', suffixes=('_visa', '_ibm'))\n"
   ]
  },
  {
   "cell_type": "code",
   "execution_count": 20,
   "metadata": {},
   "outputs": [
    {
     "data": {
      "text/html": [
       "<div>\n",
       "<style scoped>\n",
       "    .dataframe tbody tr th:only-of-type {\n",
       "        vertical-align: middle;\n",
       "    }\n",
       "\n",
       "    .dataframe tbody tr th {\n",
       "        vertical-align: top;\n",
       "    }\n",
       "\n",
       "    .dataframe thead th {\n",
       "        text-align: right;\n",
       "    }\n",
       "</style>\n",
       "<table border=\"1\" class=\"dataframe\">\n",
       "  <thead>\n",
       "    <tr style=\"text-align: right;\">\n",
       "      <th></th>\n",
       "      <th>date_time</th>\n",
       "      <th>close_visa</th>\n",
       "      <th>close_ibm</th>\n",
       "    </tr>\n",
       "  </thead>\n",
       "  <tbody>\n",
       "    <tr>\n",
       "      <th>0</th>\n",
       "      <td>2017-11-17 16:00:00</td>\n",
       "      <td>110.3200</td>\n",
       "      <td>149.25</td>\n",
       "    </tr>\n",
       "    <tr>\n",
       "      <th>1</th>\n",
       "      <td>2017-11-17 17:00:00</td>\n",
       "      <td>110.2400</td>\n",
       "      <td>NaN</td>\n",
       "    </tr>\n",
       "    <tr>\n",
       "      <th>2</th>\n",
       "      <td>2017-11-17 18:00:00</td>\n",
       "      <td>110.0650</td>\n",
       "      <td>NaN</td>\n",
       "    </tr>\n",
       "    <tr>\n",
       "      <th>3</th>\n",
       "      <td>2017-11-17 19:00:00</td>\n",
       "      <td>110.0400</td>\n",
       "      <td>NaN</td>\n",
       "    </tr>\n",
       "    <tr>\n",
       "      <th>4</th>\n",
       "      <td>2017-11-17 20:00:00</td>\n",
       "      <td>110.0000</td>\n",
       "      <td>NaN</td>\n",
       "    </tr>\n",
       "    <tr>\n",
       "      <th>5</th>\n",
       "      <td>2017-11-17 21:00:00</td>\n",
       "      <td>109.9966</td>\n",
       "      <td>NaN</td>\n",
       "    </tr>\n",
       "    <tr>\n",
       "      <th>6</th>\n",
       "      <td>2017-11-17 22:00:00</td>\n",
       "      <td>109.8200</td>\n",
       "      <td>NaN</td>\n",
       "    </tr>\n",
       "  </tbody>\n",
       "</table>\n",
       "</div>"
      ],
      "text/plain": [
       "            date_time  close_visa  close_ibm\n",
       "0 2017-11-17 16:00:00    110.3200     149.25\n",
       "1 2017-11-17 17:00:00    110.2400        NaN\n",
       "2 2017-11-17 18:00:00    110.0650        NaN\n",
       "3 2017-11-17 19:00:00    110.0400        NaN\n",
       "4 2017-11-17 20:00:00    110.0000        NaN\n",
       "5 2017-11-17 21:00:00    109.9966        NaN\n",
       "6 2017-11-17 22:00:00    109.8200        NaN"
      ]
     },
     "execution_count": 20,
     "metadata": {},
     "output_type": "execute_result"
    }
   ],
   "source": [
    "pd.merge_asof(visa, ibm, on='date_time', suffixes=('_visa', '_ibm'), direction='forward')"
   ]
  },
  {
   "cell_type": "markdown",
   "metadata": {},
   "source": [
    "**similarities and difference between `merge_asof()` and `merge_ordered()` functions**\n",
    "\n",
    "| `pd.merge_asof()` | both | `pd.merge_ordered()` |\n",
    "|-------------------|------|----------------------|\n",
    "| has an argument that can be set to 'forward' to select the first row in the right tables whose key column is greater than or equal to the left's. | this function can set the suffix for overlapping column names. | it allows for a right join during the merge. |\n",
    "| it can be used to do fuzzy (not clear) matching of dates between tables. | this function can be used when working with ordered or time-series data. | if it cannot match the rows of the tables exactly, it can use forward fill to interpolate the missing data. |\n",
    "| after matching two tables, if there are missing values at the top of the table from | | |\n",
    "\n",
    "\n"
   ]
  },
  {
   "cell_type": "code",
   "execution_count": null,
   "metadata": {},
   "outputs": [],
   "source": []
  },
  {
   "cell_type": "markdown",
   "metadata": {},
   "source": [
    "**selecting data with `.query()`**\n",
    "\n",
    "`.query('SOME SELECT STATEMENT')`\n",
    "\n",
    "accepts an input string:\n",
    "- input string used to determine what rows are returned\n",
    "- input string similar to statement after WHERE clause in SQL statement\n",
    "\n"
   ]
  },
  {
   "cell_type": "code",
   "execution_count": 21,
   "metadata": {},
   "outputs": [
    {
     "data": {
      "text/html": [
       "<div>\n",
       "<style scoped>\n",
       "    .dataframe tbody tr th:only-of-type {\n",
       "        vertical-align: middle;\n",
       "    }\n",
       "\n",
       "    .dataframe tbody tr th {\n",
       "        vertical-align: top;\n",
       "    }\n",
       "\n",
       "    .dataframe thead th {\n",
       "        text-align: right;\n",
       "    }\n",
       "</style>\n",
       "<table border=\"1\" class=\"dataframe\">\n",
       "  <thead>\n",
       "    <tr style=\"text-align: right;\">\n",
       "      <th></th>\n",
       "      <th>date</th>\n",
       "      <th>disney</th>\n",
       "      <th>nike</th>\n",
       "    </tr>\n",
       "  </thead>\n",
       "  <tbody>\n",
       "    <tr>\n",
       "      <th>0</th>\n",
       "      <td>2019-07-01</td>\n",
       "      <td>143.009995</td>\n",
       "      <td>86.029999</td>\n",
       "    </tr>\n",
       "    <tr>\n",
       "      <th>1</th>\n",
       "      <td>2019-08-01</td>\n",
       "      <td>137.259995</td>\n",
       "      <td>84.500000</td>\n",
       "    </tr>\n",
       "    <tr>\n",
       "      <th>2</th>\n",
       "      <td>2019-09-01</td>\n",
       "      <td>130.320007</td>\n",
       "      <td>93.919998</td>\n",
       "    </tr>\n",
       "    <tr>\n",
       "      <th>3</th>\n",
       "      <td>2019-10-01</td>\n",
       "      <td>129.919998</td>\n",
       "      <td>89.550003</td>\n",
       "    </tr>\n",
       "    <tr>\n",
       "      <th>4</th>\n",
       "      <td>2019-11-01</td>\n",
       "      <td>151.580002</td>\n",
       "      <td>93.489998</td>\n",
       "    </tr>\n",
       "    <tr>\n",
       "      <th>5</th>\n",
       "      <td>2019-12-01</td>\n",
       "      <td>144.630005</td>\n",
       "      <td>101.309998</td>\n",
       "    </tr>\n",
       "    <tr>\n",
       "      <th>6</th>\n",
       "      <td>2020-01-01</td>\n",
       "      <td>138.309998</td>\n",
       "      <td>96.300003</td>\n",
       "    </tr>\n",
       "    <tr>\n",
       "      <th>7</th>\n",
       "      <td>2020-02-01</td>\n",
       "      <td>117.650002</td>\n",
       "      <td>89.379997</td>\n",
       "    </tr>\n",
       "    <tr>\n",
       "      <th>8</th>\n",
       "      <td>2020-03-01</td>\n",
       "      <td>96.599998</td>\n",
       "      <td>82.739998</td>\n",
       "    </tr>\n",
       "    <tr>\n",
       "      <th>9</th>\n",
       "      <td>2020-04-01</td>\n",
       "      <td>99.580002</td>\n",
       "      <td>84.629997</td>\n",
       "    </tr>\n",
       "  </tbody>\n",
       "</table>\n",
       "</div>"
      ],
      "text/plain": [
       "         date      disney        nike\n",
       "0  2019-07-01  143.009995   86.029999\n",
       "1  2019-08-01  137.259995   84.500000\n",
       "2  2019-09-01  130.320007   93.919998\n",
       "3  2019-10-01  129.919998   89.550003\n",
       "4  2019-11-01  151.580002   93.489998\n",
       "5  2019-12-01  144.630005  101.309998\n",
       "6  2020-01-01  138.309998   96.300003\n",
       "7  2020-02-01  117.650002   89.379997\n",
       "8  2020-03-01   96.599998   82.739998\n",
       "9  2020-04-01   99.580002   84.629997"
      ]
     },
     "execution_count": 21,
     "metadata": {},
     "output_type": "execute_result"
    }
   ],
   "source": [
    "stocks_dict = {\n",
    "    'date': [\n",
    "        '2019-07-01', '2019-08-01', '2019-09-01', '2019-10-01', '2019-11-01',\n",
    "        '2019-12-01', '2020-01-01', '2020-02-01', '2020-03-01', '2020-04-01'\n",
    "    ],\n",
    "    'disney': [\n",
    "        143.009995, 137.259995, 130.320007, 129.919998, 151.580002,\n",
    "        144.630005, 138.309998, 117.650002, 96.599998, 99.580002\n",
    "    ],\n",
    "    'nike': [\n",
    "        86.029999, 84.5, 93.919998, 89.550003, 93.489998,\n",
    "        101.309998, 96.300003, 89.379997, 82.739998, 84.629997\n",
    "    ]\n",
    "}\n",
    "\n",
    "stocks = pd.DataFrame(stocks_dict)\n",
    "stocks\n"
   ]
  },
  {
   "cell_type": "code",
   "execution_count": 22,
   "metadata": {},
   "outputs": [
    {
     "data": {
      "text/html": [
       "<div>\n",
       "<style scoped>\n",
       "    .dataframe tbody tr th:only-of-type {\n",
       "        vertical-align: middle;\n",
       "    }\n",
       "\n",
       "    .dataframe tbody tr th {\n",
       "        vertical-align: top;\n",
       "    }\n",
       "\n",
       "    .dataframe thead th {\n",
       "        text-align: right;\n",
       "    }\n",
       "</style>\n",
       "<table border=\"1\" class=\"dataframe\">\n",
       "  <thead>\n",
       "    <tr style=\"text-align: right;\">\n",
       "      <th></th>\n",
       "      <th>date</th>\n",
       "      <th>disney</th>\n",
       "      <th>nike</th>\n",
       "    </tr>\n",
       "  </thead>\n",
       "  <tbody>\n",
       "    <tr>\n",
       "      <th>2</th>\n",
       "      <td>2019-09-01</td>\n",
       "      <td>130.320007</td>\n",
       "      <td>93.919998</td>\n",
       "    </tr>\n",
       "    <tr>\n",
       "      <th>4</th>\n",
       "      <td>2019-11-01</td>\n",
       "      <td>151.580002</td>\n",
       "      <td>93.489998</td>\n",
       "    </tr>\n",
       "    <tr>\n",
       "      <th>5</th>\n",
       "      <td>2019-12-01</td>\n",
       "      <td>144.630005</td>\n",
       "      <td>101.309998</td>\n",
       "    </tr>\n",
       "    <tr>\n",
       "      <th>6</th>\n",
       "      <td>2020-01-01</td>\n",
       "      <td>138.309998</td>\n",
       "      <td>96.300003</td>\n",
       "    </tr>\n",
       "  </tbody>\n",
       "</table>\n",
       "</div>"
      ],
      "text/plain": [
       "         date      disney        nike\n",
       "2  2019-09-01  130.320007   93.919998\n",
       "4  2019-11-01  151.580002   93.489998\n",
       "5  2019-12-01  144.630005  101.309998\n",
       "6  2020-01-01  138.309998   96.300003"
      ]
     },
     "execution_count": 22,
     "metadata": {},
     "output_type": "execute_result"
    }
   ],
   "source": [
    "stocks.query('nike >= 90')"
   ]
  },
  {
   "cell_type": "code",
   "execution_count": 23,
   "metadata": {},
   "outputs": [
    {
     "data": {
      "text/html": [
       "<div>\n",
       "<style scoped>\n",
       "    .dataframe tbody tr th:only-of-type {\n",
       "        vertical-align: middle;\n",
       "    }\n",
       "\n",
       "    .dataframe tbody tr th {\n",
       "        vertical-align: top;\n",
       "    }\n",
       "\n",
       "    .dataframe thead th {\n",
       "        text-align: right;\n",
       "    }\n",
       "</style>\n",
       "<table border=\"1\" class=\"dataframe\">\n",
       "  <thead>\n",
       "    <tr style=\"text-align: right;\">\n",
       "      <th></th>\n",
       "      <th>date</th>\n",
       "      <th>disney</th>\n",
       "      <th>nike</th>\n",
       "    </tr>\n",
       "  </thead>\n",
       "  <tbody>\n",
       "    <tr>\n",
       "      <th>2</th>\n",
       "      <td>2019-09-01</td>\n",
       "      <td>130.320007</td>\n",
       "      <td>93.919998</td>\n",
       "    </tr>\n",
       "    <tr>\n",
       "      <th>6</th>\n",
       "      <td>2020-01-01</td>\n",
       "      <td>138.309998</td>\n",
       "      <td>96.300003</td>\n",
       "    </tr>\n",
       "  </tbody>\n",
       "</table>\n",
       "</div>"
      ],
      "text/plain": [
       "         date      disney       nike\n",
       "2  2019-09-01  130.320007  93.919998\n",
       "6  2020-01-01  138.309998  96.300003"
      ]
     },
     "execution_count": 23,
     "metadata": {},
     "output_type": "execute_result"
    }
   ],
   "source": [
    "stocks.query('nike > 90 and disney < 140')"
   ]
  },
  {
   "cell_type": "code",
   "execution_count": 24,
   "metadata": {},
   "outputs": [
    {
     "data": {
      "text/html": [
       "<div>\n",
       "<style scoped>\n",
       "    .dataframe tbody tr th:only-of-type {\n",
       "        vertical-align: middle;\n",
       "    }\n",
       "\n",
       "    .dataframe tbody tr th {\n",
       "        vertical-align: top;\n",
       "    }\n",
       "\n",
       "    .dataframe thead th {\n",
       "        text-align: right;\n",
       "    }\n",
       "</style>\n",
       "<table border=\"1\" class=\"dataframe\">\n",
       "  <thead>\n",
       "    <tr style=\"text-align: right;\">\n",
       "      <th></th>\n",
       "      <th>date</th>\n",
       "      <th>disney</th>\n",
       "      <th>nike</th>\n",
       "    </tr>\n",
       "  </thead>\n",
       "  <tbody>\n",
       "    <tr>\n",
       "      <th>5</th>\n",
       "      <td>2019-12-01</td>\n",
       "      <td>144.630005</td>\n",
       "      <td>101.309998</td>\n",
       "    </tr>\n",
       "    <tr>\n",
       "      <th>6</th>\n",
       "      <td>2020-01-01</td>\n",
       "      <td>138.309998</td>\n",
       "      <td>96.300003</td>\n",
       "    </tr>\n",
       "    <tr>\n",
       "      <th>8</th>\n",
       "      <td>2020-03-01</td>\n",
       "      <td>96.599998</td>\n",
       "      <td>82.739998</td>\n",
       "    </tr>\n",
       "  </tbody>\n",
       "</table>\n",
       "</div>"
      ],
      "text/plain": [
       "         date      disney        nike\n",
       "5  2019-12-01  144.630005  101.309998\n",
       "6  2020-01-01  138.309998   96.300003\n",
       "8  2020-03-01   96.599998   82.739998"
      ]
     },
     "execution_count": 24,
     "metadata": {},
     "output_type": "execute_result"
    }
   ],
   "source": [
    "stocks.query('nike > 96 or disney < 98')"
   ]
  },
  {
   "cell_type": "code",
   "execution_count": 25,
   "metadata": {},
   "outputs": [
    {
     "data": {
      "text/html": [
       "<div>\n",
       "<style scoped>\n",
       "    .dataframe tbody tr th:only-of-type {\n",
       "        vertical-align: middle;\n",
       "    }\n",
       "\n",
       "    .dataframe tbody tr th {\n",
       "        vertical-align: top;\n",
       "    }\n",
       "\n",
       "    .dataframe thead th {\n",
       "        text-align: right;\n",
       "    }\n",
       "</style>\n",
       "<table border=\"1\" class=\"dataframe\">\n",
       "  <thead>\n",
       "    <tr style=\"text-align: right;\">\n",
       "      <th></th>\n",
       "      <th>date</th>\n",
       "      <th>stock</th>\n",
       "      <th>close</th>\n",
       "    </tr>\n",
       "  </thead>\n",
       "  <tbody>\n",
       "    <tr>\n",
       "      <th>0</th>\n",
       "      <td>2019-07-01</td>\n",
       "      <td>disney</td>\n",
       "      <td>143.009995</td>\n",
       "    </tr>\n",
       "    <tr>\n",
       "      <th>1</th>\n",
       "      <td>2019-08-01</td>\n",
       "      <td>disney</td>\n",
       "      <td>137.259995</td>\n",
       "    </tr>\n",
       "    <tr>\n",
       "      <th>2</th>\n",
       "      <td>2019-09-01</td>\n",
       "      <td>disney</td>\n",
       "      <td>130.320007</td>\n",
       "    </tr>\n",
       "    <tr>\n",
       "      <th>3</th>\n",
       "      <td>2019-10-01</td>\n",
       "      <td>disney</td>\n",
       "      <td>129.919998</td>\n",
       "    </tr>\n",
       "    <tr>\n",
       "      <th>4</th>\n",
       "      <td>2019-11-01</td>\n",
       "      <td>disney</td>\n",
       "      <td>151.580002</td>\n",
       "    </tr>\n",
       "    <tr>\n",
       "      <th>5</th>\n",
       "      <td>2019-07-01</td>\n",
       "      <td>nike</td>\n",
       "      <td>86.029999</td>\n",
       "    </tr>\n",
       "    <tr>\n",
       "      <th>6</th>\n",
       "      <td>2019-08-01</td>\n",
       "      <td>nike</td>\n",
       "      <td>84.500000</td>\n",
       "    </tr>\n",
       "    <tr>\n",
       "      <th>7</th>\n",
       "      <td>2019-09-01</td>\n",
       "      <td>nike</td>\n",
       "      <td>93.919998</td>\n",
       "    </tr>\n",
       "    <tr>\n",
       "      <th>8</th>\n",
       "      <td>2019-10-01</td>\n",
       "      <td>nike</td>\n",
       "      <td>89.550003</td>\n",
       "    </tr>\n",
       "    <tr>\n",
       "      <th>9</th>\n",
       "      <td>2019-11-01</td>\n",
       "      <td>nike</td>\n",
       "      <td>93.489998</td>\n",
       "    </tr>\n",
       "  </tbody>\n",
       "</table>\n",
       "</div>"
      ],
      "text/plain": [
       "         date   stock       close\n",
       "0  2019-07-01  disney  143.009995\n",
       "1  2019-08-01  disney  137.259995\n",
       "2  2019-09-01  disney  130.320007\n",
       "3  2019-10-01  disney  129.919998\n",
       "4  2019-11-01  disney  151.580002\n",
       "5  2019-07-01    nike   86.029999\n",
       "6  2019-08-01    nike   84.500000\n",
       "7  2019-09-01    nike   93.919998\n",
       "8  2019-10-01    nike   89.550003\n",
       "9  2019-11-01    nike   93.489998"
      ]
     },
     "execution_count": 25,
     "metadata": {},
     "output_type": "execute_result"
    }
   ],
   "source": [
    "stocks_long_dict = {\n",
    "    'date': [\n",
    "        '2019-07-01', '2019-08-01', '2019-09-01', '2019-10-01', '2019-11-01',\n",
    "        '2019-07-01', '2019-08-01', '2019-09-01', '2019-10-01', '2019-11-01'\n",
    "    ],\n",
    "    'stock': [\n",
    "        'disney', 'disney', 'disney', 'disney', 'disney',\n",
    "        'nike', 'nike', 'nike', 'nike', 'nike'\n",
    "    ],\n",
    "    'close': [\n",
    "        143.009995, 137.259995, 130.320007, 129.919998, 151.580002,\n",
    "        86.029999, 84.5, 93.919998, 89.550003, 93.489998\n",
    "    ]\n",
    "}\n",
    "\n",
    "stocks_long = pd.DataFrame(stocks_long_dict)\n",
    "stocks_long"
   ]
  },
  {
   "cell_type": "code",
   "execution_count": 26,
   "metadata": {},
   "outputs": [
    {
     "data": {
      "text/html": [
       "<div>\n",
       "<style scoped>\n",
       "    .dataframe tbody tr th:only-of-type {\n",
       "        vertical-align: middle;\n",
       "    }\n",
       "\n",
       "    .dataframe tbody tr th {\n",
       "        vertical-align: top;\n",
       "    }\n",
       "\n",
       "    .dataframe thead th {\n",
       "        text-align: right;\n",
       "    }\n",
       "</style>\n",
       "<table border=\"1\" class=\"dataframe\">\n",
       "  <thead>\n",
       "    <tr style=\"text-align: right;\">\n",
       "      <th></th>\n",
       "      <th>date</th>\n",
       "      <th>stock</th>\n",
       "      <th>close</th>\n",
       "    </tr>\n",
       "  </thead>\n",
       "  <tbody>\n",
       "    <tr>\n",
       "      <th>0</th>\n",
       "      <td>2019-07-01</td>\n",
       "      <td>disney</td>\n",
       "      <td>143.009995</td>\n",
       "    </tr>\n",
       "    <tr>\n",
       "      <th>1</th>\n",
       "      <td>2019-08-01</td>\n",
       "      <td>disney</td>\n",
       "      <td>137.259995</td>\n",
       "    </tr>\n",
       "    <tr>\n",
       "      <th>2</th>\n",
       "      <td>2019-09-01</td>\n",
       "      <td>disney</td>\n",
       "      <td>130.320007</td>\n",
       "    </tr>\n",
       "    <tr>\n",
       "      <th>3</th>\n",
       "      <td>2019-10-01</td>\n",
       "      <td>disney</td>\n",
       "      <td>129.919998</td>\n",
       "    </tr>\n",
       "    <tr>\n",
       "      <th>4</th>\n",
       "      <td>2019-11-01</td>\n",
       "      <td>disney</td>\n",
       "      <td>151.580002</td>\n",
       "    </tr>\n",
       "    <tr>\n",
       "      <th>5</th>\n",
       "      <td>2019-07-01</td>\n",
       "      <td>nike</td>\n",
       "      <td>86.029999</td>\n",
       "    </tr>\n",
       "    <tr>\n",
       "      <th>6</th>\n",
       "      <td>2019-08-01</td>\n",
       "      <td>nike</td>\n",
       "      <td>84.500000</td>\n",
       "    </tr>\n",
       "    <tr>\n",
       "      <th>8</th>\n",
       "      <td>2019-10-01</td>\n",
       "      <td>nike</td>\n",
       "      <td>89.550003</td>\n",
       "    </tr>\n",
       "  </tbody>\n",
       "</table>\n",
       "</div>"
      ],
      "text/plain": [
       "         date   stock       close\n",
       "0  2019-07-01  disney  143.009995\n",
       "1  2019-08-01  disney  137.259995\n",
       "2  2019-09-01  disney  130.320007\n",
       "3  2019-10-01  disney  129.919998\n",
       "4  2019-11-01  disney  151.580002\n",
       "5  2019-07-01    nike   86.029999\n",
       "6  2019-08-01    nike   84.500000\n",
       "8  2019-10-01    nike   89.550003"
      ]
     },
     "execution_count": 26,
     "metadata": {},
     "output_type": "execute_result"
    }
   ],
   "source": [
    "stocks_long.query('stock==\"disney\" or (stock==\"nike\" and close < 90)')"
   ]
  },
  {
   "cell_type": "code",
   "execution_count": null,
   "metadata": {},
   "outputs": [],
   "source": []
  },
  {
   "cell_type": "markdown",
   "metadata": {},
   "source": [
    "**reshaping data with `.melt()`** -  this method unpivot a table from wide (left) to long (right) format [see image below]\n",
    "\n",
    "![format of tables](./image/melt.png)\n",
    "\n",
    "*wide formatted data is easier to read by people than long formatted. however, long formatted data is often more accessible for computers to work with.*\n",
    "\n",
    "\n"
   ]
  },
  {
   "cell_type": "code",
   "execution_count": 27,
   "metadata": {},
   "outputs": [
    {
     "data": {
      "text/html": [
       "<div>\n",
       "<style scoped>\n",
       "    .dataframe tbody tr th:only-of-type {\n",
       "        vertical-align: middle;\n",
       "    }\n",
       "\n",
       "    .dataframe tbody tr th {\n",
       "        vertical-align: top;\n",
       "    }\n",
       "\n",
       "    .dataframe thead th {\n",
       "        text-align: right;\n",
       "    }\n",
       "</style>\n",
       "<table border=\"1\" class=\"dataframe\">\n",
       "  <thead>\n",
       "    <tr style=\"text-align: right;\">\n",
       "      <th></th>\n",
       "      <th>financial</th>\n",
       "      <th>company</th>\n",
       "      <th>2019</th>\n",
       "      <th>2018</th>\n",
       "      <th>2017</th>\n",
       "      <th>2016</th>\n",
       "    </tr>\n",
       "  </thead>\n",
       "  <tbody>\n",
       "    <tr>\n",
       "      <th>0</th>\n",
       "      <td>total_revenue</td>\n",
       "      <td>twitter</td>\n",
       "      <td>3459329</td>\n",
       "      <td>3042359</td>\n",
       "      <td>2443299</td>\n",
       "      <td>2529619</td>\n",
       "    </tr>\n",
       "    <tr>\n",
       "      <th>1</th>\n",
       "      <td>gross_profit</td>\n",
       "      <td>twitter</td>\n",
       "      <td>2322288</td>\n",
       "      <td>2077362</td>\n",
       "      <td>1582057</td>\n",
       "      <td>1597379</td>\n",
       "    </tr>\n",
       "    <tr>\n",
       "      <th>2</th>\n",
       "      <td>net_income</td>\n",
       "      <td>twitter</td>\n",
       "      <td>146569</td>\n",
       "      <td>1205596</td>\n",
       "      <td>-108063</td>\n",
       "      <td>-456873</td>\n",
       "    </tr>\n",
       "    <tr>\n",
       "      <th>3</th>\n",
       "      <td>total_revenue</td>\n",
       "      <td>facebook</td>\n",
       "      <td>70697000</td>\n",
       "      <td>55838000</td>\n",
       "      <td>40653000</td>\n",
       "      <td>27638000</td>\n",
       "    </tr>\n",
       "    <tr>\n",
       "      <th>4</th>\n",
       "      <td>gross_profit</td>\n",
       "      <td>facebook</td>\n",
       "      <td>57927000</td>\n",
       "      <td>46483000</td>\n",
       "      <td>35199000</td>\n",
       "      <td>23849000</td>\n",
       "    </tr>\n",
       "    <tr>\n",
       "      <th>5</th>\n",
       "      <td>net_income</td>\n",
       "      <td>facebook</td>\n",
       "      <td>18485000</td>\n",
       "      <td>22112000</td>\n",
       "      <td>15934000</td>\n",
       "      <td>10217000</td>\n",
       "    </tr>\n",
       "  </tbody>\n",
       "</table>\n",
       "</div>"
      ],
      "text/plain": [
       "       financial   company      2019      2018      2017      2016\n",
       "0  total_revenue   twitter   3459329   3042359   2443299   2529619\n",
       "1   gross_profit   twitter   2322288   2077362   1582057   1597379\n",
       "2     net_income   twitter    146569   1205596   -108063   -456873\n",
       "3  total_revenue  facebook  70697000  55838000  40653000  27638000\n",
       "4   gross_profit  facebook  57927000  46483000  35199000  23849000\n",
       "5     net_income  facebook  18485000  22112000  15934000  10217000"
      ]
     },
     "execution_count": 27,
     "metadata": {},
     "output_type": "execute_result"
    }
   ],
   "source": [
    "social_fin_dict = {\n",
    "    \"financial\": [\"total_revenue\", \"gross_profit\", \"net_income\", \"total_revenue\", \"gross_profit\", \"net_income\"],\n",
    "    \"company\": [\"twitter\", \"twitter\", \"twitter\", \"facebook\", \"facebook\", \"facebook\"],\n",
    "    \"2019\": [3459329, 2322288, 146569, 70697000, 57927000, 18485000],\n",
    "    \"2018\": [3042359, 2077362, 1205596, 55838000, 46483000, 22112000],\n",
    "    \"2017\": [2443299, 1582057, -108063, 40653000, 35199000, 15934000],\n",
    "    \"2016\": [2529619, 1597379, -456873, 27638000, 23849000, 10217000]\n",
    "}\n",
    "\n",
    "social_fin = pd.DataFrame(social_fin_dict)\n",
    "social_fin"
   ]
  },
  {
   "cell_type": "markdown",
   "metadata": {},
   "source": [
    "**comment: notice that the years are horizontal, we want to make the years columns vertical. to avoid changing the `financial` and `company` columns we set them as *identification variables* using the parameter `id_vars=['financial', 'company']`, we can also set the columns we want to pivot using the parameter `value_vars=['2018', '2017']`**"
   ]
  },
  {
   "cell_type": "code",
   "execution_count": 33,
   "metadata": {},
   "outputs": [
    {
     "data": {
      "text/html": [
       "<div>\n",
       "<style scoped>\n",
       "    .dataframe tbody tr th:only-of-type {\n",
       "        vertical-align: middle;\n",
       "    }\n",
       "\n",
       "    .dataframe tbody tr th {\n",
       "        vertical-align: top;\n",
       "    }\n",
       "\n",
       "    .dataframe thead th {\n",
       "        text-align: right;\n",
       "    }\n",
       "</style>\n",
       "<table border=\"1\" class=\"dataframe\">\n",
       "  <thead>\n",
       "    <tr style=\"text-align: right;\">\n",
       "      <th></th>\n",
       "      <th>financial</th>\n",
       "      <th>company</th>\n",
       "      <th>variable</th>\n",
       "      <th>value</th>\n",
       "    </tr>\n",
       "  </thead>\n",
       "  <tbody>\n",
       "    <tr>\n",
       "      <th>0</th>\n",
       "      <td>total_revenue</td>\n",
       "      <td>twitter</td>\n",
       "      <td>2019</td>\n",
       "      <td>3459329</td>\n",
       "    </tr>\n",
       "    <tr>\n",
       "      <th>1</th>\n",
       "      <td>gross_profit</td>\n",
       "      <td>twitter</td>\n",
       "      <td>2019</td>\n",
       "      <td>2322288</td>\n",
       "    </tr>\n",
       "    <tr>\n",
       "      <th>2</th>\n",
       "      <td>net_income</td>\n",
       "      <td>twitter</td>\n",
       "      <td>2019</td>\n",
       "      <td>146569</td>\n",
       "    </tr>\n",
       "    <tr>\n",
       "      <th>3</th>\n",
       "      <td>total_revenue</td>\n",
       "      <td>facebook</td>\n",
       "      <td>2019</td>\n",
       "      <td>70697000</td>\n",
       "    </tr>\n",
       "    <tr>\n",
       "      <th>4</th>\n",
       "      <td>gross_profit</td>\n",
       "      <td>facebook</td>\n",
       "      <td>2019</td>\n",
       "      <td>57927000</td>\n",
       "    </tr>\n",
       "    <tr>\n",
       "      <th>5</th>\n",
       "      <td>net_income</td>\n",
       "      <td>facebook</td>\n",
       "      <td>2019</td>\n",
       "      <td>18485000</td>\n",
       "    </tr>\n",
       "    <tr>\n",
       "      <th>6</th>\n",
       "      <td>total_revenue</td>\n",
       "      <td>twitter</td>\n",
       "      <td>2018</td>\n",
       "      <td>3042359</td>\n",
       "    </tr>\n",
       "    <tr>\n",
       "      <th>7</th>\n",
       "      <td>gross_profit</td>\n",
       "      <td>twitter</td>\n",
       "      <td>2018</td>\n",
       "      <td>2077362</td>\n",
       "    </tr>\n",
       "    <tr>\n",
       "      <th>8</th>\n",
       "      <td>net_income</td>\n",
       "      <td>twitter</td>\n",
       "      <td>2018</td>\n",
       "      <td>1205596</td>\n",
       "    </tr>\n",
       "    <tr>\n",
       "      <th>9</th>\n",
       "      <td>total_revenue</td>\n",
       "      <td>facebook</td>\n",
       "      <td>2018</td>\n",
       "      <td>55838000</td>\n",
       "    </tr>\n",
       "  </tbody>\n",
       "</table>\n",
       "</div>"
      ],
      "text/plain": [
       "       financial   company variable     value\n",
       "0  total_revenue   twitter     2019   3459329\n",
       "1   gross_profit   twitter     2019   2322288\n",
       "2     net_income   twitter     2019    146569\n",
       "3  total_revenue  facebook     2019  70697000\n",
       "4   gross_profit  facebook     2019  57927000\n",
       "5     net_income  facebook     2019  18485000\n",
       "6  total_revenue   twitter     2018   3042359\n",
       "7   gross_profit   twitter     2018   2077362\n",
       "8     net_income   twitter     2018   1205596\n",
       "9  total_revenue  facebook     2018  55838000"
      ]
     },
     "execution_count": 33,
     "metadata": {},
     "output_type": "execute_result"
    }
   ],
   "source": [
    "social_fin_tall = social_fin.melt(id_vars=['financial', 'company'])\n",
    "social_fin_tall.head(10)"
   ]
  },
  {
   "cell_type": "code",
   "execution_count": 31,
   "metadata": {},
   "outputs": [
    {
     "data": {
      "text/html": [
       "<div>\n",
       "<style scoped>\n",
       "    .dataframe tbody tr th:only-of-type {\n",
       "        vertical-align: middle;\n",
       "    }\n",
       "\n",
       "    .dataframe tbody tr th {\n",
       "        vertical-align: top;\n",
       "    }\n",
       "\n",
       "    .dataframe thead th {\n",
       "        text-align: right;\n",
       "    }\n",
       "</style>\n",
       "<table border=\"1\" class=\"dataframe\">\n",
       "  <thead>\n",
       "    <tr style=\"text-align: right;\">\n",
       "      <th></th>\n",
       "      <th>financial</th>\n",
       "      <th>company</th>\n",
       "      <th>variable</th>\n",
       "      <th>value</th>\n",
       "    </tr>\n",
       "  </thead>\n",
       "  <tbody>\n",
       "    <tr>\n",
       "      <th>0</th>\n",
       "      <td>total_revenue</td>\n",
       "      <td>twitter</td>\n",
       "      <td>2018</td>\n",
       "      <td>3042359</td>\n",
       "    </tr>\n",
       "    <tr>\n",
       "      <th>1</th>\n",
       "      <td>gross_profit</td>\n",
       "      <td>twitter</td>\n",
       "      <td>2018</td>\n",
       "      <td>2077362</td>\n",
       "    </tr>\n",
       "    <tr>\n",
       "      <th>2</th>\n",
       "      <td>net_income</td>\n",
       "      <td>twitter</td>\n",
       "      <td>2018</td>\n",
       "      <td>1205596</td>\n",
       "    </tr>\n",
       "    <tr>\n",
       "      <th>3</th>\n",
       "      <td>total_revenue</td>\n",
       "      <td>facebook</td>\n",
       "      <td>2018</td>\n",
       "      <td>55838000</td>\n",
       "    </tr>\n",
       "    <tr>\n",
       "      <th>4</th>\n",
       "      <td>gross_profit</td>\n",
       "      <td>facebook</td>\n",
       "      <td>2018</td>\n",
       "      <td>46483000</td>\n",
       "    </tr>\n",
       "    <tr>\n",
       "      <th>5</th>\n",
       "      <td>net_income</td>\n",
       "      <td>facebook</td>\n",
       "      <td>2018</td>\n",
       "      <td>22112000</td>\n",
       "    </tr>\n",
       "    <tr>\n",
       "      <th>6</th>\n",
       "      <td>total_revenue</td>\n",
       "      <td>twitter</td>\n",
       "      <td>2017</td>\n",
       "      <td>2443299</td>\n",
       "    </tr>\n",
       "    <tr>\n",
       "      <th>7</th>\n",
       "      <td>gross_profit</td>\n",
       "      <td>twitter</td>\n",
       "      <td>2017</td>\n",
       "      <td>1582057</td>\n",
       "    </tr>\n",
       "    <tr>\n",
       "      <th>8</th>\n",
       "      <td>net_income</td>\n",
       "      <td>twitter</td>\n",
       "      <td>2017</td>\n",
       "      <td>-108063</td>\n",
       "    </tr>\n",
       "    <tr>\n",
       "      <th>9</th>\n",
       "      <td>total_revenue</td>\n",
       "      <td>facebook</td>\n",
       "      <td>2017</td>\n",
       "      <td>40653000</td>\n",
       "    </tr>\n",
       "    <tr>\n",
       "      <th>10</th>\n",
       "      <td>gross_profit</td>\n",
       "      <td>facebook</td>\n",
       "      <td>2017</td>\n",
       "      <td>35199000</td>\n",
       "    </tr>\n",
       "    <tr>\n",
       "      <th>11</th>\n",
       "      <td>net_income</td>\n",
       "      <td>facebook</td>\n",
       "      <td>2017</td>\n",
       "      <td>15934000</td>\n",
       "    </tr>\n",
       "  </tbody>\n",
       "</table>\n",
       "</div>"
      ],
      "text/plain": [
       "        financial   company variable     value\n",
       "0   total_revenue   twitter     2018   3042359\n",
       "1    gross_profit   twitter     2018   2077362\n",
       "2      net_income   twitter     2018   1205596\n",
       "3   total_revenue  facebook     2018  55838000\n",
       "4    gross_profit  facebook     2018  46483000\n",
       "5      net_income  facebook     2018  22112000\n",
       "6   total_revenue   twitter     2017   2443299\n",
       "7    gross_profit   twitter     2017   1582057\n",
       "8      net_income   twitter     2017   -108063\n",
       "9   total_revenue  facebook     2017  40653000\n",
       "10   gross_profit  facebook     2017  35199000\n",
       "11     net_income  facebook     2017  15934000"
      ]
     },
     "execution_count": 31,
     "metadata": {},
     "output_type": "execute_result"
    }
   ],
   "source": [
    "social_fin_tall_1817 = social_fin.melt(id_vars=['financial', 'company'],\n",
    "                                       value_vars=['2018','2017'])\n",
    "social_fin_tall_1817"
   ]
  },
  {
   "cell_type": "code",
   "execution_count": 35,
   "metadata": {},
   "outputs": [
    {
     "data": {
      "text/html": [
       "<div>\n",
       "<style scoped>\n",
       "    .dataframe tbody tr th:only-of-type {\n",
       "        vertical-align: middle;\n",
       "    }\n",
       "\n",
       "    .dataframe tbody tr th {\n",
       "        vertical-align: top;\n",
       "    }\n",
       "\n",
       "    .dataframe thead th {\n",
       "        text-align: right;\n",
       "    }\n",
       "</style>\n",
       "<table border=\"1\" class=\"dataframe\">\n",
       "  <thead>\n",
       "    <tr style=\"text-align: right;\">\n",
       "      <th></th>\n",
       "      <th>financial</th>\n",
       "      <th>company</th>\n",
       "      <th>year</th>\n",
       "      <th>dollars</th>\n",
       "    </tr>\n",
       "  </thead>\n",
       "  <tbody>\n",
       "    <tr>\n",
       "      <th>0</th>\n",
       "      <td>total_revenue</td>\n",
       "      <td>twitter</td>\n",
       "      <td>2018</td>\n",
       "      <td>3042359</td>\n",
       "    </tr>\n",
       "    <tr>\n",
       "      <th>1</th>\n",
       "      <td>gross_profit</td>\n",
       "      <td>twitter</td>\n",
       "      <td>2018</td>\n",
       "      <td>2077362</td>\n",
       "    </tr>\n",
       "    <tr>\n",
       "      <th>2</th>\n",
       "      <td>net_income</td>\n",
       "      <td>twitter</td>\n",
       "      <td>2018</td>\n",
       "      <td>1205596</td>\n",
       "    </tr>\n",
       "    <tr>\n",
       "      <th>3</th>\n",
       "      <td>total_revenue</td>\n",
       "      <td>facebook</td>\n",
       "      <td>2018</td>\n",
       "      <td>55838000</td>\n",
       "    </tr>\n",
       "    <tr>\n",
       "      <th>4</th>\n",
       "      <td>gross_profit</td>\n",
       "      <td>facebook</td>\n",
       "      <td>2018</td>\n",
       "      <td>46483000</td>\n",
       "    </tr>\n",
       "    <tr>\n",
       "      <th>5</th>\n",
       "      <td>net_income</td>\n",
       "      <td>facebook</td>\n",
       "      <td>2018</td>\n",
       "      <td>22112000</td>\n",
       "    </tr>\n",
       "    <tr>\n",
       "      <th>6</th>\n",
       "      <td>total_revenue</td>\n",
       "      <td>twitter</td>\n",
       "      <td>2017</td>\n",
       "      <td>2443299</td>\n",
       "    </tr>\n",
       "    <tr>\n",
       "      <th>7</th>\n",
       "      <td>gross_profit</td>\n",
       "      <td>twitter</td>\n",
       "      <td>2017</td>\n",
       "      <td>1582057</td>\n",
       "    </tr>\n",
       "    <tr>\n",
       "      <th>8</th>\n",
       "      <td>net_income</td>\n",
       "      <td>twitter</td>\n",
       "      <td>2017</td>\n",
       "      <td>-108063</td>\n",
       "    </tr>\n",
       "    <tr>\n",
       "      <th>9</th>\n",
       "      <td>total_revenue</td>\n",
       "      <td>facebook</td>\n",
       "      <td>2017</td>\n",
       "      <td>40653000</td>\n",
       "    </tr>\n",
       "    <tr>\n",
       "      <th>10</th>\n",
       "      <td>gross_profit</td>\n",
       "      <td>facebook</td>\n",
       "      <td>2017</td>\n",
       "      <td>35199000</td>\n",
       "    </tr>\n",
       "    <tr>\n",
       "      <th>11</th>\n",
       "      <td>net_income</td>\n",
       "      <td>facebook</td>\n",
       "      <td>2017</td>\n",
       "      <td>15934000</td>\n",
       "    </tr>\n",
       "  </tbody>\n",
       "</table>\n",
       "</div>"
      ],
      "text/plain": [
       "        financial   company  year   dollars\n",
       "0   total_revenue   twitter  2018   3042359\n",
       "1    gross_profit   twitter  2018   2077362\n",
       "2      net_income   twitter  2018   1205596\n",
       "3   total_revenue  facebook  2018  55838000\n",
       "4    gross_profit  facebook  2018  46483000\n",
       "5      net_income  facebook  2018  22112000\n",
       "6   total_revenue   twitter  2017   2443299\n",
       "7    gross_profit   twitter  2017   1582057\n",
       "8      net_income   twitter  2017   -108063\n",
       "9   total_revenue  facebook  2017  40653000\n",
       "10   gross_profit  facebook  2017  35199000\n",
       "11     net_income  facebook  2017  15934000"
      ]
     },
     "execution_count": 35,
     "metadata": {},
     "output_type": "execute_result"
    }
   ],
   "source": [
    "# option to change the column names \n",
    "\n",
    "social_fin_tall_1817 = social_fin.melt(id_vars=['financial', 'company'],\n",
    "                                       value_vars=['2018','2017'],\n",
    "                                       var_name='year',         # change \"variable\" -> \"year\"\n",
    "                                       value_name='dollars')    # change \"value\" -> \"dollars\"\n",
    "social_fin_tall_1817"
   ]
  },
  {
   "cell_type": "code",
   "execution_count": null,
   "metadata": {},
   "outputs": [],
   "source": []
  },
  {
   "cell_type": "markdown",
   "metadata": {},
   "source": [
    "# Introduction to statistics in python"
   ]
  },
  {
   "cell_type": "markdown",
   "metadata": {},
   "source": [
    "\n",
    "### what is statistics?\n",
    "- the field of statistics: the practice and study of collecting and analyzing data\n",
    "- a summary statistic: a fact about or summary of some data\n",
    "\n",
    "**what can statistics do?** <br>\n",
    "some questions statistics can help us solve:\n",
    "- how likely is someone to purchase a product? are people more likely to purchase it if they can use a different payment system?\n",
    "- how many occupants will your hotel have? how can you optimize occumpancy?\n",
    "- how many sizes of jeans need to be manufactured so they can fit 95% of the population? should the same number of each size be produced?\n",
    "- A/B test: which ad is more effective in getting people to purchase a product?\n",
    "\n",
    "**what can't stats do?** <br>\n",
    "- why is game of thrones so popular?\n",
    "**instead..**\n",
    "- are series with more violent scenes viewed by more people?\n",
    "**but...**\n",
    "- even so, this can't tell us if more violent scenes lead to more views\n",
    "\n",
    "**types of statistics**\n",
    "| descriptive statistics | inferential statistics |\n",
    "|------------------------|------------------------|\n",
    "| describe and summarize data | use a sample of data to make inferences about a larger population |\n",
    "| *examples:* 1. 50% of friends drive to work 2. 25% take teh bus 3. 25% bike | *example:* what percent of people drive to work |\n",
    "\n",
    "<br>\n",
    "\n",
    "| descriptive examples | inferential examples |\n",
    "|----------------------|----------------------|\n",
    "| given data on every customer service request made what's the average time it took to respond? | after interviewing 100 customers, what percent of all your customers are satistfied with your product? |\n",
    "| given data on all 100,000 people who viewed an ad, what percent of people clicked on it? | given data on 20 fish caught in a lake, what's the average weight of all fish in the lake? |\n",
    "\n",
    "**most common types of data**\n",
    "**numeric (quantitative) --> scatter plot**\n",
    "- continuos (measured): eg: airplane speed, time spent waiting in line\n",
    "- discrete (counted): eg: number of pets, number of packages shipped\n",
    "\n",
    "**categorical (qualitative) -->  bar plot**\n",
    "- nominal (unordered): eg: married / unmarried, country of residence\n",
    "- ordinal (ordered): eg: poor (0) / okay (1) / good (2) / excellent (3)\n",
    "\n",
    "\n",
    "\n"
   ]
  },
  {
   "cell_type": "markdown",
   "metadata": {},
   "source": [
    "### measure of center\n",
    "\n",
    "| mean | median | mode |\n",
    "|------|--------|------|\n",
    "| `np.mean()` | `np.median()` | `statistics.mode()` |\n",
    "| average of the all the values | most central point of all the values | most occuring data point among all the data |\n",
    "| sensitive to outliers. that implies that the value of the *mean* changes significantly if there's an anomally in the dataset | less sensitive to outliers. that implies that, values considered as anomallies don't really affect the value of the median as much |  |\n",
    "| use the mean to describe the center of a distribution if the data is symmetric | use the median to describe the center of a distribution if the data is skewed |  |\n",
    "\n",
    "\n",
    "\n",
    "**NB: the mean is always closer to the skewed point when compared to the median. i.e: left skewed - mean < median ||| right skewed - mean > median**\n"
   ]
  },
  {
   "cell_type": "markdown",
   "metadata": {},
   "source": [
    "### measure of spread\n",
    "how spread apart or close together the data points are \n",
    "\n",
    "**variance** - average distance from each data point to the data's mean. the higher the variance the more spread out the data is. `np.var(column, ddof=1)` is used for a sample and option `ddof=0` is used for a population\n",
    "\n",
    "**standard deviation** - takes the square root of the variance. `np.std(column, ddof=1)`. std penalizes longer distances more than shorter ones\n",
    "\n",
    "**mean absolute deviation** - takes the absolute value of the distances to the mean. `np.mean(np.abs( column - np.mean(column) ))`. mad penalizes each distance equally\n",
    "\n",
    "**quantiles**\n",
    "`np.quantile(column, [%])` eg: `np.quantile(column, 0.5)` is the 0.5 quantile which is the median\n",
    "\n",
    "**interquartile range (iqr)**\n",
    "- `np.quantile(column, .75) - np.quantile(column, .25)`\n",
    "- `scipy.stats.iqr(column)`\n",
    "\n",
    "**outliers** - data point that is substantially different from the others... *substantially different means:*\n",
    "- data point(s) < Q1 - 1.5 X IQR \n",
    "- data point(s) > Q3 + 1.5 X IQR\n"
   ]
  },
  {
   "cell_type": "code",
   "execution_count": 2,
   "metadata": {},
   "outputs": [
    {
     "name": "stdout",
     "output_type": "stream",
     "text": [
      " actors_movies.csv   food_consumption.csv   taglines.p\n",
      " amir_deals.csv      land_use.p             taxi_owners.p\n",
      " automobile.csv      licenses.p             taxi_vehicles.p\n",
      " business_owners.p   movies.p               ward.p\n",
      " casts.p             movie_to_genres.p      WorldBank_GDP.csv\n",
      " census.p            ratings.p              WorldBank_POP.csv\n",
      " crews.p             sequels.p              world_happiness.csv\n",
      " cta_calendar.p     'S&P500.csv'            zip_demo.p\n",
      " cta_ridership.p     stations.p\n",
      " financials.p        \u001b[0m\u001b[01;32mstudent_mat.csv\u001b[0m*\n"
     ]
    }
   ],
   "source": [
    "ls dataset/"
   ]
  },
  {
   "cell_type": "code",
   "execution_count": 7,
   "metadata": {},
   "outputs": [],
   "source": [
    "import pandas as pd "
   ]
  },
  {
   "cell_type": "code",
   "execution_count": 8,
   "metadata": {},
   "outputs": [
    {
     "data": {
      "text/html": [
       "<div>\n",
       "<style scoped>\n",
       "    .dataframe tbody tr th:only-of-type {\n",
       "        vertical-align: middle;\n",
       "    }\n",
       "\n",
       "    .dataframe tbody tr th {\n",
       "        vertical-align: top;\n",
       "    }\n",
       "\n",
       "    .dataframe thead th {\n",
       "        text-align: right;\n",
       "    }\n",
       "</style>\n",
       "<table border=\"1\" class=\"dataframe\">\n",
       "  <thead>\n",
       "    <tr style=\"text-align: right;\">\n",
       "      <th></th>\n",
       "      <th>Unnamed: 0</th>\n",
       "      <th>product</th>\n",
       "      <th>client</th>\n",
       "      <th>status</th>\n",
       "      <th>amount</th>\n",
       "      <th>num_users</th>\n",
       "    </tr>\n",
       "  </thead>\n",
       "  <tbody>\n",
       "    <tr>\n",
       "      <th>0</th>\n",
       "      <td>1</td>\n",
       "      <td>Product F</td>\n",
       "      <td>Current</td>\n",
       "      <td>Won</td>\n",
       "      <td>7389.52</td>\n",
       "      <td>19</td>\n",
       "    </tr>\n",
       "    <tr>\n",
       "      <th>1</th>\n",
       "      <td>2</td>\n",
       "      <td>Product C</td>\n",
       "      <td>New</td>\n",
       "      <td>Won</td>\n",
       "      <td>4493.01</td>\n",
       "      <td>43</td>\n",
       "    </tr>\n",
       "    <tr>\n",
       "      <th>2</th>\n",
       "      <td>3</td>\n",
       "      <td>Product B</td>\n",
       "      <td>New</td>\n",
       "      <td>Won</td>\n",
       "      <td>5738.09</td>\n",
       "      <td>87</td>\n",
       "    </tr>\n",
       "  </tbody>\n",
       "</table>\n",
       "</div>"
      ],
      "text/plain": [
       "   Unnamed: 0    product   client status   amount  num_users\n",
       "0           1  Product F  Current    Won  7389.52         19\n",
       "1           2  Product C      New    Won  4493.01         43\n",
       "2           3  Product B      New    Won  5738.09         87"
      ]
     },
     "execution_count": 8,
     "metadata": {},
     "output_type": "execute_result"
    }
   ],
   "source": [
    "df1 = pd.read_csv('./dataset/amir_deals.csv')\n",
    "df1.head(3)"
   ]
  },
  {
   "cell_type": "code",
   "execution_count": 9,
   "metadata": {},
   "outputs": [
    {
     "data": {
      "text/html": [
       "<div>\n",
       "<style scoped>\n",
       "    .dataframe tbody tr th:only-of-type {\n",
       "        vertical-align: middle;\n",
       "    }\n",
       "\n",
       "    .dataframe tbody tr th {\n",
       "        vertical-align: top;\n",
       "    }\n",
       "\n",
       "    .dataframe thead th {\n",
       "        text-align: right;\n",
       "    }\n",
       "</style>\n",
       "<table border=\"1\" class=\"dataframe\">\n",
       "  <thead>\n",
       "    <tr style=\"text-align: right;\">\n",
       "      <th></th>\n",
       "      <th>Unnamed: 0</th>\n",
       "      <th>country</th>\n",
       "      <th>food_category</th>\n",
       "      <th>consumption</th>\n",
       "      <th>co2_emission</th>\n",
       "    </tr>\n",
       "  </thead>\n",
       "  <tbody>\n",
       "    <tr>\n",
       "      <th>0</th>\n",
       "      <td>1</td>\n",
       "      <td>Argentina</td>\n",
       "      <td>pork</td>\n",
       "      <td>10.51</td>\n",
       "      <td>37.20</td>\n",
       "    </tr>\n",
       "    <tr>\n",
       "      <th>1</th>\n",
       "      <td>2</td>\n",
       "      <td>Argentina</td>\n",
       "      <td>poultry</td>\n",
       "      <td>38.66</td>\n",
       "      <td>41.53</td>\n",
       "    </tr>\n",
       "    <tr>\n",
       "      <th>2</th>\n",
       "      <td>3</td>\n",
       "      <td>Argentina</td>\n",
       "      <td>beef</td>\n",
       "      <td>55.48</td>\n",
       "      <td>1712.00</td>\n",
       "    </tr>\n",
       "  </tbody>\n",
       "</table>\n",
       "</div>"
      ],
      "text/plain": [
       "   Unnamed: 0    country food_category  consumption  co2_emission\n",
       "0           1  Argentina          pork        10.51         37.20\n",
       "1           2  Argentina       poultry        38.66         41.53\n",
       "2           3  Argentina          beef        55.48       1712.00"
      ]
     },
     "execution_count": 9,
     "metadata": {},
     "output_type": "execute_result"
    }
   ],
   "source": [
    "df2 = pd.read_csv('./dataset/food_consumption.csv')\n",
    "df2.head(3)"
   ]
  },
  {
   "cell_type": "code",
   "execution_count": 10,
   "metadata": {},
   "outputs": [
    {
     "data": {
      "text/html": [
       "<div>\n",
       "<style scoped>\n",
       "    .dataframe tbody tr th:only-of-type {\n",
       "        vertical-align: middle;\n",
       "    }\n",
       "\n",
       "    .dataframe tbody tr th {\n",
       "        vertical-align: top;\n",
       "    }\n",
       "\n",
       "    .dataframe thead th {\n",
       "        text-align: right;\n",
       "    }\n",
       "</style>\n",
       "<table border=\"1\" class=\"dataframe\">\n",
       "  <thead>\n",
       "    <tr style=\"text-align: right;\">\n",
       "      <th></th>\n",
       "      <th>Unnamed: 0</th>\n",
       "      <th>country</th>\n",
       "      <th>social_support</th>\n",
       "      <th>freedom</th>\n",
       "      <th>corruption</th>\n",
       "      <th>generosity</th>\n",
       "      <th>gdp_per_cap</th>\n",
       "      <th>life_exp</th>\n",
       "      <th>happiness_score</th>\n",
       "    </tr>\n",
       "  </thead>\n",
       "  <tbody>\n",
       "    <tr>\n",
       "      <th>0</th>\n",
       "      <td>1</td>\n",
       "      <td>Finland</td>\n",
       "      <td>2.0</td>\n",
       "      <td>5.0</td>\n",
       "      <td>4.0</td>\n",
       "      <td>47.0</td>\n",
       "      <td>42400</td>\n",
       "      <td>81.8</td>\n",
       "      <td>155</td>\n",
       "    </tr>\n",
       "    <tr>\n",
       "      <th>1</th>\n",
       "      <td>2</td>\n",
       "      <td>Denmark</td>\n",
       "      <td>4.0</td>\n",
       "      <td>6.0</td>\n",
       "      <td>3.0</td>\n",
       "      <td>22.0</td>\n",
       "      <td>48300</td>\n",
       "      <td>81.0</td>\n",
       "      <td>154</td>\n",
       "    </tr>\n",
       "    <tr>\n",
       "      <th>2</th>\n",
       "      <td>3</td>\n",
       "      <td>Norway</td>\n",
       "      <td>3.0</td>\n",
       "      <td>3.0</td>\n",
       "      <td>8.0</td>\n",
       "      <td>11.0</td>\n",
       "      <td>66300</td>\n",
       "      <td>82.6</td>\n",
       "      <td>153</td>\n",
       "    </tr>\n",
       "  </tbody>\n",
       "</table>\n",
       "</div>"
      ],
      "text/plain": [
       "   Unnamed: 0  country  social_support  freedom  corruption  generosity  \\\n",
       "0           1  Finland             2.0      5.0         4.0        47.0   \n",
       "1           2  Denmark             4.0      6.0         3.0        22.0   \n",
       "2           3   Norway             3.0      3.0         8.0        11.0   \n",
       "\n",
       "   gdp_per_cap  life_exp  happiness_score  \n",
       "0        42400      81.8              155  \n",
       "1        48300      81.0              154  \n",
       "2        66300      82.6              153  "
      ]
     },
     "execution_count": 10,
     "metadata": {},
     "output_type": "execute_result"
    }
   ],
   "source": [
    "df3 = pd.read_csv('./dataset/world_happiness.csv')\n",
    "df3.head(3)"
   ]
  },
  {
   "cell_type": "code",
   "execution_count": null,
   "metadata": {},
   "outputs": [],
   "source": []
  },
  {
   "cell_type": "code",
   "execution_count": null,
   "metadata": {},
   "outputs": [],
   "source": []
  },
  {
   "cell_type": "code",
   "execution_count": null,
   "metadata": {},
   "outputs": [],
   "source": []
  },
  {
   "cell_type": "code",
   "execution_count": null,
   "metadata": {},
   "outputs": [],
   "source": []
  },
  {
   "cell_type": "code",
   "execution_count": null,
   "metadata": {},
   "outputs": [],
   "source": []
  },
  {
   "cell_type": "code",
   "execution_count": null,
   "metadata": {},
   "outputs": [],
   "source": []
  },
  {
   "cell_type": "code",
   "execution_count": null,
   "metadata": {},
   "outputs": [],
   "source": []
  },
  {
   "cell_type": "code",
   "execution_count": null,
   "metadata": {},
   "outputs": [],
   "source": []
  },
  {
   "cell_type": "code",
   "execution_count": null,
   "metadata": {},
   "outputs": [],
   "source": []
  },
  {
   "cell_type": "code",
   "execution_count": null,
   "metadata": {},
   "outputs": [],
   "source": []
  },
  {
   "cell_type": "code",
   "execution_count": null,
   "metadata": {},
   "outputs": [],
   "source": []
  },
  {
   "cell_type": "code",
   "execution_count": null,
   "metadata": {},
   "outputs": [],
   "source": []
  },
  {
   "cell_type": "code",
   "execution_count": null,
   "metadata": {},
   "outputs": [],
   "source": []
  },
  {
   "cell_type": "code",
   "execution_count": null,
   "metadata": {},
   "outputs": [],
   "source": []
  },
  {
   "cell_type": "code",
   "execution_count": null,
   "metadata": {},
   "outputs": [],
   "source": []
  },
  {
   "cell_type": "code",
   "execution_count": null,
   "metadata": {},
   "outputs": [],
   "source": []
  },
  {
   "cell_type": "code",
   "execution_count": null,
   "metadata": {},
   "outputs": [],
   "source": []
  },
  {
   "cell_type": "code",
   "execution_count": null,
   "metadata": {},
   "outputs": [],
   "source": []
  },
  {
   "cell_type": "code",
   "execution_count": null,
   "metadata": {},
   "outputs": [],
   "source": []
  },
  {
   "cell_type": "code",
   "execution_count": null,
   "metadata": {},
   "outputs": [],
   "source": []
  },
  {
   "cell_type": "code",
   "execution_count": null,
   "metadata": {},
   "outputs": [],
   "source": []
  },
  {
   "cell_type": "code",
   "execution_count": null,
   "metadata": {},
   "outputs": [],
   "source": []
  }
 ],
 "metadata": {
  "kernelspec": {
   "display_name": "codes",
   "language": "python",
   "name": "python3"
  },
  "language_info": {
   "codemirror_mode": {
    "name": "ipython",
    "version": 3
   },
   "file_extension": ".py",
   "mimetype": "text/x-python",
   "name": "python",
   "nbconvert_exporter": "python",
   "pygments_lexer": "ipython3",
   "version": "3.10.12"
  }
 },
 "nbformat": 4,
 "nbformat_minor": 2
}
